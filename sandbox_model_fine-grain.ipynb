{
 "cells": [
  {
   "cell_type": "code",
   "execution_count": 1,
   "metadata": {},
   "outputs": [],
   "source": [
    "from transformers import DistilBertTokenizerFast\n",
    "from transformers import DistilBertForTokenClassification\n",
    "from transformers import EarlyStoppingCallback\n",
    "\n",
    "from transformers import DistilBertForSequenceClassification, Trainer, TrainingArguments\n",
    "from sklearn.metrics import accuracy_score, precision_recall_fscore_support\n",
    "import os\n",
    "\n",
    "import torch\n",
    "\n",
    "from glob import glob\n",
    "import pandas as pd\n",
    "import csv\n",
    "import pickle\n",
    "import numpy as np\n",
    "import random\n",
    "import collections\n",
    "\n",
    "import warnings\n",
    "warnings.filterwarnings(\"ignore\", category=UserWarning)"
   ]
  },
  {
   "cell_type": "code",
   "execution_count": 2,
   "metadata": {},
   "outputs": [
    {
     "name": "stdout",
     "output_type": "stream",
     "text": [
      "[ Using Seed :  42  ]\n"
     ]
    }
   ],
   "source": [
    "def seed_all(seed):\n",
    "    if not seed:\n",
    "        seed = 10\n",
    "\n",
    "    print(\"[ Using Seed : \", seed, \" ]\")\n",
    "\n",
    "    torch.manual_seed(seed)\n",
    "    torch.cuda.manual_seed_all(seed)\n",
    "    torch.cuda.manual_seed(seed)\n",
    "    np.random.seed(seed)\n",
    "    random.seed(seed)\n",
    "    torch.backends.cudnn.deterministic = True\n",
    "    torch.backends.cudnn.benchmark = False\n",
    "    \n",
    "seed_all(42)"
   ]
  },
  {
   "cell_type": "code",
   "execution_count": null,
   "metadata": {},
   "outputs": [],
   "source": []
  },
  {
   "cell_type": "code",
   "execution_count": 3,
   "metadata": {},
   "outputs": [],
   "source": [
    "suffix = '_fine_grain'\n",
    "train_texts, train_tags = pickle.load(open(f'data/parsed_webis_train{suffix}.pkl', 'rb'))\n",
    "val_texts, val_tags = pickle.load(open(f'data/parsed_webis_dev{suffix}.pkl', 'rb'))\n",
    "test_texts, test_tags = pickle.load(open(f'data/parsed_webis_test{suffix}.pkl', 'rb'))\n"
   ]
  },
  {
   "cell_type": "code",
   "execution_count": 4,
   "metadata": {},
   "outputs": [],
   "source": [
    "#drop the one long doc\n",
    "train_texts = [txt for txt in train_texts if len(txt) <= 512]\n",
    "train_tags = [t for t in train_tags if len(t) <= 512]\n"
   ]
  },
  {
   "cell_type": "code",
   "execution_count": 5,
   "metadata": {},
   "outputs": [
    {
     "name": "stdout",
     "output_type": "stream",
     "text": [
      "==============\n",
      "#chunks: 2727\n",
      "average length: 57.7\n",
      "99% length: 150.0\n",
      "max length: 367.0\n",
      "B-anecdote: 1558\n",
      "B-assumption: 4845\n",
      "B-common-ground: 165\n",
      "B-other: 50\n",
      "B-statistics: 267\n",
      "B-testimony: 527\n",
      "I-anecdote: 29059\n",
      "I-assumption: 84654\n",
      "I-common-ground: 2154\n",
      "I-other: 501\n",
      "I-statistics: 5129\n",
      "I-testimony: 14920\n",
      "O: 13597\n",
      "==============\n",
      "#chunks: 752\n",
      "average length: 71.4\n",
      "99% length: 179.0\n",
      "max length: 336.0\n",
      "B-anecdote: 467\n",
      "B-assumption: 1854\n",
      "B-common-ground: 37\n",
      "B-other: 40\n",
      "B-statistics: 65\n",
      "B-testimony: 93\n",
      "I-anecdote: 8371\n",
      "I-assumption: 32559\n",
      "I-common-ground: 509\n",
      "I-other: 507\n",
      "I-statistics: 1189\n",
      "I-testimony: 2420\n",
      "O: 5566\n",
      "==============\n",
      "#chunks: 843\n",
      "average length: 61.4\n",
      "99% length: 200.6\n",
      "max length: 280.0\n",
      "B-anecdote: 451\n",
      "B-assumption: 1741\n",
      "B-common-ground: 29\n",
      "B-other: 15\n",
      "B-statistics: 81\n",
      "B-testimony: 154\n",
      "I-anecdote: 8680\n",
      "I-assumption: 29246\n",
      "I-common-ground: 312\n",
      "I-other: 186\n",
      "I-statistics: 1679\n",
      "I-testimony: 4094\n",
      "O: 5081\n"
     ]
    }
   ],
   "source": [
    "#report stats here\n",
    "def report_stats(tags):\n",
    "    print('==============')\n",
    "    length = [len(t) for t in tags]\n",
    "    print(f'#chunks: {len(tags)}')\n",
    "    print(f'average length: {np.mean(length):.1f}')\n",
    "    print(f'99% length: {np.percentile(length, [99])[0]:.1f}')\n",
    "    print(f'max length: {np.percentile(length, [100])[0]:.1f}')\n",
    "    counter = collections.defaultdict(int)\n",
    "    \n",
    "    for t in tags:\n",
    "        for key in set(t):\n",
    "            counter[key] += t.count(key)\n",
    "    for key in sorted(counter.keys()):\n",
    "        print(f'{key}: {counter[key]}')\n",
    "\n",
    "report_stats(train_tags)\n",
    "report_stats(val_tags)\n",
    "report_stats(test_tags)"
   ]
  },
  {
   "cell_type": "code",
   "execution_count": 6,
   "metadata": {},
   "outputs": [
    {
     "name": "stdout",
     "output_type": "stream",
     "text": [
      "{0: 'B-testimony', 1: 'B-common-ground', 2: 'B-statistics', 3: 'B-other', 4: 'I-common-ground', 5: 'I-statistics', 6: 'B-assumption', 7: 'I-assumption', 8: 'O', 9: 'I-anecdote', 10: 'I-other', 11: 'I-testimony', 12: 'B-anecdote'}\n"
     ]
    }
   ],
   "source": [
    "tags = train_tags + val_tags + test_tags\n",
    "unique_tags = set(tag for doc in tags for tag in doc)\n",
    "tag2id = {tag: id for id, tag in enumerate(unique_tags)}\n",
    "id2tag = {id: tag for tag, id in tag2id.items()}\n",
    "print(id2tag)"
   ]
  },
  {
   "cell_type": "code",
   "execution_count": 7,
   "metadata": {},
   "outputs": [],
   "source": [
    "#tokenize the texts\n",
    "tokenizer = DistilBertTokenizerFast.from_pretrained('distilbert-base-cased')\n",
    "train_encodings = tokenizer(train_texts, is_split_into_words=True, return_offsets_mapping=True, padding=True, truncation=True)\n",
    "val_encodings = tokenizer(val_texts, is_split_into_words=True, return_offsets_mapping=True, padding=True, truncation=True)\n",
    "test_encodings = tokenizer(test_texts, is_split_into_words=True, return_offsets_mapping=True, padding=True, truncation=True)"
   ]
  },
  {
   "cell_type": "code",
   "execution_count": 8,
   "metadata": {},
   "outputs": [],
   "source": [
    "def encode_tags(tgs, encodings):\n",
    "    labels = [[tag2id[tag] for tag in doc] for doc in tgs]\n",
    "    encoded_labels = []\n",
    "    for doc_labels, doc_offset in zip(labels, encodings.offset_mapping):\n",
    "        # create an empty array of -100\n",
    "        doc_enc_labels = np.ones(len(doc_offset),dtype=int) * -100\n",
    "        arr_offset = np.array(doc_offset)\n",
    "        \n",
    "        # set labels whose first offset position is 0 and the second is not 0\n",
    "        doc_enc_labels[(arr_offset[:,0] == 0) & (arr_offset[:,1] != 0)] = doc_labels\n",
    "        \n",
    "        encoded_labels.append(doc_enc_labels.tolist())\n",
    "        \n",
    "        \n",
    "    return encoded_labels\n",
    "\n",
    "train_labels = encode_tags(train_tags, train_encodings)\n",
    "val_labels = encode_tags(val_tags, val_encodings)\n",
    "test_labels = encode_tags(test_tags, test_encodings)"
   ]
  },
  {
   "cell_type": "code",
   "execution_count": 9,
   "metadata": {},
   "outputs": [],
   "source": [
    "\n",
    "\n",
    "class WebisDataset(torch.utils.data.Dataset):\n",
    "    def __init__(self, encodings, labels):\n",
    "        self.encodings = encodings\n",
    "        self.labels = labels\n",
    "\n",
    "    def __getitem__(self, idx):\n",
    "        item = {key: torch.tensor(val[idx]) for key, val in self.encodings.items()}\n",
    "        item['labels'] = torch.tensor(self.labels[idx])\n",
    "        return item\n",
    "\n",
    "    def __len__(self):\n",
    "        return len(self.labels)\n",
    "\n",
    "train_encodings.pop(\"offset_mapping\") # we don't want to pass this to the model\n",
    "val_encodings.pop(\"offset_mapping\")\n",
    "test_encodings.pop(\"offset_mapping\")\n",
    "\n",
    "train_dataset = WebisDataset(train_encodings, train_labels)\n",
    "val_dataset = WebisDataset(val_encodings, val_labels)\n",
    "test_dataset = WebisDataset(test_encodings, test_labels)\n",
    "\n"
   ]
  },
  {
   "cell_type": "code",
   "execution_count": 10,
   "metadata": {},
   "outputs": [
    {
     "name": "stderr",
     "output_type": "stream",
     "text": [
      "Some weights of the model checkpoint at distilbert-base-cased were not used when initializing DistilBertForTokenClassification: ['vocab_transform.weight', 'vocab_transform.bias', 'vocab_layer_norm.weight', 'vocab_layer_norm.bias', 'vocab_projector.weight', 'vocab_projector.bias']\n",
      "- This IS expected if you are initializing DistilBertForTokenClassification from the checkpoint of a model trained on another task or with another architecture (e.g. initializing a BertForSequenceClassification model from a BertForPreTraining model).\n",
      "- This IS NOT expected if you are initializing DistilBertForTokenClassification from the checkpoint of a model that you expect to be exactly identical (initializing a BertForSequenceClassification model from a BertForSequenceClassification model).\n",
      "Some weights of DistilBertForTokenClassification were not initialized from the model checkpoint at distilbert-base-cased and are newly initialized: ['classifier.weight', 'classifier.bias']\n",
      "You should probably TRAIN this model on a down-stream task to be able to use it for predictions and inference.\n"
     ]
    }
   ],
   "source": [
    "\n",
    "model = DistilBertForTokenClassification.from_pretrained('distilbert-base-cased', num_labels=len(unique_tags))"
   ]
  },
  {
   "cell_type": "code",
   "execution_count": 11,
   "metadata": {},
   "outputs": [],
   "source": [
    "\n",
    "early_stopping = EarlyStoppingCallback(early_stopping_patience=10)\n",
    "def compute_metrics(pred):\n",
    "    labels = pred.label_ids.flatten()\n",
    "    preds = pred.predictions.argmax(-1).flatten()\n",
    "    z = zip(labels, preds)\n",
    "    z = [item for item in z if item[0] != -100]\n",
    "    labels = np.array([item[0] for item in z])\n",
    "    preds = np.array([item[1] for item in z])\n",
    "    \n",
    "    \n",
    "    \n",
    "    precision, recall, f1, _ = precision_recall_fscore_support(labels, preds, average='macro')\n",
    "    acc = accuracy_score(labels, preds)\n",
    "    return {\n",
    "        'acc': acc,\n",
    "        'f1_macro': f1,\n",
    "        'p_macro': precision,\n",
    "        'r_macro': recall\n",
    "    }\n",
    "\n",
    "# def compute_metrics(pred):\n",
    "#     labels = pred.label_ids.flatten()\n",
    "#     preds = pred.predictions.argmax(-1).flatten()\n",
    "#     z = zip(labels, preds)\n",
    "#     z = [item for item in z if item[0] != -100]\n",
    "#     labels = np.array([item[0] for item in z])\n",
    "#     preds = np.array([item[1] for item in z])\n",
    "    \n",
    "#     l_0 = np.array([1 if item[0]==0 else 0 for item in z])\n",
    "#     p_0 = np.array([1 if item[1]==0 else 0 for item in z])\n",
    "    \n",
    "#     l_1 = np.array([1 if item[0]==1 else 0 for item in z])\n",
    "#     p_1 = np.array([1 if item[1]==1 else 0 for item in z])\n",
    "    \n",
    "#     l_2 = np.array([1 if item[0]==2 else 0 for item in z])\n",
    "#     p_2 = np.array([1 if item[1]==2 else 0 for item in z])\n",
    "    \n",
    "#     precision, recall, f1, _ = precision_recall_fscore_support(labels, preds, average='macro')\n",
    "#     p_0, r_0, f1_0, _ = precision_recall_fscore_support(l_0, p_0, average='binary')\n",
    "#     p_1, r_1, f1_1, _ = precision_recall_fscore_support(l_1, p_1, average='binary')\n",
    "#     p_2, r_2, f1_2, _ = precision_recall_fscore_support(l_2, p_2, average='binary')\n",
    "    \n",
    "#     acc = accuracy_score(labels, preds)\n",
    "#     return {\n",
    "#         'acc': acc,\n",
    "#         'f1_macro': f1,\n",
    "#         'p_macro': precision,\n",
    "#         'r_macro': recall,\n",
    "#         'f1_0': f1_0,\n",
    "#         'p_0': p_0,\n",
    "#         'r_0': r_0,\n",
    "#         'f1_1': f1_1,\n",
    "#         'p_1': p_1,\n",
    "#         'r_1': r_1,\n",
    "#         'f1_2': f1_2,\n",
    "#         'p_2': p_2,\n",
    "#         'r_2': r_2,\n",
    "#     }\n",
    "\n",
    "\n",
    "training_args = TrainingArguments(\n",
    "    output_dir=f'./results{suffix}',         \n",
    "    num_train_epochs=30,              \n",
    "    per_device_train_batch_size=16, \n",
    "    per_device_eval_batch_size=64, \n",
    "    warmup_steps=100,                \n",
    "    weight_decay=0.005,           \n",
    "    logging_dir=f'./logs{suffix}', \n",
    "    logging_steps=5,\n",
    "    evaluation_strategy='steps',\n",
    "    eval_steps=5,\n",
    "    load_best_model_at_end=True,\n",
    "    metric_for_best_model='eval_f1_macro'\n",
    ")\n",
    "\n",
    "\n",
    "\n"
   ]
  },
  {
   "cell_type": "code",
   "execution_count": 12,
   "metadata": {
    "scrolled": true
   },
   "outputs": [
    {
     "data": {
      "text/html": [
       "\n",
       "    <div>\n",
       "        <style>\n",
       "            /* Turns off some styling */\n",
       "            progress {\n",
       "                /* gets rid of default border in Firefox and Opera. */\n",
       "                border: none;\n",
       "                /* Needs to be in here for Safari polyfill so background images work as expected. */\n",
       "                background-size: auto;\n",
       "            }\n",
       "        </style>\n",
       "      \n",
       "      <progress value='490' max='660' style='width:300px; height:20px; vertical-align: middle;'></progress>\n",
       "      [490/660 06:58 < 02:25, 1.16 it/s, Epoch 22/30]\n",
       "    </div>\n",
       "    <table border=\"1\" class=\"dataframe\">\n",
       "  <thead>\n",
       "    <tr style=\"text-align: left;\">\n",
       "      <th>Step</th>\n",
       "      <th>Training Loss</th>\n",
       "      <th>Validation Loss</th>\n",
       "      <th>Acc</th>\n",
       "      <th>F1 Macro</th>\n",
       "      <th>P Macro</th>\n",
       "      <th>R Macro</th>\n",
       "      <th>Runtime</th>\n",
       "      <th>Samples Per Second</th>\n",
       "    </tr>\n",
       "  </thead>\n",
       "  <tbody>\n",
       "    <tr>\n",
       "      <td>5</td>\n",
       "      <td>2.534900</td>\n",
       "      <td>2.477056</td>\n",
       "      <td>0.104924</td>\n",
       "      <td>0.039522</td>\n",
       "      <td>0.078990</td>\n",
       "      <td>0.077312</td>\n",
       "      <td>0.779300</td>\n",
       "      <td>964.914000</td>\n",
       "    </tr>\n",
       "    <tr>\n",
       "      <td>10</td>\n",
       "      <td>2.465100</td>\n",
       "      <td>2.372874</td>\n",
       "      <td>0.275891</td>\n",
       "      <td>0.062483</td>\n",
       "      <td>0.083850</td>\n",
       "      <td>0.085365</td>\n",
       "      <td>0.751300</td>\n",
       "      <td>1000.995000</td>\n",
       "    </tr>\n",
       "    <tr>\n",
       "      <td>15</td>\n",
       "      <td>2.356100</td>\n",
       "      <td>2.194166</td>\n",
       "      <td>0.548391</td>\n",
       "      <td>0.070059</td>\n",
       "      <td>0.095114</td>\n",
       "      <td>0.080789</td>\n",
       "      <td>0.715400</td>\n",
       "      <td>1051.095000</td>\n",
       "    </tr>\n",
       "    <tr>\n",
       "      <td>20</td>\n",
       "      <td>2.162600</td>\n",
       "      <td>1.931829</td>\n",
       "      <td>0.605678</td>\n",
       "      <td>0.060647</td>\n",
       "      <td>0.109954</td>\n",
       "      <td>0.077918</td>\n",
       "      <td>0.667200</td>\n",
       "      <td>1127.162000</td>\n",
       "    </tr>\n",
       "    <tr>\n",
       "      <td>25</td>\n",
       "      <td>1.888200</td>\n",
       "      <td>1.583765</td>\n",
       "      <td>0.606535</td>\n",
       "      <td>0.058299</td>\n",
       "      <td>0.091550</td>\n",
       "      <td>0.077010</td>\n",
       "      <td>0.657700</td>\n",
       "      <td>1143.448000</td>\n",
       "    </tr>\n",
       "    <tr>\n",
       "      <td>30</td>\n",
       "      <td>1.646700</td>\n",
       "      <td>1.373413</td>\n",
       "      <td>0.606554</td>\n",
       "      <td>0.058087</td>\n",
       "      <td>0.046661</td>\n",
       "      <td>0.076921</td>\n",
       "      <td>0.649300</td>\n",
       "      <td>1158.211000</td>\n",
       "    </tr>\n",
       "    <tr>\n",
       "      <td>35</td>\n",
       "      <td>1.412700</td>\n",
       "      <td>1.273583</td>\n",
       "      <td>0.629096</td>\n",
       "      <td>0.086970</td>\n",
       "      <td>0.128993</td>\n",
       "      <td>0.093837</td>\n",
       "      <td>0.656600</td>\n",
       "      <td>1145.219000</td>\n",
       "    </tr>\n",
       "    <tr>\n",
       "      <td>40</td>\n",
       "      <td>1.310100</td>\n",
       "      <td>1.164602</td>\n",
       "      <td>0.650837</td>\n",
       "      <td>0.111017</td>\n",
       "      <td>0.247258</td>\n",
       "      <td>0.111281</td>\n",
       "      <td>0.667500</td>\n",
       "      <td>1126.676000</td>\n",
       "    </tr>\n",
       "    <tr>\n",
       "      <td>45</td>\n",
       "      <td>1.241100</td>\n",
       "      <td>1.070799</td>\n",
       "      <td>0.674889</td>\n",
       "      <td>0.153204</td>\n",
       "      <td>0.217710</td>\n",
       "      <td>0.142631</td>\n",
       "      <td>0.670900</td>\n",
       "      <td>1120.834000</td>\n",
       "    </tr>\n",
       "    <tr>\n",
       "      <td>50</td>\n",
       "      <td>1.116000</td>\n",
       "      <td>1.016337</td>\n",
       "      <td>0.702014</td>\n",
       "      <td>0.197632</td>\n",
       "      <td>0.225682</td>\n",
       "      <td>0.185447</td>\n",
       "      <td>0.731900</td>\n",
       "      <td>1027.397000</td>\n",
       "    </tr>\n",
       "    <tr>\n",
       "      <td>55</td>\n",
       "      <td>0.989900</td>\n",
       "      <td>0.970059</td>\n",
       "      <td>0.713471</td>\n",
       "      <td>0.231743</td>\n",
       "      <td>0.274668</td>\n",
       "      <td>0.217264</td>\n",
       "      <td>0.660900</td>\n",
       "      <td>1137.806000</td>\n",
       "    </tr>\n",
       "    <tr>\n",
       "      <td>60</td>\n",
       "      <td>0.999700</td>\n",
       "      <td>0.932677</td>\n",
       "      <td>0.713043</td>\n",
       "      <td>0.263248</td>\n",
       "      <td>0.268519</td>\n",
       "      <td>0.262457</td>\n",
       "      <td>0.678500</td>\n",
       "      <td>1108.256000</td>\n",
       "    </tr>\n",
       "    <tr>\n",
       "      <td>65</td>\n",
       "      <td>0.865700</td>\n",
       "      <td>0.869908</td>\n",
       "      <td>0.733107</td>\n",
       "      <td>0.262506</td>\n",
       "      <td>0.294566</td>\n",
       "      <td>0.251078</td>\n",
       "      <td>0.670400</td>\n",
       "      <td>1121.756000</td>\n",
       "    </tr>\n",
       "    <tr>\n",
       "      <td>70</td>\n",
       "      <td>0.900800</td>\n",
       "      <td>0.834269</td>\n",
       "      <td>0.740634</td>\n",
       "      <td>0.281100</td>\n",
       "      <td>0.333661</td>\n",
       "      <td>0.284544</td>\n",
       "      <td>0.652300</td>\n",
       "      <td>1152.916000</td>\n",
       "    </tr>\n",
       "    <tr>\n",
       "      <td>75</td>\n",
       "      <td>0.778100</td>\n",
       "      <td>0.815298</td>\n",
       "      <td>0.744714</td>\n",
       "      <td>0.312013</td>\n",
       "      <td>0.334413</td>\n",
       "      <td>0.310185</td>\n",
       "      <td>0.658000</td>\n",
       "      <td>1142.902000</td>\n",
       "    </tr>\n",
       "    <tr>\n",
       "      <td>80</td>\n",
       "      <td>0.713000</td>\n",
       "      <td>0.793329</td>\n",
       "      <td>0.750470</td>\n",
       "      <td>0.319650</td>\n",
       "      <td>0.352855</td>\n",
       "      <td>0.304259</td>\n",
       "      <td>0.674200</td>\n",
       "      <td>1115.349000</td>\n",
       "    </tr>\n",
       "    <tr>\n",
       "      <td>85</td>\n",
       "      <td>0.734500</td>\n",
       "      <td>0.774698</td>\n",
       "      <td>0.760158</td>\n",
       "      <td>0.335886</td>\n",
       "      <td>0.343513</td>\n",
       "      <td>0.336515</td>\n",
       "      <td>0.695800</td>\n",
       "      <td>1080.789000</td>\n",
       "    </tr>\n",
       "    <tr>\n",
       "      <td>90</td>\n",
       "      <td>0.677600</td>\n",
       "      <td>0.786855</td>\n",
       "      <td>0.756041</td>\n",
       "      <td>0.344855</td>\n",
       "      <td>0.417599</td>\n",
       "      <td>0.351285</td>\n",
       "      <td>0.648900</td>\n",
       "      <td>1158.811000</td>\n",
       "    </tr>\n",
       "    <tr>\n",
       "      <td>95</td>\n",
       "      <td>0.625000</td>\n",
       "      <td>0.786909</td>\n",
       "      <td>0.745720</td>\n",
       "      <td>0.343656</td>\n",
       "      <td>0.496835</td>\n",
       "      <td>0.335753</td>\n",
       "      <td>0.714400</td>\n",
       "      <td>1052.683000</td>\n",
       "    </tr>\n",
       "    <tr>\n",
       "      <td>100</td>\n",
       "      <td>0.578000</td>\n",
       "      <td>0.782239</td>\n",
       "      <td>0.758276</td>\n",
       "      <td>0.378897</td>\n",
       "      <td>0.458749</td>\n",
       "      <td>0.381065</td>\n",
       "      <td>0.768800</td>\n",
       "      <td>978.144000</td>\n",
       "    </tr>\n",
       "    <tr>\n",
       "      <td>105</td>\n",
       "      <td>0.549000</td>\n",
       "      <td>0.863922</td>\n",
       "      <td>0.760940</td>\n",
       "      <td>0.368990</td>\n",
       "      <td>0.485254</td>\n",
       "      <td>0.342370</td>\n",
       "      <td>0.669700</td>\n",
       "      <td>1122.903000</td>\n",
       "    </tr>\n",
       "    <tr>\n",
       "      <td>110</td>\n",
       "      <td>0.613700</td>\n",
       "      <td>0.818357</td>\n",
       "      <td>0.725730</td>\n",
       "      <td>0.399050</td>\n",
       "      <td>0.524358</td>\n",
       "      <td>0.398968</td>\n",
       "      <td>0.725500</td>\n",
       "      <td>1036.537000</td>\n",
       "    </tr>\n",
       "    <tr>\n",
       "      <td>115</td>\n",
       "      <td>0.489300</td>\n",
       "      <td>0.746106</td>\n",
       "      <td>0.773795</td>\n",
       "      <td>0.414527</td>\n",
       "      <td>0.489303</td>\n",
       "      <td>0.388542</td>\n",
       "      <td>0.754400</td>\n",
       "      <td>996.849000</td>\n",
       "    </tr>\n",
       "    <tr>\n",
       "      <td>120</td>\n",
       "      <td>0.491600</td>\n",
       "      <td>0.778428</td>\n",
       "      <td>0.773329</td>\n",
       "      <td>0.418844</td>\n",
       "      <td>0.480313</td>\n",
       "      <td>0.395002</td>\n",
       "      <td>0.667300</td>\n",
       "      <td>1126.852000</td>\n",
       "    </tr>\n",
       "    <tr>\n",
       "      <td>125</td>\n",
       "      <td>0.442200</td>\n",
       "      <td>0.845746</td>\n",
       "      <td>0.729307</td>\n",
       "      <td>0.418500</td>\n",
       "      <td>0.449266</td>\n",
       "      <td>0.423048</td>\n",
       "      <td>0.658500</td>\n",
       "      <td>1141.973000</td>\n",
       "    </tr>\n",
       "    <tr>\n",
       "      <td>130</td>\n",
       "      <td>0.518300</td>\n",
       "      <td>0.822411</td>\n",
       "      <td>0.768132</td>\n",
       "      <td>0.405139</td>\n",
       "      <td>0.478486</td>\n",
       "      <td>0.377250</td>\n",
       "      <td>0.755200</td>\n",
       "      <td>995.737000</td>\n",
       "    </tr>\n",
       "    <tr>\n",
       "      <td>135</td>\n",
       "      <td>0.440200</td>\n",
       "      <td>0.789643</td>\n",
       "      <td>0.759562</td>\n",
       "      <td>0.431068</td>\n",
       "      <td>0.476025</td>\n",
       "      <td>0.423519</td>\n",
       "      <td>0.750400</td>\n",
       "      <td>1002.178000</td>\n",
       "    </tr>\n",
       "    <tr>\n",
       "      <td>140</td>\n",
       "      <td>0.402400</td>\n",
       "      <td>0.783307</td>\n",
       "      <td>0.771634</td>\n",
       "      <td>0.426094</td>\n",
       "      <td>0.467492</td>\n",
       "      <td>0.407447</td>\n",
       "      <td>0.661700</td>\n",
       "      <td>1136.403000</td>\n",
       "    </tr>\n",
       "    <tr>\n",
       "      <td>145</td>\n",
       "      <td>0.417500</td>\n",
       "      <td>0.815771</td>\n",
       "      <td>0.768672</td>\n",
       "      <td>0.445667</td>\n",
       "      <td>0.463909</td>\n",
       "      <td>0.441334</td>\n",
       "      <td>0.656500</td>\n",
       "      <td>1145.530000</td>\n",
       "    </tr>\n",
       "    <tr>\n",
       "      <td>150</td>\n",
       "      <td>0.343300</td>\n",
       "      <td>0.786819</td>\n",
       "      <td>0.766306</td>\n",
       "      <td>0.432269</td>\n",
       "      <td>0.461157</td>\n",
       "      <td>0.418539</td>\n",
       "      <td>0.652300</td>\n",
       "      <td>1152.889000</td>\n",
       "    </tr>\n",
       "    <tr>\n",
       "      <td>155</td>\n",
       "      <td>0.297700</td>\n",
       "      <td>0.830130</td>\n",
       "      <td>0.762710</td>\n",
       "      <td>0.442931</td>\n",
       "      <td>0.523918</td>\n",
       "      <td>0.442146</td>\n",
       "      <td>0.674200</td>\n",
       "      <td>1115.343000</td>\n",
       "    </tr>\n",
       "    <tr>\n",
       "      <td>160</td>\n",
       "      <td>0.283000</td>\n",
       "      <td>0.854454</td>\n",
       "      <td>0.766008</td>\n",
       "      <td>0.437852</td>\n",
       "      <td>0.517296</td>\n",
       "      <td>0.423215</td>\n",
       "      <td>0.682600</td>\n",
       "      <td>1101.654000</td>\n",
       "    </tr>\n",
       "    <tr>\n",
       "      <td>165</td>\n",
       "      <td>0.261600</td>\n",
       "      <td>0.907183</td>\n",
       "      <td>0.767386</td>\n",
       "      <td>0.437203</td>\n",
       "      <td>0.525050</td>\n",
       "      <td>0.428628</td>\n",
       "      <td>0.675300</td>\n",
       "      <td>1113.632000</td>\n",
       "    </tr>\n",
       "    <tr>\n",
       "      <td>170</td>\n",
       "      <td>0.255000</td>\n",
       "      <td>0.879016</td>\n",
       "      <td>0.770703</td>\n",
       "      <td>0.434264</td>\n",
       "      <td>0.525469</td>\n",
       "      <td>0.427662</td>\n",
       "      <td>0.664700</td>\n",
       "      <td>1131.295000</td>\n",
       "    </tr>\n",
       "    <tr>\n",
       "      <td>175</td>\n",
       "      <td>0.261500</td>\n",
       "      <td>0.889825</td>\n",
       "      <td>0.757866</td>\n",
       "      <td>0.448702</td>\n",
       "      <td>0.506996</td>\n",
       "      <td>0.456354</td>\n",
       "      <td>0.743400</td>\n",
       "      <td>1011.614000</td>\n",
       "    </tr>\n",
       "    <tr>\n",
       "      <td>180</td>\n",
       "      <td>0.222300</td>\n",
       "      <td>0.911918</td>\n",
       "      <td>0.766343</td>\n",
       "      <td>0.442554</td>\n",
       "      <td>0.498037</td>\n",
       "      <td>0.437995</td>\n",
       "      <td>0.662200</td>\n",
       "      <td>1135.537000</td>\n",
       "    </tr>\n",
       "    <tr>\n",
       "      <td>185</td>\n",
       "      <td>0.190800</td>\n",
       "      <td>0.947313</td>\n",
       "      <td>0.768541</td>\n",
       "      <td>0.446830</td>\n",
       "      <td>0.494569</td>\n",
       "      <td>0.450372</td>\n",
       "      <td>0.662100</td>\n",
       "      <td>1135.739000</td>\n",
       "    </tr>\n",
       "    <tr>\n",
       "      <td>190</td>\n",
       "      <td>0.191300</td>\n",
       "      <td>0.937826</td>\n",
       "      <td>0.778788</td>\n",
       "      <td>0.454455</td>\n",
       "      <td>0.533757</td>\n",
       "      <td>0.433398</td>\n",
       "      <td>0.747900</td>\n",
       "      <td>1005.439000</td>\n",
       "    </tr>\n",
       "    <tr>\n",
       "      <td>195</td>\n",
       "      <td>0.171200</td>\n",
       "      <td>0.979055</td>\n",
       "      <td>0.763828</td>\n",
       "      <td>0.453332</td>\n",
       "      <td>0.489068</td>\n",
       "      <td>0.460559</td>\n",
       "      <td>0.670900</td>\n",
       "      <td>1120.880000</td>\n",
       "    </tr>\n",
       "    <tr>\n",
       "      <td>200</td>\n",
       "      <td>0.178200</td>\n",
       "      <td>0.977799</td>\n",
       "      <td>0.771522</td>\n",
       "      <td>0.454466</td>\n",
       "      <td>0.491851</td>\n",
       "      <td>0.448535</td>\n",
       "      <td>0.669000</td>\n",
       "      <td>1124.033000</td>\n",
       "    </tr>\n",
       "    <tr>\n",
       "      <td>205</td>\n",
       "      <td>0.153100</td>\n",
       "      <td>0.995239</td>\n",
       "      <td>0.758686</td>\n",
       "      <td>0.455301</td>\n",
       "      <td>0.458777</td>\n",
       "      <td>0.472741</td>\n",
       "      <td>0.665600</td>\n",
       "      <td>1129.740000</td>\n",
       "    </tr>\n",
       "    <tr>\n",
       "      <td>210</td>\n",
       "      <td>0.152500</td>\n",
       "      <td>0.997861</td>\n",
       "      <td>0.751663</td>\n",
       "      <td>0.444511</td>\n",
       "      <td>0.496439</td>\n",
       "      <td>0.432407</td>\n",
       "      <td>0.679300</td>\n",
       "      <td>1107.076000</td>\n",
       "    </tr>\n",
       "    <tr>\n",
       "      <td>215</td>\n",
       "      <td>0.161500</td>\n",
       "      <td>0.992750</td>\n",
       "      <td>0.763791</td>\n",
       "      <td>0.454323</td>\n",
       "      <td>0.506382</td>\n",
       "      <td>0.456806</td>\n",
       "      <td>0.674800</td>\n",
       "      <td>1114.365000</td>\n",
       "    </tr>\n",
       "    <tr>\n",
       "      <td>220</td>\n",
       "      <td>0.151400</td>\n",
       "      <td>0.985892</td>\n",
       "      <td>0.771876</td>\n",
       "      <td>0.454693</td>\n",
       "      <td>0.512672</td>\n",
       "      <td>0.446506</td>\n",
       "      <td>0.666900</td>\n",
       "      <td>1127.638000</td>\n",
       "    </tr>\n",
       "    <tr>\n",
       "      <td>225</td>\n",
       "      <td>0.107400</td>\n",
       "      <td>1.061689</td>\n",
       "      <td>0.766678</td>\n",
       "      <td>0.454874</td>\n",
       "      <td>0.488668</td>\n",
       "      <td>0.446949</td>\n",
       "      <td>0.672800</td>\n",
       "      <td>1117.697000</td>\n",
       "    </tr>\n",
       "    <tr>\n",
       "      <td>230</td>\n",
       "      <td>0.104200</td>\n",
       "      <td>1.084371</td>\n",
       "      <td>0.762710</td>\n",
       "      <td>0.456623</td>\n",
       "      <td>0.469297</td>\n",
       "      <td>0.470361</td>\n",
       "      <td>0.768000</td>\n",
       "      <td>979.118000</td>\n",
       "    </tr>\n",
       "    <tr>\n",
       "      <td>235</td>\n",
       "      <td>0.109000</td>\n",
       "      <td>1.111210</td>\n",
       "      <td>0.759525</td>\n",
       "      <td>0.457704</td>\n",
       "      <td>0.479508</td>\n",
       "      <td>0.456016</td>\n",
       "      <td>0.713300</td>\n",
       "      <td>1054.215000</td>\n",
       "    </tr>\n",
       "    <tr>\n",
       "      <td>240</td>\n",
       "      <td>0.147500</td>\n",
       "      <td>1.168299</td>\n",
       "      <td>0.764238</td>\n",
       "      <td>0.454426</td>\n",
       "      <td>0.486758</td>\n",
       "      <td>0.451555</td>\n",
       "      <td>0.666100</td>\n",
       "      <td>1128.897000</td>\n",
       "    </tr>\n",
       "    <tr>\n",
       "      <td>245</td>\n",
       "      <td>0.116100</td>\n",
       "      <td>1.076945</td>\n",
       "      <td>0.769566</td>\n",
       "      <td>0.456555</td>\n",
       "      <td>0.498042</td>\n",
       "      <td>0.457577</td>\n",
       "      <td>0.669400</td>\n",
       "      <td>1123.351000</td>\n",
       "    </tr>\n",
       "    <tr>\n",
       "      <td>250</td>\n",
       "      <td>0.100600</td>\n",
       "      <td>1.100509</td>\n",
       "      <td>0.758314</td>\n",
       "      <td>0.452345</td>\n",
       "      <td>0.474421</td>\n",
       "      <td>0.457613</td>\n",
       "      <td>0.674300</td>\n",
       "      <td>1115.185000</td>\n",
       "    </tr>\n",
       "    <tr>\n",
       "      <td>255</td>\n",
       "      <td>0.103000</td>\n",
       "      <td>1.147394</td>\n",
       "      <td>0.764890</td>\n",
       "      <td>0.457022</td>\n",
       "      <td>0.482032</td>\n",
       "      <td>0.452968</td>\n",
       "      <td>0.668600</td>\n",
       "      <td>1124.728000</td>\n",
       "    </tr>\n",
       "    <tr>\n",
       "      <td>260</td>\n",
       "      <td>0.094800</td>\n",
       "      <td>1.118307</td>\n",
       "      <td>0.755817</td>\n",
       "      <td>0.456246</td>\n",
       "      <td>0.464707</td>\n",
       "      <td>0.469871</td>\n",
       "      <td>0.683300</td>\n",
       "      <td>1100.507000</td>\n",
       "    </tr>\n",
       "    <tr>\n",
       "      <td>265</td>\n",
       "      <td>0.088500</td>\n",
       "      <td>1.151228</td>\n",
       "      <td>0.760773</td>\n",
       "      <td>0.458702</td>\n",
       "      <td>0.476027</td>\n",
       "      <td>0.466482</td>\n",
       "      <td>0.736500</td>\n",
       "      <td>1021.010000</td>\n",
       "    </tr>\n",
       "    <tr>\n",
       "      <td>270</td>\n",
       "      <td>0.071600</td>\n",
       "      <td>1.155475</td>\n",
       "      <td>0.768560</td>\n",
       "      <td>0.457421</td>\n",
       "      <td>0.498838</td>\n",
       "      <td>0.450745</td>\n",
       "      <td>0.679700</td>\n",
       "      <td>1106.393000</td>\n",
       "    </tr>\n",
       "    <tr>\n",
       "      <td>275</td>\n",
       "      <td>0.068500</td>\n",
       "      <td>1.171292</td>\n",
       "      <td>0.763064</td>\n",
       "      <td>0.456670</td>\n",
       "      <td>0.477925</td>\n",
       "      <td>0.459221</td>\n",
       "      <td>0.722900</td>\n",
       "      <td>1040.261000</td>\n",
       "    </tr>\n",
       "    <tr>\n",
       "      <td>280</td>\n",
       "      <td>0.067900</td>\n",
       "      <td>1.201688</td>\n",
       "      <td>0.762077</td>\n",
       "      <td>0.460450</td>\n",
       "      <td>0.472780</td>\n",
       "      <td>0.463571</td>\n",
       "      <td>0.743600</td>\n",
       "      <td>1011.248000</td>\n",
       "    </tr>\n",
       "    <tr>\n",
       "      <td>285</td>\n",
       "      <td>0.074600</td>\n",
       "      <td>1.216285</td>\n",
       "      <td>0.764965</td>\n",
       "      <td>0.463040</td>\n",
       "      <td>0.479291</td>\n",
       "      <td>0.461958</td>\n",
       "      <td>0.673400</td>\n",
       "      <td>1116.675000</td>\n",
       "    </tr>\n",
       "    <tr>\n",
       "      <td>290</td>\n",
       "      <td>0.063000</td>\n",
       "      <td>1.257120</td>\n",
       "      <td>0.755799</td>\n",
       "      <td>0.458740</td>\n",
       "      <td>0.463719</td>\n",
       "      <td>0.474113</td>\n",
       "      <td>0.676400</td>\n",
       "      <td>1111.802000</td>\n",
       "    </tr>\n",
       "    <tr>\n",
       "      <td>295</td>\n",
       "      <td>0.060100</td>\n",
       "      <td>1.276050</td>\n",
       "      <td>0.765337</td>\n",
       "      <td>0.462648</td>\n",
       "      <td>0.490573</td>\n",
       "      <td>0.454918</td>\n",
       "      <td>0.671300</td>\n",
       "      <td>1120.218000</td>\n",
       "    </tr>\n",
       "    <tr>\n",
       "      <td>300</td>\n",
       "      <td>0.059000</td>\n",
       "      <td>1.274323</td>\n",
       "      <td>0.751365</td>\n",
       "      <td>0.470890</td>\n",
       "      <td>0.547563</td>\n",
       "      <td>0.473291</td>\n",
       "      <td>0.664300</td>\n",
       "      <td>1132.054000</td>\n",
       "    </tr>\n",
       "    <tr>\n",
       "      <td>305</td>\n",
       "      <td>0.066400</td>\n",
       "      <td>1.276445</td>\n",
       "      <td>0.766343</td>\n",
       "      <td>0.456931</td>\n",
       "      <td>0.486489</td>\n",
       "      <td>0.447094</td>\n",
       "      <td>0.673300</td>\n",
       "      <td>1116.848000</td>\n",
       "    </tr>\n",
       "    <tr>\n",
       "      <td>310</td>\n",
       "      <td>0.055600</td>\n",
       "      <td>1.294501</td>\n",
       "      <td>0.748198</td>\n",
       "      <td>0.474983</td>\n",
       "      <td>0.534269</td>\n",
       "      <td>0.490430</td>\n",
       "      <td>0.666500</td>\n",
       "      <td>1128.259000</td>\n",
       "    </tr>\n",
       "    <tr>\n",
       "      <td>315</td>\n",
       "      <td>0.049700</td>\n",
       "      <td>1.252527</td>\n",
       "      <td>0.771522</td>\n",
       "      <td>0.462919</td>\n",
       "      <td>0.580540</td>\n",
       "      <td>0.441028</td>\n",
       "      <td>0.748000</td>\n",
       "      <td>1005.307000</td>\n",
       "    </tr>\n",
       "    <tr>\n",
       "      <td>320</td>\n",
       "      <td>0.048200</td>\n",
       "      <td>1.266147</td>\n",
       "      <td>0.766604</td>\n",
       "      <td>0.475330</td>\n",
       "      <td>0.569376</td>\n",
       "      <td>0.464880</td>\n",
       "      <td>0.669400</td>\n",
       "      <td>1123.458000</td>\n",
       "    </tr>\n",
       "    <tr>\n",
       "      <td>325</td>\n",
       "      <td>0.051700</td>\n",
       "      <td>1.262040</td>\n",
       "      <td>0.764927</td>\n",
       "      <td>0.467365</td>\n",
       "      <td>0.548101</td>\n",
       "      <td>0.466020</td>\n",
       "      <td>0.757800</td>\n",
       "      <td>992.305000</td>\n",
       "    </tr>\n",
       "    <tr>\n",
       "      <td>330</td>\n",
       "      <td>0.043300</td>\n",
       "      <td>1.273170</td>\n",
       "      <td>0.767405</td>\n",
       "      <td>0.472568</td>\n",
       "      <td>0.557139</td>\n",
       "      <td>0.464305</td>\n",
       "      <td>0.758400</td>\n",
       "      <td>991.566000</td>\n",
       "    </tr>\n",
       "    <tr>\n",
       "      <td>335</td>\n",
       "      <td>0.039900</td>\n",
       "      <td>1.289767</td>\n",
       "      <td>0.766753</td>\n",
       "      <td>0.475804</td>\n",
       "      <td>0.535382</td>\n",
       "      <td>0.473017</td>\n",
       "      <td>0.660700</td>\n",
       "      <td>1138.102000</td>\n",
       "    </tr>\n",
       "    <tr>\n",
       "      <td>340</td>\n",
       "      <td>0.040000</td>\n",
       "      <td>1.304568</td>\n",
       "      <td>0.770106</td>\n",
       "      <td>0.464506</td>\n",
       "      <td>0.555424</td>\n",
       "      <td>0.464993</td>\n",
       "      <td>0.648300</td>\n",
       "      <td>1159.946000</td>\n",
       "    </tr>\n",
       "    <tr>\n",
       "      <td>345</td>\n",
       "      <td>0.040800</td>\n",
       "      <td>1.304742</td>\n",
       "      <td>0.763567</td>\n",
       "      <td>0.474368</td>\n",
       "      <td>0.550118</td>\n",
       "      <td>0.475594</td>\n",
       "      <td>0.648900</td>\n",
       "      <td>1158.909000</td>\n",
       "    </tr>\n",
       "    <tr>\n",
       "      <td>350</td>\n",
       "      <td>0.041100</td>\n",
       "      <td>1.300535</td>\n",
       "      <td>0.762226</td>\n",
       "      <td>0.474157</td>\n",
       "      <td>0.549175</td>\n",
       "      <td>0.469149</td>\n",
       "      <td>0.657200</td>\n",
       "      <td>1144.234000</td>\n",
       "    </tr>\n",
       "    <tr>\n",
       "      <td>355</td>\n",
       "      <td>0.039900</td>\n",
       "      <td>1.301713</td>\n",
       "      <td>0.763008</td>\n",
       "      <td>0.479542</td>\n",
       "      <td>0.516741</td>\n",
       "      <td>0.481398</td>\n",
       "      <td>0.653600</td>\n",
       "      <td>1150.500000</td>\n",
       "    </tr>\n",
       "    <tr>\n",
       "      <td>360</td>\n",
       "      <td>0.035400</td>\n",
       "      <td>1.328890</td>\n",
       "      <td>0.768933</td>\n",
       "      <td>0.468873</td>\n",
       "      <td>0.539678</td>\n",
       "      <td>0.460969</td>\n",
       "      <td>0.656900</td>\n",
       "      <td>1144.705000</td>\n",
       "    </tr>\n",
       "    <tr>\n",
       "      <td>365</td>\n",
       "      <td>0.034900</td>\n",
       "      <td>1.328178</td>\n",
       "      <td>0.763474</td>\n",
       "      <td>0.473005</td>\n",
       "      <td>0.530470</td>\n",
       "      <td>0.476293</td>\n",
       "      <td>0.646300</td>\n",
       "      <td>1163.457000</td>\n",
       "    </tr>\n",
       "    <tr>\n",
       "      <td>370</td>\n",
       "      <td>0.031600</td>\n",
       "      <td>1.343632</td>\n",
       "      <td>0.765281</td>\n",
       "      <td>0.475785</td>\n",
       "      <td>0.542871</td>\n",
       "      <td>0.467122</td>\n",
       "      <td>0.646200</td>\n",
       "      <td>1163.811000</td>\n",
       "    </tr>\n",
       "    <tr>\n",
       "      <td>375</td>\n",
       "      <td>0.031600</td>\n",
       "      <td>1.312917</td>\n",
       "      <td>0.763698</td>\n",
       "      <td>0.478810</td>\n",
       "      <td>0.543774</td>\n",
       "      <td>0.467064</td>\n",
       "      <td>0.771900</td>\n",
       "      <td>974.186000</td>\n",
       "    </tr>\n",
       "    <tr>\n",
       "      <td>380</td>\n",
       "      <td>0.026400</td>\n",
       "      <td>1.320242</td>\n",
       "      <td>0.764406</td>\n",
       "      <td>0.481052</td>\n",
       "      <td>0.531289</td>\n",
       "      <td>0.474078</td>\n",
       "      <td>0.683700</td>\n",
       "      <td>1099.931000</td>\n",
       "    </tr>\n",
       "    <tr>\n",
       "      <td>385</td>\n",
       "      <td>0.032600</td>\n",
       "      <td>1.342039</td>\n",
       "      <td>0.769901</td>\n",
       "      <td>0.474315</td>\n",
       "      <td>0.534260</td>\n",
       "      <td>0.458711</td>\n",
       "      <td>0.670300</td>\n",
       "      <td>1121.946000</td>\n",
       "    </tr>\n",
       "    <tr>\n",
       "      <td>390</td>\n",
       "      <td>0.027500</td>\n",
       "      <td>1.339211</td>\n",
       "      <td>0.765933</td>\n",
       "      <td>0.477404</td>\n",
       "      <td>0.524465</td>\n",
       "      <td>0.469445</td>\n",
       "      <td>0.673300</td>\n",
       "      <td>1116.932000</td>\n",
       "    </tr>\n",
       "    <tr>\n",
       "      <td>395</td>\n",
       "      <td>0.030100</td>\n",
       "      <td>1.350616</td>\n",
       "      <td>0.765132</td>\n",
       "      <td>0.476646</td>\n",
       "      <td>0.533016</td>\n",
       "      <td>0.471107</td>\n",
       "      <td>0.678600</td>\n",
       "      <td>1108.150000</td>\n",
       "    </tr>\n",
       "    <tr>\n",
       "      <td>400</td>\n",
       "      <td>0.027600</td>\n",
       "      <td>1.358148</td>\n",
       "      <td>0.766231</td>\n",
       "      <td>0.473192</td>\n",
       "      <td>0.544730</td>\n",
       "      <td>0.465095</td>\n",
       "      <td>0.703000</td>\n",
       "      <td>1069.757000</td>\n",
       "    </tr>\n",
       "    <tr>\n",
       "      <td>405</td>\n",
       "      <td>0.023900</td>\n",
       "      <td>1.344273</td>\n",
       "      <td>0.765393</td>\n",
       "      <td>0.479414</td>\n",
       "      <td>0.560416</td>\n",
       "      <td>0.472950</td>\n",
       "      <td>0.675300</td>\n",
       "      <td>1113.530000</td>\n",
       "    </tr>\n",
       "    <tr>\n",
       "      <td>410</td>\n",
       "      <td>0.022800</td>\n",
       "      <td>1.349507</td>\n",
       "      <td>0.765710</td>\n",
       "      <td>0.480819</td>\n",
       "      <td>0.554545</td>\n",
       "      <td>0.476018</td>\n",
       "      <td>0.757000</td>\n",
       "      <td>993.371000</td>\n",
       "    </tr>\n",
       "    <tr>\n",
       "      <td>415</td>\n",
       "      <td>0.027500</td>\n",
       "      <td>1.372048</td>\n",
       "      <td>0.768094</td>\n",
       "      <td>0.478576</td>\n",
       "      <td>0.521004</td>\n",
       "      <td>0.465363</td>\n",
       "      <td>0.688200</td>\n",
       "      <td>1092.756000</td>\n",
       "    </tr>\n",
       "    <tr>\n",
       "      <td>420</td>\n",
       "      <td>0.024500</td>\n",
       "      <td>1.382788</td>\n",
       "      <td>0.764406</td>\n",
       "      <td>0.473929</td>\n",
       "      <td>0.501407</td>\n",
       "      <td>0.469953</td>\n",
       "      <td>0.803000</td>\n",
       "      <td>936.478000</td>\n",
       "    </tr>\n",
       "    <tr>\n",
       "      <td>425</td>\n",
       "      <td>0.024200</td>\n",
       "      <td>1.393151</td>\n",
       "      <td>0.763996</td>\n",
       "      <td>0.481678</td>\n",
       "      <td>0.506368</td>\n",
       "      <td>0.484159</td>\n",
       "      <td>0.669900</td>\n",
       "      <td>1122.612000</td>\n",
       "    </tr>\n",
       "    <tr>\n",
       "      <td>430</td>\n",
       "      <td>0.021900</td>\n",
       "      <td>1.392540</td>\n",
       "      <td>0.766287</td>\n",
       "      <td>0.480693</td>\n",
       "      <td>0.510894</td>\n",
       "      <td>0.482073</td>\n",
       "      <td>0.684100</td>\n",
       "      <td>1099.191000</td>\n",
       "    </tr>\n",
       "    <tr>\n",
       "      <td>435</td>\n",
       "      <td>0.020600</td>\n",
       "      <td>1.398720</td>\n",
       "      <td>0.771057</td>\n",
       "      <td>0.476240</td>\n",
       "      <td>0.538277</td>\n",
       "      <td>0.462518</td>\n",
       "      <td>0.757500</td>\n",
       "      <td>992.756000</td>\n",
       "    </tr>\n",
       "    <tr>\n",
       "      <td>440</td>\n",
       "      <td>0.021500</td>\n",
       "      <td>1.388459</td>\n",
       "      <td>0.767629</td>\n",
       "      <td>0.482202</td>\n",
       "      <td>0.531619</td>\n",
       "      <td>0.471019</td>\n",
       "      <td>0.689700</td>\n",
       "      <td>1090.388000</td>\n",
       "    </tr>\n",
       "    <tr>\n",
       "      <td>445</td>\n",
       "      <td>0.020200</td>\n",
       "      <td>1.398424</td>\n",
       "      <td>0.765002</td>\n",
       "      <td>0.477201</td>\n",
       "      <td>0.505082</td>\n",
       "      <td>0.471220</td>\n",
       "      <td>0.769300</td>\n",
       "      <td>977.454000</td>\n",
       "    </tr>\n",
       "    <tr>\n",
       "      <td>450</td>\n",
       "      <td>0.018000</td>\n",
       "      <td>1.403504</td>\n",
       "      <td>0.765915</td>\n",
       "      <td>0.476089</td>\n",
       "      <td>0.503206</td>\n",
       "      <td>0.470679</td>\n",
       "      <td>0.767600</td>\n",
       "      <td>979.712000</td>\n",
       "    </tr>\n",
       "    <tr>\n",
       "      <td>455</td>\n",
       "      <td>0.018500</td>\n",
       "      <td>1.397658</td>\n",
       "      <td>0.767219</td>\n",
       "      <td>0.474862</td>\n",
       "      <td>0.510814</td>\n",
       "      <td>0.465385</td>\n",
       "      <td>0.662700</td>\n",
       "      <td>1134.756000</td>\n",
       "    </tr>\n",
       "    <tr>\n",
       "      <td>460</td>\n",
       "      <td>0.019900</td>\n",
       "      <td>1.392932</td>\n",
       "      <td>0.768523</td>\n",
       "      <td>0.477340</td>\n",
       "      <td>0.522078</td>\n",
       "      <td>0.463700</td>\n",
       "      <td>0.669900</td>\n",
       "      <td>1122.605000</td>\n",
       "    </tr>\n",
       "    <tr>\n",
       "      <td>465</td>\n",
       "      <td>0.018500</td>\n",
       "      <td>1.392898</td>\n",
       "      <td>0.770703</td>\n",
       "      <td>0.478088</td>\n",
       "      <td>0.522380</td>\n",
       "      <td>0.464094</td>\n",
       "      <td>0.676200</td>\n",
       "      <td>1112.015000</td>\n",
       "    </tr>\n",
       "    <tr>\n",
       "      <td>470</td>\n",
       "      <td>0.017000</td>\n",
       "      <td>1.402115</td>\n",
       "      <td>0.770907</td>\n",
       "      <td>0.477867</td>\n",
       "      <td>0.525447</td>\n",
       "      <td>0.463438</td>\n",
       "      <td>0.688500</td>\n",
       "      <td>1092.225000</td>\n",
       "    </tr>\n",
       "    <tr>\n",
       "      <td>475</td>\n",
       "      <td>0.017200</td>\n",
       "      <td>1.413912</td>\n",
       "      <td>0.766008</td>\n",
       "      <td>0.476393</td>\n",
       "      <td>0.501367</td>\n",
       "      <td>0.474921</td>\n",
       "      <td>0.660400</td>\n",
       "      <td>1138.668000</td>\n",
       "    </tr>\n",
       "    <tr>\n",
       "      <td>480</td>\n",
       "      <td>0.014600</td>\n",
       "      <td>1.430201</td>\n",
       "      <td>0.763679</td>\n",
       "      <td>0.473818</td>\n",
       "      <td>0.492742</td>\n",
       "      <td>0.478281</td>\n",
       "      <td>0.667800</td>\n",
       "      <td>1126.041000</td>\n",
       "    </tr>\n",
       "    <tr>\n",
       "      <td>485</td>\n",
       "      <td>0.018700</td>\n",
       "      <td>1.430132</td>\n",
       "      <td>0.765505</td>\n",
       "      <td>0.476698</td>\n",
       "      <td>0.505810</td>\n",
       "      <td>0.474578</td>\n",
       "      <td>0.758900</td>\n",
       "      <td>990.945000</td>\n",
       "    </tr>\n",
       "    <tr>\n",
       "      <td>490</td>\n",
       "      <td>0.014000</td>\n",
       "      <td>1.426856</td>\n",
       "      <td>0.767107</td>\n",
       "      <td>0.480387</td>\n",
       "      <td>0.519693</td>\n",
       "      <td>0.472122</td>\n",
       "      <td>0.772500</td>\n",
       "      <td>973.431000</td>\n",
       "    </tr>\n",
       "  </tbody>\n",
       "</table><p>"
      ],
      "text/plain": [
       "<IPython.core.display.HTML object>"
      ]
     },
     "metadata": {},
     "output_type": "display_data"
    },
    {
     "data": {
      "text/plain": [
       "TrainOutput(global_step=490, training_loss=0.36967466247020936, metrics={'train_runtime': 439.7108, 'train_samples_per_second': 1.501, 'total_flos': 9722104150542732, 'epoch': 22.27})"
      ]
     },
     "execution_count": 12,
     "metadata": {},
     "output_type": "execute_result"
    }
   ],
   "source": [
    "\n",
    "trainer = Trainer(\n",
    "    model=model,                         \n",
    "    args=training_args,                  \n",
    "    train_dataset=train_dataset,        \n",
    "    eval_dataset=val_dataset,            \n",
    "    compute_metrics=compute_metrics,\n",
    "    callbacks=[early_stopping],\n",
    ")\n",
    "\n",
    "trainer.train()"
   ]
  },
  {
   "cell_type": "code",
   "execution_count": 13,
   "metadata": {},
   "outputs": [
    {
     "data": {
      "text/html": [
       "\n",
       "    <div>\n",
       "        <style>\n",
       "            /* Turns off some styling */\n",
       "            progress {\n",
       "                /* gets rid of default border in Firefox and Opera. */\n",
       "                border: none;\n",
       "                /* Needs to be in here for Safari polyfill so background images work as expected. */\n",
       "                background-size: auto;\n",
       "            }\n",
       "        </style>\n",
       "      \n",
       "      <progress value='4' max='2' style='width:300px; height:20px; vertical-align: middle;'></progress>\n",
       "      [2/2 00:00]\n",
       "    </div>\n",
       "    "
      ],
      "text/plain": [
       "<IPython.core.display.HTML object>"
      ]
     },
     "metadata": {},
     "output_type": "display_data"
    },
    {
     "data": {
      "text/plain": [
       "{'epoch': 22.27,\n",
       " 'eval_acc': 0.767628593252231,\n",
       " 'eval_f1_macro': 0.4822016223271417,\n",
       " 'eval_loss': 1.3884586095809937,\n",
       " 'eval_p_macro': 0.5316185502751299,\n",
       " 'eval_r_macro': 0.47101940745876253,\n",
       " 'eval_runtime': 0.6983,\n",
       " 'eval_samples_per_second': 1076.848}"
      ]
     },
     "execution_count": 13,
     "metadata": {},
     "output_type": "execute_result"
    }
   ],
   "source": [
    "trainer.evaluate(val_dataset)"
   ]
  },
  {
   "cell_type": "code",
   "execution_count": 14,
   "metadata": {},
   "outputs": [
    {
     "data": {
      "text/plain": [
       "{'epoch': 22.27,\n",
       " 'eval_acc': 0.7618697945854026,\n",
       " 'eval_f1_macro': 0.4561523234515859,\n",
       " 'eval_loss': 1.3106003999710083,\n",
       " 'eval_p_macro': 0.46143968932062845,\n",
       " 'eval_r_macro': 0.4532269328127683,\n",
       " 'eval_runtime': 0.6391,\n",
       " 'eval_samples_per_second': 1319.056}"
      ]
     },
     "execution_count": 14,
     "metadata": {},
     "output_type": "execute_result"
    }
   ],
   "source": [
    "trainer.evaluate(test_dataset)"
   ]
  },
  {
   "cell_type": "code",
   "execution_count": 15,
   "metadata": {},
   "outputs": [],
   "source": [
    "test_paragraphs = pickle.load(open('test_paragraphs.pkl', 'rb'))"
   ]
  },
  {
   "cell_type": "code",
   "execution_count": 16,
   "metadata": {},
   "outputs": [
    {
     "data": {
      "text/plain": [
       "dict_keys(['pseudo-science', 'political-bias', 'credible'])"
      ]
     },
     "execution_count": 16,
     "metadata": {},
     "output_type": "execute_result"
    }
   ],
   "source": [
    "test_paragraphs.keys()"
   ]
  },
  {
   "cell_type": "code",
   "execution_count": 17,
   "metadata": {},
   "outputs": [],
   "source": [
    "from nltk import word_tokenize\n",
    "#test the model on our dataset\n",
    "name = 'pseudo-science'\n",
    "cross_text = test_paragraphs[name]\n",
    "cross_texts = [word_tokenize(txt) for txt in cross_text]\n",
    "# report_stats(cross_texts)\n",
    "# cross_texts = test_texts[:2]\n"
   ]
  },
  {
   "cell_type": "code",
   "execution_count": 18,
   "metadata": {},
   "outputs": [],
   "source": [
    "\n",
    "# name = 'political-bias'\n",
    "# cross_text = test_paragraphs[name]\n",
    "# cross_texts = [word_tokenize(txt) for txt in cross_text]\n",
    "# report_stats(cross_texts)\n"
   ]
  },
  {
   "cell_type": "code",
   "execution_count": 19,
   "metadata": {},
   "outputs": [],
   "source": [
    "\n",
    "# name = 'credible'\n",
    "# cross_text = test_paragraphs[name]\n",
    "# cross_texts = [word_tokenize(txt) for txt in cross_text]\n",
    "# report_stats(cross_texts)"
   ]
  },
  {
   "cell_type": "code",
   "execution_count": 20,
   "metadata": {},
   "outputs": [],
   "source": [
    "# cross_texts = test_texts[10:15]\n",
    "# tl = test_labels[10:15]\n",
    "\n",
    "model = model.to('cpu')\n",
    "\n",
    "cross_encodings = tokenizer(cross_texts, is_split_into_words=True, return_offsets_mapping=True, padding=True, truncation=True)\n",
    "cross_encodings.pop(\"offset_mapping\")\n",
    "\n",
    "cross_input = {key: torch.tensor(val) for key, val in cross_encodings.items()}\n",
    "\n",
    "pred = np.argmax(model(cross_input['input_ids'].to('cpu'))[0].detach().cpu().numpy(), -1)\n",
    "tokens = [tokenizer.convert_ids_to_tokens(item) for item in cross_input['input_ids']]\n",
    "\n"
   ]
  },
  {
   "cell_type": "code",
   "execution_count": 21,
   "metadata": {},
   "outputs": [],
   "source": [
    "import html\n",
    "from IPython.core.display import display, HTML\n",
    "\n",
    "def html_escape(text):\n",
    "    return html.escape(text)\n",
    "\n",
    "def show(tokens, pred, idx, colors=None):\n",
    "    \n",
    "\n",
    "    sent = []\n",
    "    BIOs = []\n",
    "    for tk, lb in zip(tokens[idx], pred[idx]):\n",
    "        if tk in ['[CLS]', '[SEP]', '[PAD]']:\n",
    "            continue\n",
    "        sent.append(tk)\n",
    "        if lb == -100: #word piece follows the previous\n",
    "            BIOs.append(BIOs[-1])\n",
    "        else:\n",
    "            BIOs.append(id2tag[lb])\n",
    "        \n",
    "    text_plot = sent\n",
    "    wt = []\n",
    "    for item in BIOs:\n",
    "        if 'B' in item:\n",
    "            wt.append(1)\n",
    "        elif 'I' in item:\n",
    "            wt.append(0.5)\n",
    "        else:\n",
    "            wt.append(0)\n",
    "    \n",
    "    if colors:\n",
    "        cs = []\n",
    "        for item in BIOs:\n",
    "            for key in colors:\n",
    "                if key in item:\n",
    "                    cs.append(colors[key])\n",
    "                    continue\n",
    "        \n",
    "    \n",
    "    highlighted_text = []\n",
    "    if not colors:\n",
    "        for word, wt in zip(text_plot, wt):\n",
    "            weight = wt\n",
    "\n",
    "            if weight is not None:\n",
    "                highlighted_text.append('<span style=\"background-color:rgba(135,206,250,' + str(weight) + ');\">' + html_escape(word) + '</span>')\n",
    "            else:\n",
    "                highlighted_text.append(word)\n",
    "    else:\n",
    "        for word, wt, c in zip(text_plot, wt, cs):\n",
    "            weight = wt\n",
    "\n",
    "            if weight is not None:\n",
    "                highlighted_text.append(f'<span style=\"background-color:rgba({c},' + str(weight) + ');\">' + html_escape(word) + '</span>')\n",
    "            else:\n",
    "                highlighted_text.append(word)\n",
    "    highlighted_text = ' '.join(highlighted_text)\n",
    "    display(HTML(highlighted_text))"
   ]
  },
  {
   "cell_type": "code",
   "execution_count": 22,
   "metadata": {},
   "outputs": [],
   "source": [
    "colors = {\n",
    "    'common-ground': '139,255,252',\n",
    "    'anecdote': '123,255,108',\n",
    "    'statistics': '255,108,255',\n",
    "    'assumption': '104,104,255',\n",
    "    'other': '255,255,104',\n",
    "    'testimony': '255,114,104',\n",
    "    'O': '255,255,255'\n",
    "}"
   ]
  },
  {
   "cell_type": "code",
   "execution_count": 23,
   "metadata": {},
   "outputs": [
    {
     "data": {
      "text/html": [
       "<span style=\"background-color:rgba(139,255,252,1);\">common-ground</span>\n",
       "<span style=\"background-color:rgba(123,255,108,1);\">anecdote</span>\n",
       "<span style=\"background-color:rgba(255,108,255,1);\">statistics</span>\n",
       "<span style=\"background-color:rgba(104,104,255,1);\">assumption</span>\n",
       "<span style=\"background-color:rgba(255,255,104,1);\">other</span>\n",
       "<span style=\"background-color:rgba(255,114,104,1);\">testimony</span>\n",
       "<span style=\"background-color:rgba(255,255,255,1);\">O</span>"
      ],
      "text/plain": [
       "<IPython.core.display.HTML object>"
      ]
     },
     "metadata": {},
     "output_type": "display_data"
    }
   ],
   "source": [
    "\n",
    "example = []\n",
    "for txt in colors:\n",
    "    example.append(f'<span style=\"background-color:rgba({colors[txt]},' + str(1) + ');\">' + html_escape(txt) + '</span>')\n",
    "display(HTML('\\n'.join(example)))"
   ]
  },
  {
   "cell_type": "code",
   "execution_count": 24,
   "metadata": {},
   "outputs": [],
   "source": [
    "#domain adaptation"
   ]
  },
  {
   "cell_type": "code",
   "execution_count": 25,
   "metadata": {
    "scrolled": false
   },
   "outputs": [
    {
     "data": {
      "text/html": [
       "<span style=\"background-color:rgba(255,255,255,0);\">Despite</span> <span style=\"background-color:rgba(104,104,255,1);\">ongoing</span> <span style=\"background-color:rgba(104,104,255,0.5);\">increases</span> <span style=\"background-color:rgba(104,104,255,0.5);\">in</span> <span style=\"background-color:rgba(104,104,255,0.5);\">the</span> <span style=\"background-color:rgba(104,104,255,0.5);\">number</span> <span style=\"background-color:rgba(104,104,255,0.5);\">of</span> <span style=\"background-color:rgba(104,104,255,0.5);\">children</span> <span style=\"background-color:rgba(104,104,255,0.5);\">with</span> <span style=\"background-color:rgba(104,104,255,0.5);\">autism</span> <span style=\"background-color:rgba(104,104,255,0.5);\">spectrum</span> <span style=\"background-color:rgba(104,104,255,0.5);\">disorders</span> <span style=\"background-color:rgba(104,104,255,0.5);\">(</span> <span style=\"background-color:rgba(104,104,255,0.5);\">AS</span> <span style=\"background-color:rgba(104,104,255,0.5);\">##Ds</span> <span style=\"background-color:rgba(104,104,255,0.5);\">)</span> <span style=\"background-color:rgba(104,104,255,0.5);\">nationwide</span> <span style=\"background-color:rgba(255,255,255,0);\">,</span> <span style=\"background-color:rgba(104,104,255,0.5);\">the</span> <span style=\"background-color:rgba(104,104,255,0.5);\">Centers</span> <span style=\"background-color:rgba(104,104,255,0.5);\">for</span> <span style=\"background-color:rgba(104,104,255,0.5);\">Disease</span> <span style=\"background-color:rgba(104,104,255,0.5);\">Control</span> <span style=\"background-color:rgba(104,104,255,0.5);\">and</span> <span style=\"background-color:rgba(104,104,255,0.5);\">Prevention</span> <span style=\"background-color:rgba(104,104,255,0.5);\">(</span> <span style=\"background-color:rgba(104,104,255,0.5);\">CD</span> <span style=\"background-color:rgba(104,104,255,0.5);\">##C</span> <span style=\"background-color:rgba(104,104,255,0.5);\">)</span> <span style=\"background-color:rgba(104,104,255,0.5);\">has</span> <span style=\"background-color:rgba(104,104,255,0.5);\">consistently</span> <span style=\"background-color:rgba(104,104,255,0.5);\">failed</span> <span style=\"background-color:rgba(104,104,255,0.5);\">to</span> <span style=\"background-color:rgba(104,104,255,0.5);\">declare</span> <span style=\"background-color:rgba(104,104,255,0.5);\">AS</span> <span style=\"background-color:rgba(104,104,255,0.5);\">##D</span> <span style=\"background-color:rgba(104,104,255,0.5);\">an</span> <span style=\"background-color:rgba(104,104,255,0.5);\">epidemic</span> <span style=\"background-color:rgba(255,255,255,0);\">.</span> <span style=\"background-color:rgba(104,104,255,1);\">This</span> <span style=\"background-color:rgba(104,104,255,0.5);\">public</span> <span style=\"background-color:rgba(104,104,255,0.5);\">mess</span> <span style=\"background-color:rgba(104,104,255,0.5);\">##aging</span> <span style=\"background-color:rgba(104,104,255,0.5);\">decision</span> <span style=\"background-color:rgba(104,104,255,0.5);\">highlights</span> <span style=\"background-color:rgba(104,104,255,0.5);\">the</span> <span style=\"background-color:rgba(104,104,255,0.5);\">CD</span> <span style=\"background-color:rgba(104,104,255,0.5);\">##C</span> <span style=\"background-color:rgba(104,104,255,0.5);\">’</span> <span style=\"background-color:rgba(104,104,255,0.5);\">s</span> <span style=\"background-color:rgba(104,104,255,0.5);\">ongoing</span> <span style=\"background-color:rgba(104,104,255,0.5);\">di</span> <span style=\"background-color:rgba(104,104,255,0.5);\">##s</span> <span style=\"background-color:rgba(104,104,255,0.5);\">##regard</span> <span style=\"background-color:rgba(104,104,255,0.5);\">for</span> <span style=\"background-color:rgba(104,104,255,0.5);\">prevalence</span> <span style=\"background-color:rgba(104,104,255,0.5);\">increases</span> <span style=\"background-color:rgba(104,104,255,0.5);\">over</span> <span style=\"background-color:rgba(104,104,255,0.5);\">time</span> <span style=\"background-color:rgba(104,104,255,0.5);\">that</span> <span style=\"background-color:rgba(104,104,255,0.5);\">support</span> <span style=\"background-color:rgba(104,104,255,0.5);\">the</span> <span style=\"background-color:rgba(104,104,255,0.5);\">over</span> <span style=\"background-color:rgba(104,104,255,0.5);\">##rid</span> <span style=\"background-color:rgba(104,104,255,0.5);\">##ing</span> <span style=\"background-color:rgba(104,104,255,0.5);\">importance</span> <span style=\"background-color:rgba(104,104,255,0.5);\">of</span> <span style=\"background-color:rgba(104,104,255,0.5);\">environmental</span> <span style=\"background-color:rgba(104,104,255,0.5);\">causes</span> <span style=\"background-color:rgba(104,104,255,0.5);\">rather</span> <span style=\"background-color:rgba(104,104,255,0.5);\">than</span> <span style=\"background-color:rgba(104,104,255,0.5);\">genetics</span> <span style=\"background-color:rgba(104,104,255,0.5);\">ca</span> <span style=\"background-color:rgba(104,104,255,0.5);\">##usal</span> <span style=\"background-color:rgba(104,104,255,0.5);\">##ity</span> <span style=\"background-color:rgba(104,104,255,0.5);\">in</span> <span style=\"background-color:rgba(104,104,255,0.5);\">this</span> <span style=\"background-color:rgba(104,104,255,0.5);\">serious</span> <span style=\"background-color:rgba(104,104,255,0.5);\">childhood</span> <span style=\"background-color:rgba(104,104,255,0.5);\">health</span> <span style=\"background-color:rgba(104,104,255,0.5);\">condition</span> <span style=\"background-color:rgba(255,255,255,0);\">.</span> <span style=\"background-color:rgba(255,108,255,1);\">According</span> <span style=\"background-color:rgba(255,108,255,0.5);\">to</span> <span style=\"background-color:rgba(255,108,255,0.5);\">the</span> <span style=\"background-color:rgba(255,108,255,0.5);\">most</span> <span style=\"background-color:rgba(255,108,255,0.5);\">recent</span> <span style=\"background-color:rgba(255,108,255,0.5);\">2018</span> <span style=\"background-color:rgba(255,108,255,0.5);\">survey</span> <span style=\"background-color:rgba(255,108,255,0.5);\">from</span> <span style=\"background-color:rgba(255,108,255,0.5);\">the</span> <span style=\"background-color:rgba(255,108,255,0.5);\">National</span> <span style=\"background-color:rgba(255,108,255,0.5);\">Survey</span> <span style=\"background-color:rgba(255,108,255,0.5);\">of</span> <span style=\"background-color:rgba(255,108,255,0.5);\">Children</span> <span style=\"background-color:rgba(255,108,255,0.5);\">’</span> <span style=\"background-color:rgba(255,108,255,0.5);\">s</span> <span style=\"background-color:rgba(255,108,255,0.5);\">Health</span> <span style=\"background-color:rgba(255,108,255,0.5);\">(</span> <span style=\"background-color:rgba(255,108,255,0.5);\">N</span> <span style=\"background-color:rgba(255,108,255,0.5);\">##SC</span> <span style=\"background-color:rgba(255,108,255,0.5);\">##H</span> <span style=\"background-color:rgba(255,108,255,0.5);\">)</span> <span style=\"background-color:rgba(255,108,255,0.5);\">,</span> <span style=\"background-color:rgba(255,108,255,0.5);\">1</span> <span style=\"background-color:rgba(255,108,255,0.5);\">in</span> <span style=\"background-color:rgba(255,108,255,0.5);\">35</span> <span style=\"background-color:rgba(255,108,255,0.5);\">American</span> <span style=\"background-color:rgba(255,108,255,0.5);\">children</span> <span style=\"background-color:rgba(255,108,255,0.5);\">ages</span> <span style=\"background-color:rgba(255,108,255,0.5);\">3</span> <span style=\"background-color:rgba(255,108,255,0.5);\">-</span> <span style=\"background-color:rgba(255,108,255,0.5);\">17</span> <span style=\"background-color:rgba(255,108,255,0.5);\">have</span> <span style=\"background-color:rgba(255,108,255,0.5);\">an</span> <span style=\"background-color:rgba(255,108,255,0.5);\">Au</span> <span style=\"background-color:rgba(255,108,255,0.5);\">##tism</span> <span style=\"background-color:rgba(255,108,255,0.5);\">Spectrum</span> <span style=\"background-color:rgba(255,108,255,0.5);\">Di</span> <span style=\"background-color:rgba(255,108,255,0.5);\">##sor</span> <span style=\"background-color:rgba(255,108,255,0.5);\">##der</span> <span style=\"background-color:rgba(255,108,255,0.5);\">(</span> <span style=\"background-color:rgba(255,108,255,0.5);\">AS</span> <span style=\"background-color:rgba(255,108,255,0.5);\">##D</span> <span style=\"background-color:rgba(255,108,255,0.5);\">)</span> <span style=\"background-color:rgba(255,108,255,0.5);\">,</span> <span style=\"background-color:rgba(255,108,255,0.5);\">over</span> <span style=\"background-color:rgba(255,108,255,0.5);\">1</span> <span style=\"background-color:rgba(255,108,255,0.5);\">.</span> <span style=\"background-color:rgba(255,108,255,0.5);\">7</span> <span style=\"background-color:rgba(255,108,255,0.5);\">million</span> <span style=\"background-color:rgba(255,108,255,0.5);\">children</span> <span style=\"background-color:rgba(255,255,255,0);\">.</span>"
      ],
      "text/plain": [
       "<IPython.core.display.HTML object>"
      ]
     },
     "metadata": {},
     "output_type": "display_data"
    },
    {
     "data": {
      "text/html": [
       "<span style=\"background-color:rgba(104,104,255,1);\">(</span> <span style=\"background-color:rgba(255,255,255,0);\">Article</span> <span style=\"background-color:rgba(255,255,255,0);\">by</span> <span style=\"background-color:rgba(255,255,255,0);\">Judith</span> <span style=\"background-color:rgba(255,255,255,0);\">Pi</span> <span style=\"background-color:rgba(255,255,255,0);\">##n</span> <span style=\"background-color:rgba(255,255,255,0);\">##borough</span> <span style=\"background-color:rgba(104,104,255,0.5);\">Z</span> <span style=\"background-color:rgba(255,255,255,0);\">##immer</span> <span style=\"background-color:rgba(255,255,255,0);\">##man</span> <span style=\"background-color:rgba(255,255,255,0);\">and</span> <span style=\"background-color:rgba(123,255,108,0.5);\">Mark</span> <span style=\"background-color:rgba(123,255,108,0.5);\">B</span> <span style=\"background-color:rgba(123,255,108,0.5);\">##lax</span> <span style=\"background-color:rgba(123,255,108,0.5);\">##ill</span> <span style=\"background-color:rgba(123,255,108,0.5);\">re</span> <span style=\"background-color:rgba(255,255,255,0);\">##published</span> <span style=\"background-color:rgba(123,255,108,0.5);\">from</span> <span style=\"background-color:rgba(255,114,104,0.5);\">Children</span> <span style=\"background-color:rgba(123,255,108,0.5);\">##s</span> <span style=\"background-color:rgba(104,104,255,0.5);\">##H</span> <span style=\"background-color:rgba(104,104,255,0.5);\">##eal</span> <span style=\"background-color:rgba(255,114,104,0.5);\">##th</span> <span style=\"background-color:rgba(104,104,255,0.5);\">##D</span> <span style=\"background-color:rgba(104,104,255,0.5);\">##ef</span> <span style=\"background-color:rgba(123,255,108,0.5);\">##ense</span> <span style=\"background-color:rgba(255,255,255,0);\">.</span> <span style=\"background-color:rgba(255,255,255,0);\">org</span> <span style=\"background-color:rgba(255,255,255,0);\">)</span>"
      ],
      "text/plain": [
       "<IPython.core.display.HTML object>"
      ]
     },
     "metadata": {},
     "output_type": "display_data"
    },
    {
     "data": {
      "text/html": [
       "<span style=\"background-color:rgba(255,108,255,1);\">Using</span> <span style=\"background-color:rgba(255,255,255,0);\">a</span> <span style=\"background-color:rgba(255,255,255,0);\">different</span> <span style=\"background-color:rgba(255,108,255,0.5);\">method</span> <span style=\"background-color:rgba(255,108,255,0.5);\">,</span> <span style=\"background-color:rgba(255,108,255,0.5);\">the</span> <span style=\"background-color:rgba(255,108,255,0.5);\">recently</span> <span style=\"background-color:rgba(255,108,255,0.5);\">released</span> <span style=\"background-color:rgba(255,108,255,0.5);\">CD</span> <span style=\"background-color:rgba(255,108,255,0.5);\">##C</span> <span style=\"background-color:rgba(255,108,255,0.5);\">report</span> <span style=\"background-color:rgba(255,108,255,0.5);\">from</span> <span style=\"background-color:rgba(255,108,255,0.5);\">its</span> <span style=\"background-color:rgba(255,108,255,0.5);\">Au</span> <span style=\"background-color:rgba(255,108,255,0.5);\">##tism</span> <span style=\"background-color:rgba(255,108,255,0.5);\">and</span> <span style=\"background-color:rgba(255,108,255,0.5);\">Development</span> <span style=\"background-color:rgba(255,108,255,0.5);\">##al</span> <span style=\"background-color:rgba(255,108,255,0.5);\">Di</span> <span style=\"background-color:rgba(255,108,255,0.5);\">##sa</span> <span style=\"background-color:rgba(255,108,255,0.5);\">##bilities</span> <span style=\"background-color:rgba(255,108,255,0.5);\">Monitor</span> <span style=\"background-color:rgba(255,108,255,0.5);\">##ing</span> <span style=\"background-color:rgba(255,108,255,0.5);\">(</span> <span style=\"background-color:rgba(255,108,255,0.5);\">AD</span> <span style=\"background-color:rgba(255,108,255,0.5);\">##DM</span> <span style=\"background-color:rgba(255,108,255,0.5);\">)</span> <span style=\"background-color:rgba(255,108,255,0.5);\">Network</span> <span style=\"background-color:rgba(255,108,255,0.5);\">,</span> <span style=\"background-color:rgba(255,108,255,0.5);\">reported</span> <span style=\"background-color:rgba(255,108,255,0.5);\">an</span> <span style=\"background-color:rgba(255,108,255,0.5);\">average</span> <span style=\"background-color:rgba(255,108,255,0.5);\">AS</span> <span style=\"background-color:rgba(255,108,255,0.5);\">##D</span> <span style=\"background-color:rgba(255,108,255,0.5);\">rate</span> <span style=\"background-color:rgba(255,108,255,0.5);\">of</span> <span style=\"background-color:rgba(255,108,255,0.5);\">185</span> <span style=\"background-color:rgba(255,108,255,0.5);\">per</span> <span style=\"background-color:rgba(255,108,255,0.5);\">10</span> <span style=\"background-color:rgba(255,108,255,0.5);\">,</span> <span style=\"background-color:rgba(255,108,255,0.5);\">000</span> <span style=\"background-color:rgba(255,108,255,0.5);\">among</span> <span style=\"background-color:rgba(255,108,255,0.5);\">8</span> <span style=\"background-color:rgba(255,108,255,0.5);\">-</span> <span style=\"background-color:rgba(255,108,255,0.5);\">year</span> <span style=\"background-color:rgba(255,108,255,0.5);\">-</span> <span style=\"background-color:rgba(255,108,255,0.5);\">old</span> <span style=\"background-color:rgba(255,108,255,0.5);\">children</span> <span style=\"background-color:rgba(255,108,255,0.5);\">born</span> <span style=\"background-color:rgba(255,108,255,0.5);\">in</span> <span style=\"background-color:rgba(255,108,255,0.5);\">2008</span> <span style=\"background-color:rgba(255,108,255,0.5);\">,</span> <span style=\"background-color:rgba(255,108,255,0.5);\">or</span> <span style=\"background-color:rgba(255,108,255,0.5);\">1</span> <span style=\"background-color:rgba(255,108,255,0.5);\">in</span> <span style=\"background-color:rgba(255,108,255,0.5);\">54</span> <span style=\"background-color:rgba(255,108,255,0.5);\">.</span> <span style=\"background-color:rgba(255,108,255,1);\">The</span> <span style=\"background-color:rgba(255,108,255,0.5);\">CD</span> <span style=\"background-color:rgba(255,108,255,0.5);\">##C</span> <span style=\"background-color:rgba(255,108,255,0.5);\">proudly</span> <span style=\"background-color:rgba(255,108,255,0.5);\">promotes</span> <span style=\"background-color:rgba(255,108,255,0.5);\">AD</span> <span style=\"background-color:rgba(255,108,255,0.5);\">##DM</span> <span style=\"background-color:rgba(255,108,255,0.5);\">as</span> <span style=\"background-color:rgba(255,108,255,0.5);\">the</span> <span style=\"background-color:rgba(255,108,255,0.5);\">only</span> <span style=\"background-color:rgba(255,108,255,0.5);\">collaborative</span> <span style=\"background-color:rgba(255,108,255,0.5);\">network</span> <span style=\"background-color:rgba(255,108,255,0.5);\">to</span> <span style=\"background-color:rgba(255,108,255,0.5);\">track</span> <span style=\"background-color:rgba(255,108,255,0.5);\">the</span> <span style=\"background-color:rgba(255,108,255,0.5);\">number</span> <span style=\"background-color:rgba(255,108,255,0.5);\">and</span> <span style=\"background-color:rgba(255,108,255,0.5);\">characteristics</span> <span style=\"background-color:rgba(255,108,255,0.5);\">of</span> <span style=\"background-color:rgba(255,108,255,0.5);\">children</span> <span style=\"background-color:rgba(255,108,255,0.5);\">with</span> <span style=\"background-color:rgba(255,108,255,0.5);\">AS</span> <span style=\"background-color:rgba(255,108,255,0.5);\">##D</span> <span style=\"background-color:rgba(255,255,255,0);\">.</span> <span style=\"background-color:rgba(255,108,255,1);\">This</span> <span style=\"background-color:rgba(255,108,255,0.5);\">new</span> <span style=\"background-color:rgba(255,108,255,0.5);\">rate</span> <span style=\"background-color:rgba(255,108,255,0.5);\">represents</span> <span style=\"background-color:rgba(255,108,255,0.5);\">a</span> <span style=\"background-color:rgba(255,108,255,0.5);\">9</span> <span style=\"background-color:rgba(255,108,255,0.5);\">%</span> <span style=\"background-color:rgba(255,108,255,0.5);\">increase</span> <span style=\"background-color:rgba(255,108,255,0.5);\">over</span> <span style=\"background-color:rgba(255,108,255,0.5);\">the</span> <span style=\"background-color:rgba(255,108,255,0.5);\">2014</span> <span style=\"background-color:rgba(255,108,255,0.5);\">AD</span> <span style=\"background-color:rgba(255,108,255,0.5);\">##DM</span> <span style=\"background-color:rgba(255,108,255,0.5);\">Network</span> <span style=\"background-color:rgba(255,108,255,0.5);\">report</span> <span style=\"background-color:rgba(255,108,255,0.5);\">,</span> <span style=\"background-color:rgba(255,108,255,0.5);\">which</span> <span style=\"background-color:rgba(255,108,255,0.5);\">reported</span> <span style=\"background-color:rgba(255,108,255,0.5);\">a</span> <span style=\"background-color:rgba(255,108,255,0.5);\">rate</span> <span style=\"background-color:rgba(255,108,255,0.5);\">of</span> <span style=\"background-color:rgba(255,108,255,0.5);\">1</span> <span style=\"background-color:rgba(255,108,255,0.5);\">in</span> <span style=\"background-color:rgba(255,108,255,0.5);\">59</span> <span style=\"background-color:rgba(255,108,255,0.5);\">.</span>"
      ],
      "text/plain": [
       "<IPython.core.display.HTML object>"
      ]
     },
     "metadata": {},
     "output_type": "display_data"
    },
    {
     "data": {
      "text/html": [
       "<span style=\"background-color:rgba(255,108,255,1);\">Co</span> <span style=\"background-color:rgba(255,108,255,0.5);\">##mp</span> <span style=\"background-color:rgba(255,108,255,0.5);\">##aring</span> <span style=\"background-color:rgba(255,108,255,0.5);\">recent</span> <span style=\"background-color:rgba(255,108,255,0.5);\">AD</span> <span style=\"background-color:rgba(255,108,255,0.5);\">##DM</span> <span style=\"background-color:rgba(255,108,255,0.5);\">Network</span> <span style=\"background-color:rgba(255,108,255,0.5);\">AS</span> <span style=\"background-color:rgba(255,108,255,0.5);\">##D</span> <span style=\"background-color:rgba(255,108,255,0.5);\">rates</span> <span style=\"background-color:rgba(255,108,255,0.5);\">to</span> <span style=\"background-color:rgba(255,108,255,0.5);\">those</span> <span style=\"background-color:rgba(255,108,255,0.5);\">first</span> <span style=\"background-color:rgba(255,108,255,0.5);\">reported</span> <span style=\"background-color:rgba(255,108,255,0.5);\">by</span> <span style=\"background-color:rgba(255,108,255,0.5);\">the</span> <span style=\"background-color:rgba(255,108,255,0.5);\">network</span> <span style=\"background-color:rgba(255,108,255,0.5);\">in</span> <span style=\"background-color:rgba(255,108,255,0.5);\">2000</span> <span style=\"background-color:rgba(255,108,255,0.5);\">,</span> <span style=\"background-color:rgba(255,108,255,0.5);\">there</span> <span style=\"background-color:rgba(255,108,255,0.5);\">is</span> <span style=\"background-color:rgba(255,108,255,0.5);\">a</span> <span style=\"background-color:rgba(255,108,255,0.5);\">s</span> <span style=\"background-color:rgba(255,108,255,0.5);\">##tag</span> <span style=\"background-color:rgba(255,108,255,0.5);\">##gering</span> <span style=\"background-color:rgba(255,108,255,0.5);\">176</span> <span style=\"background-color:rgba(255,108,255,0.5);\">%</span> <span style=\"background-color:rgba(255,108,255,0.5);\">increase</span> <span style=\"background-color:rgba(255,108,255,0.5);\">when</span> <span style=\"background-color:rgba(255,108,255,0.5);\">compared</span> <span style=\"background-color:rgba(255,108,255,0.5);\">the</span> <span style=\"background-color:rgba(255,108,255,0.5);\">earliest</span> <span style=\"background-color:rgba(255,108,255,0.5);\">AS</span> <span style=\"background-color:rgba(255,108,255,0.5);\">##D</span> <span style=\"background-color:rgba(255,108,255,0.5);\">report</span> <span style=\"background-color:rgba(255,108,255,0.5);\">rate</span> <span style=\"background-color:rgba(255,108,255,0.5);\">of</span> <span style=\"background-color:rgba(255,108,255,0.5);\">1</span> <span style=\"background-color:rgba(255,108,255,0.5);\">in</span> <span style=\"background-color:rgba(255,108,255,0.5);\">149</span> <span style=\"background-color:rgba(255,108,255,0.5);\">among</span> <span style=\"background-color:rgba(255,108,255,0.5);\">8</span> <span style=\"background-color:rgba(255,108,255,0.5);\">-</span> <span style=\"background-color:rgba(255,108,255,0.5);\">year</span> <span style=\"background-color:rgba(255,108,255,0.5);\">-</span> <span style=\"background-color:rgba(255,108,255,0.5);\">old</span> <span style=\"background-color:rgba(255,108,255,0.5);\">children</span> <span style=\"background-color:rgba(255,108,255,0.5);\">in</span> <span style=\"background-color:rgba(255,108,255,0.5);\">2000</span> <span style=\"background-color:rgba(255,255,255,0);\">.</span> <span style=\"background-color:rgba(255,108,255,1);\">Changes</span> <span style=\"background-color:rgba(255,108,255,0.5);\">by</span> <span style=\"background-color:rgba(255,108,255,0.5);\">year</span> <span style=\"background-color:rgba(255,108,255,0.5);\">and</span> <span style=\"background-color:rgba(255,108,255,0.5);\">site</span> <span style=\"background-color:rgba(255,108,255,0.5);\">are</span> <span style=\"background-color:rgba(255,108,255,0.5);\">shown</span> <span style=\"background-color:rgba(255,108,255,0.5);\">in</span> <span style=\"background-color:rgba(255,255,255,0);\">Figure</span> <span style=\"background-color:rgba(255,108,255,0.5);\">1</span> <span style=\"background-color:rgba(255,255,255,0);\">.</span>"
      ],
      "text/plain": [
       "<IPython.core.display.HTML object>"
      ]
     },
     "metadata": {},
     "output_type": "display_data"
    },
    {
     "data": {
      "text/html": [
       "<span style=\"background-color:rgba(255,255,255,0);\">Where</span> <span style=\"background-color:rgba(255,255,255,0);\">is</span> <span style=\"background-color:rgba(255,255,255,0);\">the</span> <span style=\"background-color:rgba(255,255,255,0);\">urgency</span> <span style=\"background-color:rgba(255,255,255,0);\">?</span>"
      ],
      "text/plain": [
       "<IPython.core.display.HTML object>"
      ]
     },
     "metadata": {},
     "output_type": "display_data"
    },
    {
     "data": {
      "text/html": [
       "<span style=\"background-color:rgba(104,104,255,1);\">The</span> <span style=\"background-color:rgba(104,104,255,0.5);\">only</span> <span style=\"background-color:rgba(104,104,255,0.5);\">a</span> <span style=\"background-color:rgba(104,104,255,0.5);\">##ck</span> <span style=\"background-color:rgba(104,104,255,0.5);\">##no</span> <span style=\"background-color:rgba(104,104,255,0.5);\">##wl</span> <span style=\"background-color:rgba(104,104,255,0.5);\">##ed</span> <span style=\"background-color:rgba(104,104,255,0.5);\">##gment</span> <span style=\"background-color:rgba(104,104,255,0.5);\">of</span> <span style=\"background-color:rgba(104,104,255,0.5);\">urgency</span> <span style=\"background-color:rgba(104,104,255,0.5);\">in</span> <span style=\"background-color:rgba(104,104,255,0.5);\">the</span> <span style=\"background-color:rgba(104,104,255,0.5);\">2014</span> <span style=\"background-color:rgba(104,104,255,0.5);\">AD</span> <span style=\"background-color:rgba(104,104,255,0.5);\">##DM</span> <span style=\"background-color:rgba(104,104,255,0.5);\">report</span> <span style=\"background-color:rgba(104,104,255,0.5);\">is</span> <span style=\"background-color:rgba(104,104,255,0.5);\">a</span> <span style=\"background-color:rgba(104,104,255,0.5);\">sentence</span> <span style=\"background-color:rgba(104,104,255,0.5);\">buried</span> <span style=\"background-color:rgba(104,104,255,0.5);\">deep</span> <span style=\"background-color:rgba(104,104,255,0.5);\">in</span> <span style=\"background-color:rgba(104,104,255,0.5);\">the</span> <span style=\"background-color:rgba(104,104,255,0.5);\">text</span> <span style=\"background-color:rgba(104,104,255,0.5);\">stating</span> <span style=\"background-color:rgba(104,104,255,0.5);\">that</span> <span style=\"background-color:rgba(104,104,255,0.5);\">autism</span> <span style=\"background-color:rgba(104,104,255,0.5);\">was</span> <span style=\"background-color:rgba(104,104,255,0.5);\">“</span> <span style=\"background-color:rgba(104,104,255,0.5);\">an</span> <span style=\"background-color:rgba(104,104,255,0.5);\">urgent</span> <span style=\"background-color:rgba(104,104,255,0.5);\">public</span> <span style=\"background-color:rgba(104,104,255,0.5);\">health</span> <span style=\"background-color:rgba(104,104,255,0.5);\">concern</span> <span style=\"background-color:rgba(255,255,255,0);\">.</span> <span style=\"background-color:rgba(255,255,255,0);\">”</span> <span style=\"background-color:rgba(255,255,255,0);\">In</span> <span style=\"background-color:rgba(104,104,255,0.5);\">the</span> <span style=\"background-color:rgba(104,104,255,0.5);\">most</span> <span style=\"background-color:rgba(104,104,255,0.5);\">recent</span> <span style=\"background-color:rgba(255,108,255,0.5);\">AD</span> <span style=\"background-color:rgba(104,104,255,0.5);\">##DM</span> <span style=\"background-color:rgba(255,108,255,0.5);\">2016</span> <span style=\"background-color:rgba(255,108,255,0.5);\">report</span> <span style=\"background-color:rgba(255,108,255,0.5);\">,</span> <span style=\"background-color:rgba(255,108,255,0.5);\">an</span> <span style=\"background-color:rgba(255,108,255,0.5);\">autism</span> <span style=\"background-color:rgba(255,108,255,0.5);\">rate</span> <span style=\"background-color:rgba(255,108,255,0.5);\">of</span> <span style=\"background-color:rgba(255,108,255,0.5);\">1</span> <span style=\"background-color:rgba(255,108,255,0.5);\">in</span> <span style=\"background-color:rgba(255,108,255,0.5);\">54</span> <span style=\"background-color:rgba(104,104,255,0.5);\">is</span> <span style=\"background-color:rgba(104,104,255,0.5);\">merely</span> <span style=\"background-color:rgba(104,104,255,0.5);\">“</span> <span style=\"background-color:rgba(104,104,255,0.5);\">a</span> <span style=\"background-color:rgba(104,104,255,0.5);\">continuing</span> <span style=\"background-color:rgba(104,104,255,0.5);\">public</span> <span style=\"background-color:rgba(104,104,255,0.5);\">health</span> <span style=\"background-color:rgba(104,104,255,0.5);\">concern</span> <span style=\"background-color:rgba(104,104,255,0.5);\">”</span> <span style=\"background-color:rgba(255,255,255,0);\">as</span> <span style=\"background-color:rgba(255,255,255,0);\">shown</span> <span style=\"background-color:rgba(104,104,255,0.5);\">in</span> <span style=\"background-color:rgba(104,104,255,0.5);\">Figure</span> <span style=\"background-color:rgba(104,104,255,0.5);\">2</span> <span style=\"background-color:rgba(255,255,255,0);\">.</span> <span style=\"background-color:rgba(255,255,255,0);\">Instead</span> <span style=\"background-color:rgba(104,104,255,0.5);\">of</span> <span style=\"background-color:rgba(104,104,255,0.5);\">raising</span> <span style=\"background-color:rgba(104,104,255,0.5);\">the</span> <span style=\"background-color:rgba(104,104,255,0.5);\">alarm</span> <span style=\"background-color:rgba(104,104,255,0.5);\">over</span> <span style=\"background-color:rgba(104,104,255,0.5);\">their</span> <span style=\"background-color:rgba(104,104,255,0.5);\">un</span> <span style=\"background-color:rgba(104,104,255,0.5);\">##ben</span> <span style=\"background-color:rgba(104,104,255,0.5);\">##ding</span> <span style=\"background-color:rgba(104,104,255,0.5);\">upward</span> <span style=\"background-color:rgba(104,104,255,0.5);\">trend</span> <span style=\"background-color:rgba(104,104,255,0.5);\">line</span> <span style=\"background-color:rgba(255,255,255,0);\">,</span> <span style=\"background-color:rgba(104,104,255,1);\">the</span> <span style=\"background-color:rgba(104,104,255,0.5);\">CD</span> <span style=\"background-color:rgba(104,104,255,0.5);\">##C</span> <span style=\"background-color:rgba(104,104,255,0.5);\">reserves</span> <span style=\"background-color:rgba(104,104,255,0.5);\">its</span> <span style=\"background-color:rgba(104,104,255,0.5);\">main</span> <span style=\"background-color:rgba(104,104,255,0.5);\">concerns</span> <span style=\"background-color:rgba(104,104,255,0.5);\">for</span> <span style=\"background-color:rgba(104,104,255,0.5);\">racial</span> <span style=\"background-color:rgba(104,104,255,0.5);\">equality</span> <span style=\"background-color:rgba(255,255,255,0);\">:</span> <span style=\"background-color:rgba(104,104,255,1);\">app</span> <span style=\"background-color:rgba(104,104,255,0.5);\">##lau</span> <span style=\"background-color:rgba(104,104,255,0.5);\">##ding</span> <span style=\"background-color:rgba(104,104,255,0.5);\">the</span> <span style=\"background-color:rgba(104,104,255,0.5);\">fact</span> <span style=\"background-color:rgba(104,104,255,0.5);\">that</span> <span style=\"background-color:rgba(104,104,255,0.5);\">autism</span> <span style=\"background-color:rgba(104,104,255,0.5);\">in</span> <span style=\"background-color:rgba(104,104,255,0.5);\">African</span> <span style=\"background-color:rgba(104,104,255,0.5);\">Americans</span> <span style=\"background-color:rgba(104,104,255,0.5);\">is</span> <span style=\"background-color:rgba(104,104,255,0.5);\">now</span> <span style=\"background-color:rgba(104,104,255,0.5);\">broadly</span> <span style=\"background-color:rgba(104,104,255,0.5);\">similar</span> <span style=\"background-color:rgba(104,104,255,0.5);\">to</span> <span style=\"background-color:rgba(104,104,255,0.5);\">that</span> <span style=\"background-color:rgba(104,104,255,0.5);\">of</span> <span style=\"background-color:rgba(104,104,255,0.5);\">white</span> <span style=\"background-color:rgba(104,104,255,0.5);\">and</span> <span style=\"background-color:rgba(104,104,255,0.5);\">Asian</span> <span style=\"background-color:rgba(104,104,255,0.5);\">Americans</span> <span style=\"background-color:rgba(255,255,255,0);\">.</span> <span style=\"background-color:rgba(123,255,108,1);\">Using</span> <span style=\"background-color:rgba(255,255,255,0);\">the</span> <span style=\"background-color:rgba(255,255,255,0);\">AD</span> <span style=\"background-color:rgba(255,255,255,0);\">##DM</span> <span style=\"background-color:rgba(255,255,255,0);\">Network</span> <span style=\"background-color:rgba(255,255,255,0);\">methodology</span> <span style=\"background-color:rgba(255,255,255,0);\">,</span> <span style=\"background-color:rgba(123,255,108,0.5);\">AS</span> <span style=\"background-color:rgba(123,255,108,0.5);\">##D</span> <span style=\"background-color:rgba(123,255,108,0.5);\">cases</span> <span style=\"background-color:rgba(123,255,108,0.5);\">are</span> <span style=\"background-color:rgba(123,255,108,0.5);\">identified</span> <span style=\"background-color:rgba(123,255,108,0.5);\">through</span> <span style=\"background-color:rgba(123,255,108,0.5);\">a</span> <span style=\"background-color:rgba(123,255,108,0.5);\">review</span> <span style=\"background-color:rgba(123,255,108,0.5);\">and</span> <span style=\"background-color:rgba(123,255,108,0.5);\">abstract</span> <span style=\"background-color:rgba(123,255,108,0.5);\">##ion</span> <span style=\"background-color:rgba(123,255,108,0.5);\">of</span> <span style=\"background-color:rgba(123,255,108,0.5);\">records</span> <span style=\"background-color:rgba(123,255,108,0.5);\">followed</span> <span style=\"background-color:rgba(123,255,108,0.5);\">by</span> <span style=\"background-color:rgba(123,255,108,0.5);\">experienced</span> <span style=\"background-color:rgba(123,255,108,0.5);\">clinic</span> <span style=\"background-color:rgba(123,255,108,0.5);\">##ians</span> <span style=\"background-color:rgba(123,255,108,0.5);\">who</span> <span style=\"background-color:rgba(123,255,108,0.5);\">systematically</span> <span style=\"background-color:rgba(123,255,108,0.5);\">review</span> <span style=\"background-color:rgba(123,255,108,0.5);\">information</span> <span style=\"background-color:rgba(123,255,108,0.5);\">to</span> <span style=\"background-color:rgba(123,255,108,0.5);\">determine</span> <span style=\"background-color:rgba(123,255,108,0.5);\">AS</span> <span style=\"background-color:rgba(123,255,108,0.5);\">##D</span> <span style=\"background-color:rgba(123,255,108,0.5);\">case</span> <span style=\"background-color:rgba(123,255,108,0.5);\">status</span> <span style=\"background-color:rgba(255,255,255,0);\">.</span> <span style=\"background-color:rgba(255,114,104,1);\">The</span> <span style=\"background-color:rgba(255,114,104,0.5);\">CD</span> <span style=\"background-color:rgba(255,114,104,0.5);\">##C</span> <span style=\"background-color:rgba(255,114,104,0.5);\">claims</span> <span style=\"background-color:rgba(255,114,104,0.5);\">its</span> <span style=\"background-color:rgba(255,114,104,0.5);\">method</span> <span style=\"background-color:rgba(255,114,104,0.5);\">##ological</span> <span style=\"background-color:rgba(255,114,104,0.5);\">approach</span> <span style=\"background-color:rgba(255,114,104,0.5);\">provides</span> <span style=\"background-color:rgba(255,114,104,0.5);\">the</span> <span style=\"background-color:rgba(255,114,104,0.5);\">“</span> <span style=\"background-color:rgba(255,114,104,0.5);\">best</span> <span style=\"background-color:rgba(255,114,104,0.5);\">possible</span> <span style=\"background-color:rgba(255,114,104,0.5);\">estimate</span> <span style=\"background-color:rgba(255,114,104,0.5);\">currently</span> <span style=\"background-color:rgba(255,114,104,0.5);\">available</span> <span style=\"background-color:rgba(255,114,104,0.5);\">of</span> <span style=\"background-color:rgba(255,114,104,0.5);\">prevalence</span> <span style=\"background-color:rgba(255,114,104,0.5);\">of</span> <span style=\"background-color:rgba(255,114,104,0.5);\">AS</span> <span style=\"background-color:rgba(255,114,104,0.5);\">##Ds</span> <span style=\"background-color:rgba(255,114,104,0.5);\">without</span> <span style=\"background-color:rgba(255,114,104,0.5);\">conducting</span> <span style=\"background-color:rgba(255,114,104,0.5);\">complete</span> <span style=\"background-color:rgba(255,114,104,0.5);\">population</span> <span style=\"background-color:rgba(255,114,104,0.5);\">screening</span> <span style=\"background-color:rgba(255,114,104,0.5);\">and</span> <span style=\"background-color:rgba(255,114,104,0.5);\">diagnostic</span> <span style=\"background-color:rgba(255,114,104,0.5);\">clinical</span> <span style=\"background-color:rgba(255,114,104,0.5);\">case</span> <span style=\"background-color:rgba(255,114,104,0.5);\">confirmation</span> <span style=\"background-color:rgba(255,255,255,0);\">.</span> <span style=\"background-color:rgba(255,255,255,0);\">”</span> <span style=\"background-color:rgba(255,255,255,0);\">If</span> <span style=\"background-color:rgba(255,114,104,1);\">the</span> <span style=\"background-color:rgba(255,114,104,0.5);\">CD</span> <span style=\"background-color:rgba(255,114,104,0.5);\">##C</span> <span style=\"background-color:rgba(255,114,104,0.5);\">believes</span> <span style=\"background-color:rgba(255,114,104,0.5);\">AS</span> <span style=\"background-color:rgba(255,114,104,0.5);\">##D</span> <span style=\"background-color:rgba(255,114,104,0.5);\">rate</span> <span style=\"background-color:rgba(255,114,104,0.5);\">increases</span> <span style=\"background-color:rgba(255,114,104,0.5);\">over</span> <span style=\"background-color:rgba(255,114,104,0.5);\">time</span> <span style=\"background-color:rgba(255,114,104,0.5);\">are</span> <span style=\"background-color:rgba(255,114,104,0.5);\">the</span> <span style=\"background-color:rgba(255,114,104,0.5);\">result</span> <span style=\"background-color:rgba(255,114,104,0.5);\">of</span> <span style=\"background-color:rgba(255,114,104,0.5);\">racial</span> <span style=\"background-color:rgba(255,114,104,0.5);\">in</span> <span style=\"background-color:rgba(255,114,104,0.5);\">##e</span> <span style=\"background-color:rgba(255,114,104,0.5);\">##quities</span> <span style=\"background-color:rgba(255,255,255,0);\">,</span> <span style=\"background-color:rgba(104,104,255,1);\">why</span> <span style=\"background-color:rgba(104,104,255,0.5);\">haven</span> <span style=\"background-color:rgba(255,114,104,0.5);\">’</span> <span style=\"background-color:rgba(104,104,255,0.5);\">t</span> <span style=\"background-color:rgba(104,104,255,0.5);\">they</span> <span style=\"background-color:rgba(255,114,104,0.5);\">recommended</span> <span style=\"background-color:rgba(255,114,104,0.5);\">population</span> <span style=\"background-color:rgba(255,114,104,0.5);\">screening</span> <span style=\"background-color:rgba(255,114,104,0.5);\">and</span> <span style=\"background-color:rgba(255,114,104,0.5);\">diagnostic</span> <span style=\"background-color:rgba(255,114,104,0.5);\">case</span> <span style=\"background-color:rgba(255,114,104,0.5);\">confirmation</span> <span style=\"background-color:rgba(255,114,104,0.5);\">in</span> <span style=\"background-color:rgba(255,114,104,0.5);\">under</span> <span style=\"background-color:rgba(255,114,104,0.5);\">##serve</span> <span style=\"background-color:rgba(255,114,104,0.5);\">##d</span> <span style=\"background-color:rgba(255,114,104,0.5);\">populations</span> <span style=\"background-color:rgba(255,114,104,0.5);\">to</span> <span style=\"background-color:rgba(255,114,104,0.5);\">obtain</span> <span style=\"background-color:rgba(255,114,104,0.5);\">more</span> <span style=\"background-color:rgba(255,114,104,0.5);\">accurate</span> <span style=\"background-color:rgba(255,114,104,0.5);\">statistics</span> <span style=\"background-color:rgba(255,255,255,0);\">?</span>"
      ],
      "text/plain": [
       "<IPython.core.display.HTML object>"
      ]
     },
     "metadata": {},
     "output_type": "display_data"
    },
    {
     "data": {
      "text/html": [
       "<span style=\"background-color:rgba(104,104,255,1);\">What</span> <span style=\"background-color:rgba(255,255,255,0);\">happened</span> <span style=\"background-color:rgba(104,104,255,0.5);\">in</span> <span style=\"background-color:rgba(104,104,255,0.5);\">Utah</span> <span style=\"background-color:rgba(104,104,255,0.5);\">?</span>"
      ],
      "text/plain": [
       "<IPython.core.display.HTML object>"
      ]
     },
     "metadata": {},
     "output_type": "display_data"
    },
    {
     "data": {
      "text/html": [
       "<span style=\"background-color:rgba(104,104,255,1);\">The</span> <span style=\"background-color:rgba(104,104,255,0.5);\">AD</span> <span style=\"background-color:rgba(104,104,255,0.5);\">##DM</span> <span style=\"background-color:rgba(104,104,255,0.5);\">Network</span> <span style=\"background-color:rgba(104,104,255,0.5);\">has</span> <span style=\"background-color:rgba(104,104,255,0.5);\">no</span> <span style=\"background-color:rgba(104,104,255,0.5);\">evidence</span> <span style=\"background-color:rgba(104,104,255,0.5);\">of</span> <span style=\"background-color:rgba(104,104,255,0.5);\">overall</span> <span style=\"background-color:rgba(104,104,255,0.5);\">flat</span> <span style=\"background-color:rgba(104,104,255,0.5);\">##ten</span> <span style=\"background-color:rgba(104,104,255,0.5);\">##ing</span> <span style=\"background-color:rgba(104,104,255,0.5);\">or</span> <span style=\"background-color:rgba(104,104,255,0.5);\">declining</span> <span style=\"background-color:rgba(104,104,255,0.5);\">AS</span> <span style=\"background-color:rgba(104,104,255,0.5);\">##D</span> <span style=\"background-color:rgba(104,104,255,0.5);\">rates</span> <span style=\"background-color:rgba(255,255,255,0);\">.</span> <span style=\"background-color:rgba(104,104,255,1);\">There</span> <span style=\"background-color:rgba(104,104,255,0.5);\">are</span> <span style=\"background-color:rgba(104,104,255,0.5);\">,</span> <span style=\"background-color:rgba(104,104,255,0.5);\">however</span> <span style=\"background-color:rgba(104,104,255,0.5);\">,</span> <span style=\"background-color:rgba(104,104,255,0.5);\">an</span> <span style=\"background-color:rgba(104,104,255,0.5);\">##oma</span> <span style=\"background-color:rgba(104,104,255,0.5);\">##lies</span> <span style=\"background-color:rgba(104,104,255,0.5);\">in</span> <span style=\"background-color:rgba(104,104,255,0.5);\">the</span> <span style=\"background-color:rgba(104,104,255,0.5);\">data</span> <span style=\"background-color:rgba(104,104,255,0.5);\">reported</span> <span style=\"background-color:rgba(104,104,255,0.5);\">from</span> <span style=\"background-color:rgba(104,104,255,0.5);\">a</span> <span style=\"background-color:rgba(104,104,255,0.5);\">number</span> <span style=\"background-color:rgba(104,104,255,0.5);\">of</span> <span style=\"background-color:rgba(104,104,255,0.5);\">sites</span> <span style=\"background-color:rgba(104,104,255,0.5);\">,</span> <span style=\"background-color:rgba(104,104,255,0.5);\">including</span> <span style=\"background-color:rgba(104,104,255,0.5);\">,</span> <span style=\"background-color:rgba(104,104,255,0.5);\">most</span> <span style=\"background-color:rgba(104,104,255,0.5);\">notably</span> <span style=\"background-color:rgba(104,104,255,0.5);\">,</span> <span style=\"background-color:rgba(104,104,255,0.5);\">Utah</span> <span style=\"background-color:rgba(104,104,255,0.5);\">and</span> <span style=\"background-color:rgba(104,104,255,0.5);\">Maryland</span> <span style=\"background-color:rgba(255,255,255,0);\">.</span> <span style=\"background-color:rgba(255,114,104,1);\">Maryland</span> <span style=\"background-color:rgba(104,104,255,0.5);\">’</span> <span style=\"background-color:rgba(104,104,255,0.5);\">s</span> <span style=\"background-color:rgba(104,104,255,0.5);\">as</span> <span style=\"background-color:rgba(104,104,255,0.5);\">##cer</span> <span style=\"background-color:rgba(104,104,255,0.5);\">##tain</span> <span style=\"background-color:rgba(104,104,255,0.5);\">##ment</span> <span style=\"background-color:rgba(104,104,255,0.5);\">areas</span> <span style=\"background-color:rgba(104,104,255,0.5);\">changed</span> <span style=\"background-color:rgba(104,104,255,0.5);\">with</span> <span style=\"background-color:rgba(104,104,255,0.5);\">the</span> <span style=\"background-color:rgba(104,104,255,0.5);\">inclusion</span> <span style=\"background-color:rgba(104,104,255,0.5);\">of</span> <span style=\"background-color:rgba(104,104,255,0.5);\">a</span> <span style=\"background-color:rgba(123,255,108,0.5);\">second</span> <span style=\"background-color:rgba(104,104,255,0.5);\">site</span> <span style=\"background-color:rgba(104,104,255,0.5);\">with</span> <span style=\"background-color:rgba(104,104,255,0.5);\">reduced</span> <span style=\"background-color:rgba(104,104,255,0.5);\">access</span> <span style=\"background-color:rgba(104,104,255,0.5);\">to</span> <span style=\"background-color:rgba(104,104,255,0.5);\">school</span> <span style=\"background-color:rgba(104,104,255,0.5);\">records</span> <span style=\"background-color:rgba(255,255,255,0);\">.</span> <span style=\"background-color:rgba(255,114,104,1);\">In</span> <span style=\"background-color:rgba(255,114,104,0.5);\">Utah</span> <span style=\"background-color:rgba(255,114,104,0.5);\">’</span> <span style=\"background-color:rgba(255,114,104,0.5);\">s</span> <span style=\"background-color:rgba(255,114,104,0.5);\">case</span> <span style=\"background-color:rgba(255,114,104,0.5);\">,</span> <span style=\"background-color:rgba(255,114,104,0.5);\">(</span> <span style=\"background-color:rgba(255,114,104,0.5);\">Figure</span> <span style=\"background-color:rgba(255,114,104,0.5);\">3</span> <span style=\"background-color:rgba(255,114,104,0.5);\">)</span> <span style=\"background-color:rgba(255,114,104,0.5);\">as</span> <span style=\"background-color:rgba(255,114,104,0.5);\">one</span> <span style=\"background-color:rgba(255,114,104,0.5);\">of</span> <span style=\"background-color:rgba(255,114,104,0.5);\">us</span> <span style=\"background-color:rgba(255,114,104,0.5);\">has</span> <span style=\"background-color:rgba(255,114,104,0.5);\">pointed</span> <span style=\"background-color:rgba(255,114,104,0.5);\">out</span> <span style=\"background-color:rgba(255,114,104,0.5);\">in</span> <span style=\"background-color:rgba(255,114,104,0.5);\">her</span> <span style=\"background-color:rgba(255,114,104,0.5);\">2013</span> <span style=\"background-color:rgba(255,114,104,0.5);\">complaint</span> <span style=\"background-color:rgba(255,114,104,0.5);\">,</span> <span style=\"background-color:rgba(255,114,104,0.5);\">intentional</span> <span style=\"background-color:rgba(255,114,104,0.5);\">de</span> <span style=\"background-color:rgba(255,114,104,0.5);\">##viation</span> <span style=\"background-color:rgba(255,114,104,0.5);\">##s</span> <span style=\"background-color:rgba(255,114,104,0.5);\">from</span> <span style=\"background-color:rgba(255,114,104,0.5);\">the</span> <span style=\"background-color:rgba(255,114,104,0.5);\">AD</span> <span style=\"background-color:rgba(255,114,104,0.5);\">##DM</span> <span style=\"background-color:rgba(255,114,104,0.5);\">Network</span> <span style=\"background-color:rgba(255,114,104,0.5);\">method</span> <span style=\"background-color:rgba(255,114,104,0.5);\">##ological</span> <span style=\"background-color:rgba(255,114,104,0.5);\">procedures</span> <span style=\"background-color:rgba(255,114,104,0.5);\">were</span> <span style=\"background-color:rgba(255,114,104,0.5);\">allowed</span> <span style=\"background-color:rgba(255,114,104,0.5);\">and</span> <span style=\"background-color:rgba(255,114,104,0.5);\">covered</span> <span style=\"background-color:rgba(255,114,104,0.5);\">up</span> <span style=\"background-color:rgba(255,114,104,0.5);\">by</span> <span style=\"background-color:rgba(255,114,104,0.5);\">the</span> <span style=\"background-color:rgba(255,114,104,0.5);\">AD</span> <span style=\"background-color:rgba(255,114,104,0.5);\">##DM</span> <span style=\"background-color:rgba(255,114,104,0.5);\">Network</span> <span style=\"background-color:rgba(255,114,104,0.5);\">and</span> <span style=\"background-color:rgba(255,114,104,0.5);\">University</span> <span style=\"background-color:rgba(255,114,104,0.5);\">of</span> <span style=\"background-color:rgba(255,114,104,0.5);\">Utah</span> <span style=\"background-color:rgba(255,114,104,0.5);\">(</span> <span style=\"background-color:rgba(255,114,104,0.5);\">U</span> <span style=\"background-color:rgba(255,114,104,0.5);\">of</span> <span style=\"background-color:rgba(255,114,104,0.5);\">U</span> <span style=\"background-color:rgba(255,114,104,0.5);\">)</span> <span style=\"background-color:rgba(255,255,255,0);\">.</span>"
      ],
      "text/plain": [
       "<IPython.core.display.HTML object>"
      ]
     },
     "metadata": {},
     "output_type": "display_data"
    },
    {
     "data": {
      "text/html": [
       "<span style=\"background-color:rgba(255,255,255,0);\">Sound</span> <span style=\"background-color:rgba(255,255,255,0);\">##ing</span> <span style=\"background-color:rgba(104,104,255,0.5);\">the</span> <span style=\"background-color:rgba(104,104,255,0.5);\">alarm</span>"
      ],
      "text/plain": [
       "<IPython.core.display.HTML object>"
      ]
     },
     "metadata": {},
     "output_type": "display_data"
    },
    {
     "data": {
      "text/html": [
       "<span style=\"background-color:rgba(104,104,255,1);\">The</span> <span style=\"background-color:rgba(104,104,255,0.5);\">two</span> <span style=\"background-color:rgba(104,104,255,0.5);\">of</span> <span style=\"background-color:rgba(104,104,255,0.5);\">us</span> <span style=\"background-color:rgba(104,104,255,0.5);\">share</span> <span style=\"background-color:rgba(104,104,255,0.5);\">a</span> <span style=\"background-color:rgba(104,104,255,0.5);\">long</span> <span style=\"background-color:rgba(104,104,255,0.5);\">##standing</span> <span style=\"background-color:rgba(104,104,255,0.5);\">concern</span> <span style=\"background-color:rgba(104,104,255,0.5);\">over</span> <span style=\"background-color:rgba(104,104,255,0.5);\">the</span> <span style=\"background-color:rgba(104,104,255,0.5);\">CD</span> <span style=\"background-color:rgba(104,104,255,0.5);\">##C</span> <span style=\"background-color:rgba(104,104,255,0.5);\">’</span> <span style=\"background-color:rgba(104,104,255,0.5);\">s</span> <span style=\"background-color:rgba(104,104,255,0.5);\">failure</span> <span style=\"background-color:rgba(104,104,255,0.5);\">to</span> <span style=\"background-color:rgba(104,104,255,0.5);\">sound</span> <span style=\"background-color:rgba(104,104,255,0.5);\">the</span> <span style=\"background-color:rgba(104,104,255,0.5);\">alarm</span> <span style=\"background-color:rgba(104,104,255,0.5);\">with</span> <span style=\"background-color:rgba(104,104,255,0.5);\">respect</span> <span style=\"background-color:rgba(104,104,255,0.5);\">to</span> <span style=\"background-color:rgba(104,104,255,0.5);\">the</span> <span style=\"background-color:rgba(104,104,255,0.5);\">sharp</span> <span style=\"background-color:rgba(104,104,255,0.5);\">and</span> <span style=\"background-color:rgba(104,104,255,0.5);\">ongoing</span> <span style=\"background-color:rgba(104,104,255,0.5);\">increases</span> <span style=\"background-color:rgba(104,104,255,0.5);\">in</span> <span style=\"background-color:rgba(104,104,255,0.5);\">autism</span> <span style=\"background-color:rgba(104,104,255,0.5);\">rates</span> <span style=\"background-color:rgba(255,255,255,0);\">.</span> <span style=\"background-color:rgba(104,104,255,1);\">One</span> <span style=\"background-color:rgba(104,104,255,0.5);\">of</span> <span style=\"background-color:rgba(104,104,255,0.5);\">us</span> <span style=\"background-color:rgba(104,104,255,0.5);\">has</span> <span style=\"background-color:rgba(104,104,255,0.5);\">been</span> <span style=\"background-color:rgba(104,104,255,0.5);\">critical</span> <span style=\"background-color:rgba(104,104,255,0.5);\">of</span> <span style=\"background-color:rgba(104,104,255,0.5);\">CD</span> <span style=\"background-color:rgba(104,104,255,0.5);\">##C</span> <span style=\"background-color:rgba(104,104,255,0.5);\">’</span> <span style=\"background-color:rgba(104,104,255,0.5);\">s</span> <span style=\"background-color:rgba(104,104,255,0.5);\">fraud</span> <span style=\"background-color:rgba(104,104,255,0.5);\">##ulent</span> <span style=\"background-color:rgba(104,104,255,0.5);\">mi</span> <span style=\"background-color:rgba(104,104,255,0.5);\">##suse</span> <span style=\"background-color:rgba(104,104,255,0.5);\">of</span> <span style=\"background-color:rgba(104,104,255,0.5);\">statistics</span> <span style=\"background-color:rgba(104,104,255,0.5);\">for</span> <span style=\"background-color:rgba(104,104,255,0.5);\">nearly</span> <span style=\"background-color:rgba(104,104,255,0.5);\">two</span> <span style=\"background-color:rgba(104,104,255,0.5);\">decades</span> <span style=\"background-color:rgba(255,255,255,0);\">.</span> <span style=\"background-color:rgba(104,104,255,1);\">Another</span> <span style=\"background-color:rgba(104,104,255,0.5);\">of</span> <span style=\"background-color:rgba(104,104,255,0.5);\">us</span> <span style=\"background-color:rgba(104,104,255,0.5);\">,</span> <span style=\"background-color:rgba(104,104,255,0.5);\">was</span> <span style=\"background-color:rgba(104,104,255,0.5);\">once</span> <span style=\"background-color:rgba(104,104,255,0.5);\">a</span> <span style=\"background-color:rgba(104,104,255,0.5);\">CD</span> <span style=\"background-color:rgba(104,104,255,0.5);\">##C</span> <span style=\"background-color:rgba(104,104,255,0.5);\">inside</span> <span style=\"background-color:rgba(104,104,255,0.5);\">##r</span> <span style=\"background-color:rgba(104,104,255,0.5);\">and</span> <span style=\"background-color:rgba(104,104,255,0.5);\">Principal</span> <span style=\"background-color:rgba(104,104,255,0.5);\">In</span> <span style=\"background-color:rgba(104,104,255,0.5);\">##ves</span> <span style=\"background-color:rgba(104,104,255,0.5);\">##ti</span> <span style=\"background-color:rgba(104,104,255,0.5);\">##gat</span> <span style=\"background-color:rgba(104,104,255,0.5);\">##or</span> <span style=\"background-color:rgba(104,104,255,0.5);\">for</span> <span style=\"background-color:rgba(104,104,255,0.5);\">the</span> <span style=\"background-color:rgba(104,104,255,0.5);\">Utah</span> <span style=\"background-color:rgba(104,104,255,0.5);\">AD</span> <span style=\"background-color:rgba(104,104,255,0.5);\">##DM</span> <span style=\"background-color:rgba(104,104,255,0.5);\">site</span> <span style=\"background-color:rgba(104,104,255,0.5);\">,</span> <span style=\"background-color:rgba(104,104,255,0.5);\">Utah</span> <span style=\"background-color:rgba(104,104,255,0.5);\">Regis</span> <span style=\"background-color:rgba(104,104,255,0.5);\">##try</span> <span style=\"background-color:rgba(104,104,255,0.5);\">of</span> <span style=\"background-color:rgba(104,104,255,0.5);\">Au</span> <span style=\"background-color:rgba(104,104,255,0.5);\">##tism</span> <span style=\"background-color:rgba(104,104,255,0.5);\">and</span> <span style=\"background-color:rgba(104,104,255,0.5);\">Development</span> <span style=\"background-color:rgba(104,104,255,0.5);\">##al</span> <span style=\"background-color:rgba(104,104,255,0.5);\">Di</span> <span style=\"background-color:rgba(104,104,255,0.5);\">##sa</span> <span style=\"background-color:rgba(104,104,255,0.5);\">##bilities</span> <span style=\"background-color:rgba(255,255,255,0);\">.</span> <span style=\"background-color:rgba(123,255,108,1);\">After</span> <span style=\"background-color:rgba(123,255,108,0.5);\">beginning</span> <span style=\"background-color:rgba(123,255,108,0.5);\">to</span> <span style=\"background-color:rgba(123,255,108,0.5);\">raise</span> <span style=\"background-color:rgba(123,255,108,0.5);\">concerns</span> <span style=\"background-color:rgba(123,255,108,0.5);\">over</span> <span style=\"background-color:rgba(123,255,108,0.5);\">environmental</span> <span style=\"background-color:rgba(123,255,108,0.5);\">ca</span> <span style=\"background-color:rgba(123,255,108,0.5);\">##usa</span> <span style=\"background-color:rgba(123,255,108,0.5);\">##tion</span> <span style=\"background-color:rgba(123,255,108,0.5);\">,</span> <span style=\"background-color:rgba(123,255,108,0.5);\">data</span> <span style=\"background-color:rgba(123,255,108,0.5);\">errors</span> <span style=\"background-color:rgba(123,255,108,0.5);\">and</span> <span style=\"background-color:rgba(123,255,108,0.5);\">privacy</span> <span style=\"background-color:rgba(123,255,108,0.5);\">violations</span> <span style=\"background-color:rgba(123,255,108,0.5);\">in</span> <span style=\"background-color:rgba(123,255,108,0.5);\">the</span> <span style=\"background-color:rgba(123,255,108,0.5);\">Utah</span> <span style=\"background-color:rgba(123,255,108,0.5);\">autism</span> <span style=\"background-color:rgba(123,255,108,0.5);\">data</span> <span style=\"background-color:rgba(123,255,108,0.5);\">one</span> <span style=\"background-color:rgba(123,255,108,0.5);\">of</span> <span style=\"background-color:rgba(123,255,108,0.5);\">us</span> <span style=\"background-color:rgba(123,255,108,0.5);\">(</span> <span style=\"background-color:rgba(123,255,108,0.5);\">Z</span> <span style=\"background-color:rgba(123,255,108,0.5);\">##immer</span> <span style=\"background-color:rgba(123,255,108,0.5);\">##man</span> <span style=\"background-color:rgba(123,255,108,0.5);\">)</span> <span style=\"background-color:rgba(123,255,108,0.5);\">was</span> <span style=\"background-color:rgba(123,255,108,0.5);\">sum</span> <span style=\"background-color:rgba(123,255,108,0.5);\">##mar</span> <span style=\"background-color:rgba(123,255,108,0.5);\">##ily</span> <span style=\"background-color:rgba(123,255,108,0.5);\">dismissed</span> <span style=\"background-color:rgba(123,255,108,0.5);\">from</span> <span style=\"background-color:rgba(123,255,108,0.5);\">her</span> <span style=\"background-color:rgba(123,255,108,0.5);\">position</span> <span style=\"background-color:rgba(255,255,255,0);\">.</span> <span style=\"background-color:rgba(123,255,108,1);\">She</span> <span style=\"background-color:rgba(123,255,108,0.5);\">has</span> <span style=\"background-color:rgba(123,255,108,0.5);\">since</span> <span style=\"background-color:rgba(123,255,108,0.5);\">filed</span> <span style=\"background-color:rgba(123,255,108,0.5);\">a</span> <span style=\"background-color:rgba(123,255,108,0.5);\">series</span> <span style=\"background-color:rgba(123,255,108,0.5);\">of</span> <span style=\"background-color:rgba(123,255,108,0.5);\">successful</span> <span style=\"background-color:rgba(123,255,108,0.5);\">lawsuits</span> <span style=\"background-color:rgba(123,255,108,0.5);\">against</span> <span style=\"background-color:rgba(123,255,108,0.5);\">her</span> <span style=\"background-color:rgba(123,255,108,0.5);\">former</span> <span style=\"background-color:rgba(123,255,108,0.5);\">employer</span> <span style=\"background-color:rgba(123,255,108,0.5);\">the</span> <span style=\"background-color:rgba(123,255,108,0.5);\">U</span> <span style=\"background-color:rgba(123,255,108,0.5);\">of</span> <span style=\"background-color:rgba(123,255,108,0.5);\">U</span> <span style=\"background-color:rgba(123,255,108,0.5);\">.</span>"
      ],
      "text/plain": [
       "<IPython.core.display.HTML object>"
      ]
     },
     "metadata": {},
     "output_type": "display_data"
    },
    {
     "data": {
      "text/html": [
       "<span style=\"background-color:rgba(255,255,255,0);\">In</span> <span style=\"background-color:rgba(255,255,255,0);\">addition</span> <span style=\"background-color:rgba(255,255,255,0);\">,</span> <span style=\"background-color:rgba(123,255,108,1);\">Z</span> <span style=\"background-color:rgba(123,255,108,0.5);\">##immer</span> <span style=\"background-color:rgba(123,255,108,0.5);\">##man</span> <span style=\"background-color:rgba(123,255,108,0.5);\">became</span> <span style=\"background-color:rgba(123,255,108,0.5);\">so</span> <span style=\"background-color:rgba(123,255,108,0.5);\">concerned</span> <span style=\"background-color:rgba(123,255,108,0.5);\">about</span> <span style=\"background-color:rgba(123,255,108,0.5);\">intentional</span> <span style=\"background-color:rgba(123,255,108,0.5);\">data</span> <span style=\"background-color:rgba(123,255,108,0.5);\">manipulation</span> <span style=\"background-color:rgba(123,255,108,0.5);\">and</span> <span style=\"background-color:rgba(123,255,108,0.5);\">public</span> <span style=\"background-color:rgba(123,255,108,0.5);\">mess</span> <span style=\"background-color:rgba(123,255,108,0.5);\">##aging</span> <span style=\"background-color:rgba(123,255,108,0.5);\">by</span> <span style=\"background-color:rgba(123,255,108,0.5);\">AD</span> <span style=\"background-color:rgba(123,255,108,0.5);\">##DM</span> <span style=\"background-color:rgba(123,255,108,0.5);\">officials</span> <span style=\"background-color:rgba(255,255,255,0);\">,</span> <span style=\"background-color:rgba(123,255,108,1);\">she</span> <span style=\"background-color:rgba(123,255,108,0.5);\">asked</span> <span style=\"background-color:rgba(123,255,108,0.5);\">two</span> <span style=\"background-color:rgba(123,255,108,0.5);\">United</span> <span style=\"background-color:rgba(123,255,108,0.5);\">States</span> <span style=\"background-color:rgba(123,255,108,0.5);\">Congress</span> <span style=\"background-color:rgba(123,255,108,0.5);\">##men</span> <span style=\"background-color:rgba(123,255,108,0.5);\">,</span> <span style=\"background-color:rgba(123,255,108,0.5);\">Utah</span> <span style=\"background-color:rgba(123,255,108,0.5);\">Democrat</span> <span style=\"background-color:rgba(123,255,108,0.5);\">Ben</span> <span style=\"background-color:rgba(123,255,108,0.5);\">M</span> <span style=\"background-color:rgba(123,255,108,0.5);\">##c</span> <span style=\"background-color:rgba(123,255,108,0.5);\">##A</span> <span style=\"background-color:rgba(123,255,108,0.5);\">##dam</span> <span style=\"background-color:rgba(123,255,108,0.5);\">##s</span> <span style=\"background-color:rgba(123,255,108,0.5);\">and</span> <span style=\"background-color:rgba(123,255,108,0.5);\">Florida</span> <span style=\"background-color:rgba(123,255,108,0.5);\">Republican</span> <span style=\"background-color:rgba(123,255,108,0.5);\">Bill</span> <span style=\"background-color:rgba(123,255,108,0.5);\">Po</span> <span style=\"background-color:rgba(123,255,108,0.5);\">##sey</span> <span style=\"background-color:rgba(123,255,108,0.5);\">,</span> <span style=\"background-color:rgba(123,255,108,0.5);\">to</span> <span style=\"background-color:rgba(123,255,108,0.5);\">support</span> <span style=\"background-color:rgba(123,255,108,0.5);\">a</span> <span style=\"background-color:rgba(123,255,108,0.5);\">congressional</span> <span style=\"background-color:rgba(123,255,108,0.5);\">investigation</span> <span style=\"background-color:rgba(123,255,108,0.5);\">into</span> <span style=\"background-color:rgba(123,255,108,0.5);\">research</span> <span style=\"background-color:rgba(123,255,108,0.5);\">fraud</span> <span style=\"background-color:rgba(123,255,108,0.5);\">by</span> <span style=\"background-color:rgba(123,255,108,0.5);\">the</span> <span style=\"background-color:rgba(123,255,108,0.5);\">AD</span> <span style=\"background-color:rgba(123,255,108,0.5);\">##DM</span> <span style=\"background-color:rgba(123,255,108,0.5);\">Network</span> <span style=\"background-color:rgba(123,255,108,0.5);\">and</span> <span style=\"background-color:rgba(123,255,108,0.5);\">U</span> <span style=\"background-color:rgba(123,255,108,0.5);\">of</span> <span style=\"background-color:rgba(123,255,108,0.5);\">U</span> <span style=\"background-color:rgba(255,255,255,0);\">.</span> <span style=\"background-color:rgba(123,255,108,1);\">Z</span> <span style=\"background-color:rgba(123,255,108,0.5);\">##immer</span> <span style=\"background-color:rgba(123,255,108,0.5);\">##man</span> <span style=\"background-color:rgba(123,255,108,0.5);\">was</span> <span style=\"background-color:rgba(123,255,108,0.5);\">the</span> <span style=\"background-color:rgba(123,255,108,0.5);\">original</span> <span style=\"background-color:rgba(123,255,108,0.5);\">CD</span> <span style=\"background-color:rgba(123,255,108,0.5);\">##C</span> <span style=\"background-color:rgba(123,255,108,0.5);\">grant</span> <span style=\"background-color:rgba(123,255,108,0.5);\">award</span> <span style=\"background-color:rgba(123,255,108,0.5);\">##ee</span> <span style=\"background-color:rgba(123,255,108,0.5);\">and</span> <span style=\"background-color:rgba(123,255,108,0.5);\">the</span> <span style=\"background-color:rgba(123,255,108,0.5);\">Utah</span> <span style=\"background-color:rgba(123,255,108,0.5);\">AD</span> <span style=\"background-color:rgba(123,255,108,0.5);\">##DM</span> <span style=\"background-color:rgba(123,255,108,0.5);\">principle</span> <span style=\"background-color:rgba(123,255,108,0.5);\">investigator</span> <span style=\"background-color:rgba(123,255,108,0.5);\">from</span> <span style=\"background-color:rgba(123,255,108,0.5);\">2002</span> <span style=\"background-color:rgba(123,255,108,0.5);\">-</span> <span style=\"background-color:rgba(123,255,108,0.5);\">2013</span> <span style=\"background-color:rgba(255,255,255,0);\">.</span> <span style=\"background-color:rgba(104,104,255,1);\">She</span> <span style=\"background-color:rgba(104,104,255,0.5);\">believes</span> <span style=\"background-color:rgba(104,104,255,0.5);\">she</span> <span style=\"background-color:rgba(104,104,255,0.5);\">now</span> <span style=\"background-color:rgba(104,104,255,0.5);\">has</span> <span style=\"background-color:rgba(104,104,255,0.5);\">enough</span> <span style=\"background-color:rgba(104,104,255,0.5);\">evidence</span> <span style=\"background-color:rgba(104,104,255,0.5);\">to</span> <span style=\"background-color:rgba(104,104,255,0.5);\">show</span> <span style=\"background-color:rgba(104,104,255,0.5);\">serious</span> <span style=\"background-color:rgba(104,104,255,0.5);\">violations</span> <span style=\"background-color:rgba(104,104,255,0.5);\">of</span> <span style=\"background-color:rgba(104,104,255,0.5);\">federal</span> <span style=\"background-color:rgba(104,104,255,0.5);\">health</span> <span style=\"background-color:rgba(104,104,255,0.5);\">and</span> <span style=\"background-color:rgba(104,104,255,0.5);\">education</span> <span style=\"background-color:rgba(104,104,255,0.5);\">privacy</span> <span style=\"background-color:rgba(104,104,255,0.5);\">laws</span> <span style=\"background-color:rgba(104,104,255,0.5);\">and</span> <span style=\"background-color:rgba(104,104,255,0.5);\">intentional</span> <span style=\"background-color:rgba(104,104,255,0.5);\">de</span> <span style=\"background-color:rgba(104,104,255,0.5);\">##viation</span> <span style=\"background-color:rgba(104,104,255,0.5);\">##s</span> <span style=\"background-color:rgba(104,104,255,0.5);\">from</span> <span style=\"background-color:rgba(104,104,255,0.5);\">pre</span> <span style=\"background-color:rgba(104,104,255,0.5);\">##det</span> <span style=\"background-color:rgba(104,104,255,0.5);\">##ermined</span> <span style=\"background-color:rgba(104,104,255,0.5);\">AD</span> <span style=\"background-color:rgba(104,104,255,0.5);\">##DM</span> <span style=\"background-color:rgba(104,104,255,0.5);\">study</span> <span style=\"background-color:rgba(104,104,255,0.5);\">protocols</span> <span style=\"background-color:rgba(104,104,255,0.5);\">by</span> <span style=\"background-color:rgba(104,104,255,0.5);\">U</span> <span style=\"background-color:rgba(104,104,255,0.5);\">of</span> <span style=\"background-color:rgba(104,104,255,0.5);\">U</span> <span style=\"background-color:rgba(104,104,255,0.5);\">with</span> <span style=\"background-color:rgba(104,104,255,0.5);\">the</span> <span style=\"background-color:rgba(104,104,255,0.5);\">com</span> <span style=\"background-color:rgba(104,104,255,0.5);\">##p</span> <span style=\"background-color:rgba(104,104,255,0.5);\">##licity</span> <span style=\"background-color:rgba(104,104,255,0.5);\">of</span> <span style=\"background-color:rgba(104,104,255,0.5);\">AD</span> <span style=\"background-color:rgba(104,104,255,0.5);\">##DM</span> <span style=\"background-color:rgba(104,104,255,0.5);\">Network</span> <span style=\"background-color:rgba(104,104,255,0.5);\">Official</span> <span style=\"background-color:rgba(104,104,255,0.5);\">##s</span> <span style=\"background-color:rgba(255,255,255,0);\">.</span>"
      ],
      "text/plain": [
       "<IPython.core.display.HTML object>"
      ]
     },
     "metadata": {},
     "output_type": "display_data"
    },
    {
     "data": {
      "text/html": [
       "<span style=\"background-color:rgba(255,108,255,1);\">Utah</span> <span style=\"background-color:rgba(255,108,255,0.5);\">’</span> <span style=\"background-color:rgba(255,108,255,0.5);\">s</span> <span style=\"background-color:rgba(255,108,255,0.5);\">2008</span> <span style=\"background-color:rgba(255,108,255,0.5);\">autism</span> <span style=\"background-color:rgba(255,108,255,0.5);\">rate</span> <span style=\"background-color:rgba(255,108,255,0.5);\">was</span> <span style=\"background-color:rgba(255,108,255,0.5);\">1</span> <span style=\"background-color:rgba(255,108,255,0.5);\">in</span> <span style=\"background-color:rgba(255,108,255,0.5);\">47</span> <span style=\"background-color:rgba(255,108,255,0.5);\">among</span> <span style=\"background-color:rgba(255,108,255,0.5);\">8</span> <span style=\"background-color:rgba(255,108,255,0.5);\">-</span> <span style=\"background-color:rgba(255,108,255,0.5);\">year</span> <span style=\"background-color:rgba(255,108,255,0.5);\">-</span> <span style=\"background-color:rgba(255,108,255,0.5);\">old</span> <span style=\"background-color:rgba(255,108,255,0.5);\">children</span> <span style=\"background-color:rgba(255,108,255,0.5);\">with</span> <span style=\"background-color:rgba(255,108,255,0.5);\">trend</span> <span style=\"background-color:rgba(255,108,255,0.5);\">increases</span> <span style=\"background-color:rgba(255,108,255,0.5);\">closely</span> <span style=\"background-color:rgba(255,108,255,0.5);\">tracking</span> <span style=\"background-color:rgba(255,108,255,0.5);\">the</span> <span style=\"background-color:rgba(255,108,255,0.5);\">AD</span> <span style=\"background-color:rgba(255,108,255,0.5);\">##DM</span> <span style=\"background-color:rgba(255,108,255,0.5);\">Network</span> <span style=\"background-color:rgba(255,108,255,0.5);\">’</span> <span style=\"background-color:rgba(255,108,255,0.5);\">s</span> <span style=\"background-color:rgba(255,108,255,0.5);\">consistently</span> <span style=\"background-color:rgba(255,108,255,0.5);\">highest</span> <span style=\"background-color:rgba(255,108,255,0.5);\">rates</span> <span style=\"background-color:rgba(255,108,255,0.5);\">in</span> <span style=\"background-color:rgba(255,108,255,0.5);\">New</span> <span style=\"background-color:rgba(255,108,255,0.5);\">Jersey</span> <span style=\"background-color:rgba(255,255,255,0);\">.</span> <span style=\"background-color:rgba(123,255,108,1);\">That</span> <span style=\"background-color:rgba(104,104,255,0.5);\">close</span> <span style=\"background-color:rgba(255,255,255,0);\">tracking</span> <span style=\"background-color:rgba(255,255,255,0);\">abruptly</span> <span style=\"background-color:rgba(255,255,255,0);\">changed</span> <span style=\"background-color:rgba(255,255,255,0);\">,</span> <span style=\"background-color:rgba(255,255,255,0);\">as</span> <span style=\"background-color:rgba(255,255,255,0);\">shown</span> <span style=\"background-color:rgba(255,255,255,0);\">in</span> <span style=\"background-color:rgba(123,255,108,0.5);\">Figure</span> <span style=\"background-color:rgba(123,255,108,0.5);\">3</span> <span style=\"background-color:rgba(255,255,255,0);\">,</span> <span style=\"background-color:rgba(255,255,255,0);\">after</span> <span style=\"background-color:rgba(123,255,108,1);\">Z</span> <span style=\"background-color:rgba(123,255,108,0.5);\">##immer</span> <span style=\"background-color:rgba(123,255,108,0.5);\">##man</span> <span style=\"background-color:rgba(123,255,108,0.5);\">was</span> <span style=\"background-color:rgba(123,255,108,0.5);\">removed</span> <span style=\"background-color:rgba(123,255,108,0.5);\">as</span> <span style=\"background-color:rgba(123,255,108,0.5);\">the</span> <span style=\"background-color:rgba(123,255,108,0.5);\">Utah</span> <span style=\"background-color:rgba(123,255,108,0.5);\">AD</span> <span style=\"background-color:rgba(123,255,108,0.5);\">##DM</span> <span style=\"background-color:rgba(123,255,108,0.5);\">principle</span> <span style=\"background-color:rgba(123,255,108,0.5);\">investigator</span> <span style=\"background-color:rgba(123,255,108,0.5);\">for</span> <span style=\"background-color:rgba(123,255,108,0.5);\">study</span> <span style=\"background-color:rgba(123,255,108,0.5);\">year</span> <span style=\"background-color:rgba(123,255,108,0.5);\">2010</span> <span style=\"background-color:rgba(123,255,108,0.5);\">and</span> <span style=\"background-color:rgba(123,255,108,0.5);\">prevented</span> <span style=\"background-color:rgba(123,255,108,0.5);\">from</span> <span style=\"background-color:rgba(123,255,108,0.5);\">correct</span> <span style=\"background-color:rgba(123,255,108,0.5);\">##ing</span> <span style=\"background-color:rgba(123,255,108,0.5);\">massive</span> <span style=\"background-color:rgba(123,255,108,0.5);\">data</span> <span style=\"background-color:rgba(123,255,108,0.5);\">errors</span> <span style=\"background-color:rgba(123,255,108,0.5);\">and</span> <span style=\"background-color:rgba(123,255,108,0.5);\">o</span> <span style=\"background-color:rgba(123,255,108,0.5);\">##mission</span> <span style=\"background-color:rgba(123,255,108,0.5);\">##s</span> <span style=\"background-color:rgba(255,255,255,0);\">.</span> <span style=\"background-color:rgba(123,255,108,1);\">Z</span> <span style=\"background-color:rgba(123,255,108,0.5);\">##immer</span> <span style=\"background-color:rgba(123,255,108,0.5);\">##man</span> <span style=\"background-color:rgba(123,255,108,0.5);\">was</span> <span style=\"background-color:rgba(123,255,108,0.5);\">removed</span> <span style=\"background-color:rgba(123,255,108,0.5);\">by</span> <span style=\"background-color:rgba(123,255,108,0.5);\">the</span> <span style=\"background-color:rgba(123,255,108,0.5);\">then</span> <span style=\"background-color:rgba(123,255,108,0.5);\">U</span> <span style=\"background-color:rgba(123,255,108,0.5);\">of</span> <span style=\"background-color:rgba(123,255,108,0.5);\">U</span> <span style=\"background-color:rgba(123,255,108,0.5);\">P</span> <span style=\"background-color:rgba(123,255,108,0.5);\">##sy</span> <span style=\"background-color:rgba(123,255,108,0.5);\">##chia</span> <span style=\"background-color:rgba(123,255,108,0.5);\">##try</span> <span style=\"background-color:rgba(123,255,108,0.5);\">Chairman</span> <span style=\"background-color:rgba(123,255,108,0.5);\">,</span> <span style=\"background-color:rgba(123,255,108,0.5);\">Dr</span> <span style=\"background-color:rgba(123,255,108,0.5);\">.</span> <span style=\"background-color:rgba(123,255,108,0.5);\">William</span> <span style=\"background-color:rgba(123,255,108,0.5);\">McMahon</span> <span style=\"background-color:rgba(123,255,108,0.5);\">,</span> <span style=\"background-color:rgba(123,255,108,0.5);\">after</span> <span style=\"background-color:rgba(123,255,108,0.5);\">Z</span> <span style=\"background-color:rgba(123,255,108,0.5);\">##immer</span> <span style=\"background-color:rgba(123,255,108,0.5);\">##man</span> <span style=\"background-color:rgba(123,255,108,0.5);\">reported</span> <span style=\"background-color:rgba(123,255,108,0.5);\">Dr</span> <span style=\"background-color:rgba(123,255,108,0.5);\">.</span> <span style=\"background-color:rgba(123,255,108,0.5);\">McMahon</span> <span style=\"background-color:rgba(123,255,108,0.5);\">along</span> <span style=\"background-color:rgba(123,255,108,0.5);\">with</span> <span style=\"background-color:rgba(123,255,108,0.5);\">two</span> <span style=\"background-color:rgba(123,255,108,0.5);\">others</span> <span style=\"background-color:rgba(123,255,108,0.5);\">,</span> <span style=\"background-color:rgba(123,255,108,0.5);\">Dr</span> <span style=\"background-color:rgba(123,255,108,0.5);\">##s</span> <span style=\"background-color:rgba(123,255,108,0.5);\">.</span> <span style=\"background-color:rgba(123,255,108,0.5);\">Deborah</span> <span style=\"background-color:rgba(123,255,108,0.5);\">B</span> <span style=\"background-color:rgba(123,255,108,0.5);\">##ilde</span> <span style=\"background-color:rgba(123,255,108,0.5);\">##r</span> <span style=\"background-color:rgba(123,255,108,0.5);\">and</span> <span style=\"background-color:rgba(123,255,108,0.5);\">Amanda</span> <span style=\"background-color:rgba(123,255,108,0.5);\">Ba</span> <span style=\"background-color:rgba(123,255,108,0.5);\">##ki</span> <span style=\"background-color:rgba(123,255,108,0.5);\">##an</span> <span style=\"background-color:rgba(123,255,108,0.5);\">,</span> <span style=\"background-color:rgba(123,255,108,0.5);\">for</span> <span style=\"background-color:rgba(123,255,108,0.5);\">research</span> <span style=\"background-color:rgba(123,255,108,0.5);\">fraud</span> <span style=\"background-color:rgba(255,255,255,0);\">.</span> <span style=\"background-color:rgba(123,255,108,1);\">Fortunately</span> <span style=\"background-color:rgba(123,255,108,0.5);\">,</span> <span style=\"background-color:rgba(123,255,108,0.5);\">in</span> <span style=\"background-color:rgba(123,255,108,0.5);\">2018</span> <span style=\"background-color:rgba(123,255,108,0.5);\">,</span> <span style=\"background-color:rgba(123,255,108,0.5);\">j</span> <span style=\"background-color:rgba(123,255,108,0.5);\">##uro</span> <span style=\"background-color:rgba(123,255,108,0.5);\">##rs</span> <span style=\"background-color:rgba(123,255,108,0.5);\">in</span> <span style=\"background-color:rgba(123,255,108,0.5);\">U</span> <span style=\"background-color:rgba(123,255,108,0.5);\">.</span> <span style=\"background-color:rgba(123,255,108,0.5);\">S</span> <span style=\"background-color:rgba(123,255,108,0.5);\">.</span> <span style=\"background-color:rgba(123,255,108,0.5);\">District</span> <span style=\"background-color:rgba(123,255,108,0.5);\">Court</span> <span style=\"background-color:rgba(123,255,108,0.5);\">in</span> <span style=\"background-color:rgba(123,255,108,0.5);\">Salt</span> <span style=\"background-color:rgba(123,255,108,0.5);\">Lake</span> <span style=\"background-color:rgba(123,255,108,0.5);\">City</span> <span style=\"background-color:rgba(123,255,108,0.5);\">ruled</span> <span style=\"background-color:rgba(123,255,108,0.5);\">in</span> <span style=\"background-color:rgba(123,255,108,0.5);\">favor</span> <span style=\"background-color:rgba(123,255,108,0.5);\">of</span> <span style=\"background-color:rgba(123,255,108,0.5);\">Z</span> <span style=\"background-color:rgba(123,255,108,0.5);\">##immer</span> <span style=\"background-color:rgba(123,255,108,0.5);\">##man</span> <span style=\"background-color:rgba(123,255,108,0.5);\">’</span> <span style=\"background-color:rgba(123,255,108,0.5);\">s</span> <span style=\"background-color:rgba(123,255,108,0.5);\">claims</span> <span style=\"background-color:rgba(123,255,108,0.5);\">that</span> <span style=\"background-color:rgba(123,255,108,0.5);\">the</span> <span style=\"background-color:rgba(123,255,108,0.5);\">U</span> <span style=\"background-color:rgba(123,255,108,0.5);\">of</span> <span style=\"background-color:rgba(123,255,108,0.5);\">U</span> <span style=\"background-color:rgba(123,255,108,0.5);\">had</span> <span style=\"background-color:rgba(123,255,108,0.5);\">violated</span> <span style=\"background-color:rgba(123,255,108,0.5);\">her</span> <span style=\"background-color:rgba(123,255,108,0.5);\">legal</span> <span style=\"background-color:rgba(123,255,108,0.5);\">whistle</span> <span style=\"background-color:rgba(123,255,108,0.5);\">##b</span> <span style=\"background-color:rgba(123,255,108,0.5);\">##low</span> <span style=\"background-color:rgba(123,255,108,0.5);\">##er</span> <span style=\"background-color:rgba(123,255,108,0.5);\">protection</span> <span style=\"background-color:rgba(123,255,108,0.5);\">##s</span> <span style=\"background-color:rgba(255,255,255,0);\">.</span> <span style=\"background-color:rgba(123,255,108,1);\">Z</span> <span style=\"background-color:rgba(123,255,108,0.5);\">##immer</span> <span style=\"background-color:rgba(123,255,108,0.5);\">##man</span> <span style=\"background-color:rgba(123,255,108,0.5);\">has</span> <span style=\"background-color:rgba(123,255,108,0.5);\">a</span> <span style=\"background-color:rgba(123,255,108,0.5);\">related</span> <span style=\"background-color:rgba(123,255,108,0.5);\">lawsuit</span> <span style=\"background-color:rgba(123,255,108,0.5);\">against</span> <span style=\"background-color:rgba(123,255,108,0.5);\">the</span> <span style=\"background-color:rgba(123,255,108,0.5);\">U</span> <span style=\"background-color:rgba(123,255,108,0.5);\">of</span> <span style=\"background-color:rgba(123,255,108,0.5);\">U</span> <span style=\"background-color:rgba(123,255,108,0.5);\">in</span> <span style=\"background-color:rgba(123,255,108,0.5);\">state</span> <span style=\"background-color:rgba(123,255,108,0.5);\">court</span> <span style=\"background-color:rgba(255,255,255,0);\">.</span> <span style=\"background-color:rgba(123,255,108,1);\">She</span> <span style=\"background-color:rgba(123,255,108,0.5);\">plans</span> <span style=\"background-color:rgba(123,255,108,0.5);\">to</span> <span style=\"background-color:rgba(123,255,108,0.5);\">release</span> <span style=\"background-color:rgba(123,255,108,0.5);\">more</span> <span style=\"background-color:rgba(123,255,108,0.5);\">documentation</span> <span style=\"background-color:rgba(123,255,108,0.5);\">to</span> <span style=\"background-color:rgba(123,255,108,0.5);\">support</span> <span style=\"background-color:rgba(123,255,108,0.5);\">her</span> <span style=\"background-color:rgba(123,255,108,0.5);\">claims</span> <span style=\"background-color:rgba(123,255,108,0.5);\">of</span> <span style=\"background-color:rgba(123,255,108,0.5);\">research</span> <span style=\"background-color:rgba(123,255,108,0.5);\">fraud</span> <span style=\"background-color:rgba(255,255,255,0);\">as</span> <span style=\"background-color:rgba(123,255,108,1);\">documents</span> <span style=\"background-color:rgba(123,255,108,0.5);\">are</span> <span style=\"background-color:rgba(123,255,108,0.5);\">made</span> <span style=\"background-color:rgba(123,255,108,0.5);\">publicly</span> <span style=\"background-color:rgba(123,255,108,0.5);\">available</span> <span style=\"background-color:rgba(123,255,108,0.5);\">through</span> <span style=\"background-color:rgba(123,255,108,0.5);\">the</span> <span style=\"background-color:rgba(123,255,108,0.5);\">courts</span> <span style=\"background-color:rgba(255,255,255,0);\">.</span> <span style=\"background-color:rgba(255,114,104,1);\">Z</span> <span style=\"background-color:rgba(104,104,255,0.5);\">##immer</span> <span style=\"background-color:rgba(104,104,255,0.5);\">##man</span> <span style=\"background-color:rgba(104,104,255,0.5);\">hopes</span> <span style=\"background-color:rgba(104,104,255,0.5);\">researchers</span> <span style=\"background-color:rgba(104,104,255,0.5);\">involved</span> <span style=\"background-color:rgba(104,104,255,0.5);\">in</span> <span style=\"background-color:rgba(104,104,255,0.5);\">privacy</span> <span style=\"background-color:rgba(104,104,255,0.5);\">violations</span> <span style=\"background-color:rgba(104,104,255,0.5);\">and</span> <span style=\"background-color:rgba(104,104,255,0.5);\">de</span> <span style=\"background-color:rgba(104,104,255,0.5);\">##viation</span> <span style=\"background-color:rgba(104,104,255,0.5);\">##s</span> <span style=\"background-color:rgba(104,104,255,0.5);\">from</span> <span style=\"background-color:rgba(104,104,255,0.5);\">study</span> <span style=\"background-color:rgba(104,104,255,0.5);\">protocols</span> <span style=\"background-color:rgba(104,104,255,0.5);\">at</span> <span style=\"background-color:rgba(104,104,255,0.5);\">the</span> <span style=\"background-color:rgba(104,104,255,0.5);\">CD</span> <span style=\"background-color:rgba(104,104,255,0.5);\">##C</span> <span style=\"background-color:rgba(104,104,255,0.5);\">and</span> <span style=\"background-color:rgba(104,104,255,0.5);\">U</span> <span style=\"background-color:rgba(104,104,255,0.5);\">of</span> <span style=\"background-color:rgba(104,104,255,0.5);\">U</span> <span style=\"background-color:rgba(104,104,255,0.5);\">will</span> <span style=\"background-color:rgba(104,104,255,0.5);\">be</span> <span style=\"background-color:rgba(104,104,255,0.5);\">held</span> <span style=\"background-color:rgba(104,104,255,0.5);\">account</span> <span style=\"background-color:rgba(104,104,255,0.5);\">##able</span> <span style=\"background-color:rgba(255,255,255,0);\">.</span>"
      ],
      "text/plain": [
       "<IPython.core.display.HTML object>"
      ]
     },
     "metadata": {},
     "output_type": "display_data"
    },
    {
     "data": {
      "text/html": [
       "<span style=\"background-color:rgba(104,104,255,1);\">Co</span> <span style=\"background-color:rgba(104,104,255,0.5);\">##rre</span> <span style=\"background-color:rgba(104,104,255,0.5);\">##cting</span> <span style=\"background-color:rgba(104,104,255,0.5);\">the</span> <span style=\"background-color:rgba(104,104,255,0.5);\">data</span> <span style=\"background-color:rgba(104,104,255,0.5);\">errors</span> <span style=\"background-color:rgba(104,104,255,0.5);\">and</span> <span style=\"background-color:rgba(104,104,255,0.5);\">string</span> <span style=\"background-color:rgba(104,104,255,0.5);\">##ently</span> <span style=\"background-color:rgba(104,104,255,0.5);\">following</span> <span style=\"background-color:rgba(104,104,255,0.5);\">study</span> <span style=\"background-color:rgba(104,104,255,0.5);\">protocols</span> <span style=\"background-color:rgba(104,104,255,0.5);\">would</span> <span style=\"background-color:rgba(104,104,255,0.5);\">have</span> <span style=\"background-color:rgba(104,104,255,0.5);\">resulted</span> <span style=\"background-color:rgba(104,104,255,0.5);\">in</span> <span style=\"background-color:rgba(104,104,255,0.5);\">higher</span> <span style=\"background-color:rgba(104,104,255,0.5);\">autism</span> <span style=\"background-color:rgba(104,104,255,0.5);\">rates</span> <span style=\"background-color:rgba(104,104,255,0.5);\">supportive</span> <span style=\"background-color:rgba(104,104,255,0.5);\">of</span> <span style=\"background-color:rgba(104,104,255,0.5);\">declaring</span> <span style=\"background-color:rgba(104,104,255,0.5);\">an</span> <span style=\"background-color:rgba(104,104,255,0.5);\">autism</span> <span style=\"background-color:rgba(104,104,255,0.5);\">epidemic</span> <span style=\"background-color:rgba(104,104,255,0.5);\">,</span> <span style=\"background-color:rgba(104,104,255,0.5);\">a</span> <span style=\"background-color:rgba(104,104,255,0.5);\">declaration</span> <span style=\"background-color:rgba(104,104,255,0.5);\">the</span> <span style=\"background-color:rgba(104,104,255,0.5);\">CD</span> <span style=\"background-color:rgba(104,104,255,0.5);\">##C</span> <span style=\"background-color:rgba(104,104,255,0.5);\">has</span> <span style=\"background-color:rgba(104,104,255,0.5);\">never</span> <span style=\"background-color:rgba(104,104,255,0.5);\">been</span> <span style=\"background-color:rgba(104,104,255,0.5);\">willing</span> <span style=\"background-color:rgba(104,104,255,0.5);\">to</span> <span style=\"background-color:rgba(104,104,255,0.5);\">make</span> <span style=\"background-color:rgba(104,104,255,0.5);\">…</span>"
      ],
      "text/plain": [
       "<IPython.core.display.HTML object>"
      ]
     },
     "metadata": {},
     "output_type": "display_data"
    },
    {
     "data": {
      "text/html": [
       "<span style=\"background-color:rgba(104,104,255,1);\">Turning</span> <span style=\"background-color:rgba(104,104,255,0.5);\">a</span> <span style=\"background-color:rgba(104,104,255,0.5);\">blind</span> <span style=\"background-color:rgba(104,104,255,0.5);\">eye</span>"
      ],
      "text/plain": [
       "<IPython.core.display.HTML object>"
      ]
     },
     "metadata": {},
     "output_type": "display_data"
    },
    {
     "data": {
      "text/html": [
       "<span style=\"background-color:rgba(104,104,255,1);\">It</span> <span style=\"background-color:rgba(104,104,255,0.5);\">is</span> <span style=\"background-color:rgba(104,104,255,0.5);\">still</span> <span style=\"background-color:rgba(104,104,255,0.5);\">unclear</span> <span style=\"background-color:rgba(104,104,255,0.5);\">why</span> <span style=\"background-color:rgba(104,104,255,0.5);\">CD</span> <span style=\"background-color:rgba(104,104,255,0.5);\">##C</span> <span style=\"background-color:rgba(104,104,255,0.5);\">AD</span> <span style=\"background-color:rgba(104,104,255,0.5);\">##DM</span> <span style=\"background-color:rgba(104,104,255,0.5);\">officials</span> <span style=\"background-color:rgba(104,104,255,0.5);\">turned</span> <span style=\"background-color:rgba(104,104,255,0.5);\">a</span> <span style=\"background-color:rgba(104,104,255,0.5);\">blind</span> <span style=\"background-color:rgba(104,104,255,0.5);\">eye</span> <span style=\"background-color:rgba(104,104,255,0.5);\">to</span> <span style=\"background-color:rgba(104,104,255,0.5);\">Z</span> <span style=\"background-color:rgba(104,104,255,0.5);\">##immer</span> <span style=\"background-color:rgba(104,104,255,0.5);\">##man</span> <span style=\"background-color:rgba(104,104,255,0.5);\">’</span> <span style=\"background-color:rgba(104,104,255,0.5);\">s</span> <span style=\"background-color:rgba(104,104,255,0.5);\">whistle</span> <span style=\"background-color:rgba(104,104,255,0.5);\">##b</span> <span style=\"background-color:rgba(104,104,255,0.5);\">##low</span> <span style=\"background-color:rgba(104,104,255,0.5);\">##er</span> <span style=\"background-color:rgba(104,104,255,0.5);\">claims</span> <span style=\"background-color:rgba(255,255,255,0);\">.</span> <span style=\"background-color:rgba(255,255,255,0);\">However</span> <span style=\"background-color:rgba(255,255,255,0);\">,</span> <span style=\"background-color:rgba(104,104,255,0.5);\">two</span> <span style=\"background-color:rgba(104,104,255,0.5);\">obvious</span> <span style=\"background-color:rgba(104,104,255,0.5);\">answers</span> <span style=\"background-color:rgba(104,104,255,0.5);\">come</span> <span style=\"background-color:rgba(104,104,255,0.5);\">to</span> <span style=\"background-color:rgba(104,104,255,0.5);\">mind</span> <span style=\"background-color:rgba(255,255,255,0);\">.</span>"
      ],
      "text/plain": [
       "<IPython.core.display.HTML object>"
      ]
     },
     "metadata": {},
     "output_type": "display_data"
    },
    {
     "data": {
      "text/html": [
       "<span style=\"background-color:rgba(255,255,255,0);\">First</span> <span style=\"background-color:rgba(255,255,255,0);\">,</span> <span style=\"background-color:rgba(104,104,255,1);\">privacy</span> <span style=\"background-color:rgba(104,104,255,0.5);\">laws</span> <span style=\"background-color:rgba(104,104,255,0.5);\">can</span> <span style=\"background-color:rgba(104,104,255,0.5);\">be</span> <span style=\"background-color:rgba(104,104,255,0.5);\">complicated</span> <span style=\"background-color:rgba(104,104,255,0.5);\">and</span> <span style=\"background-color:rgba(104,104,255,0.5);\">time</span> <span style=\"background-color:rgba(104,104,255,0.5);\">consuming</span> <span style=\"background-color:rgba(104,104,255,0.5);\">to</span> <span style=\"background-color:rgba(104,104,255,0.5);\">follow</span> <span style=\"background-color:rgba(104,104,255,0.5);\">,</span> <span style=\"background-color:rgba(104,104,255,1);\">making</span> <span style=\"background-color:rgba(104,104,255,0.5);\">it</span> <span style=\"background-color:rgba(104,104,255,0.5);\">costly</span> <span style=\"background-color:rgba(104,104,255,0.5);\">to</span> <span style=\"background-color:rgba(104,104,255,0.5);\">obtain</span> <span style=\"background-color:rgba(104,104,255,0.5);\">informed</span> <span style=\"background-color:rgba(104,104,255,0.5);\">consent</span> <span style=\"background-color:rgba(255,255,255,0);\">.</span> <span style=\"background-color:rgba(255,255,255,0);\">However</span> <span style=\"background-color:rgba(255,255,255,0);\">,</span> <span style=\"background-color:rgba(104,104,255,1);\">what</span> <span style=\"background-color:rgba(104,104,255,0.5);\">is</span> <span style=\"background-color:rgba(104,104,255,0.5);\">clear</span> <span style=\"background-color:rgba(104,104,255,0.5);\">is</span> <span style=\"background-color:rgba(104,104,255,0.5);\">that</span> <span style=\"background-color:rgba(104,104,255,0.5);\">in</span> <span style=\"background-color:rgba(104,104,255,0.5);\">the</span> <span style=\"background-color:rgba(104,104,255,0.5);\">world</span> <span style=\"background-color:rgba(104,104,255,0.5);\">of</span> <span style=\"background-color:rgba(104,104,255,0.5);\">big</span> <span style=\"background-color:rgba(104,104,255,0.5);\">research</span> <span style=\"background-color:rgba(104,104,255,0.5);\">and</span> <span style=\"background-color:rgba(104,104,255,0.5);\">big</span> <span style=\"background-color:rgba(104,104,255,0.5);\">business</span> <span style=\"background-color:rgba(104,104,255,0.5);\">,</span> <span style=\"background-color:rgba(104,104,255,0.5);\">big</span> <span style=\"background-color:rgba(104,104,255,0.5);\">data</span> <span style=\"background-color:rgba(104,104,255,0.5);\">equals</span> <span style=\"background-color:rgba(104,104,255,0.5);\">big</span> <span style=\"background-color:rgba(104,104,255,0.5);\">money</span> <span style=\"background-color:rgba(104,104,255,0.5);\">and</span> <span style=\"background-color:rgba(104,104,255,0.5);\">big</span> <span style=\"background-color:rgba(104,104,255,0.5);\">power</span> <span style=\"background-color:rgba(255,255,255,0);\">.</span> <span style=\"background-color:rgba(104,104,255,1);\">There</span> <span style=\"background-color:rgba(104,104,255,0.5);\">are</span> <span style=\"background-color:rgba(104,104,255,0.5);\">strong</span> <span style=\"background-color:rgba(104,104,255,0.5);\">financial</span> <span style=\"background-color:rgba(104,104,255,0.5);\">motivation</span> <span style=\"background-color:rgba(104,104,255,0.5);\">##s</span> <span style=\"background-color:rgba(104,104,255,0.5);\">to</span> <span style=\"background-color:rgba(104,104,255,0.5);\">gain</span> <span style=\"background-color:rgba(104,104,255,0.5);\">access</span> <span style=\"background-color:rgba(104,104,255,0.5);\">to</span> <span style=\"background-color:rgba(104,104,255,0.5);\">id</span> <span style=\"background-color:rgba(104,104,255,0.5);\">##ent</span> <span style=\"background-color:rgba(104,104,255,0.5);\">##ifiable</span> <span style=\"background-color:rgba(104,104,255,0.5);\">autism</span> <span style=\"background-color:rgba(104,104,255,0.5);\">data</span> <span style=\"background-color:rgba(104,104,255,0.5);\">that</span> <span style=\"background-color:rgba(104,104,255,0.5);\">would</span> <span style=\"background-color:rgba(104,104,255,0.5);\">not</span> <span style=\"background-color:rgba(104,104,255,0.5);\">be</span> <span style=\"background-color:rgba(104,104,255,0.5);\">available</span> <span style=\"background-color:rgba(104,104,255,0.5);\">to</span> <span style=\"background-color:rgba(104,104,255,0.5);\">researchers</span> <span style=\"background-color:rgba(104,104,255,0.5);\">if</span> <span style=\"background-color:rgba(104,104,255,0.5);\">federal</span> <span style=\"background-color:rgba(104,104,255,0.5);\">privacy</span> <span style=\"background-color:rgba(104,104,255,0.5);\">laws</span> <span style=\"background-color:rgba(104,104,255,0.5);\">are</span> <span style=\"background-color:rgba(104,104,255,0.5);\">followed</span> <span style=\"background-color:rgba(255,255,255,0);\">.</span>"
      ],
      "text/plain": [
       "<IPython.core.display.HTML object>"
      ]
     },
     "metadata": {},
     "output_type": "display_data"
    },
    {
     "data": {
      "text/html": [
       "<span style=\"background-color:rgba(255,255,255,0);\">Second</span> <span style=\"background-color:rgba(255,255,255,0);\">,</span> <span style=\"background-color:rgba(104,104,255,1);\">de</span> <span style=\"background-color:rgba(104,104,255,1);\">##viation</span> <span style=\"background-color:rgba(104,104,255,0.5);\">##s</span> <span style=\"background-color:rgba(104,104,255,0.5);\">from</span> <span style=\"background-color:rgba(104,104,255,0.5);\">pre</span> <span style=\"background-color:rgba(104,104,255,0.5);\">##det</span> <span style=\"background-color:rgba(104,104,255,0.5);\">##ermined</span> <span style=\"background-color:rgba(104,104,255,0.5);\">AD</span> <span style=\"background-color:rgba(104,104,255,0.5);\">##DM</span> <span style=\"background-color:rgba(104,104,255,0.5);\">study</span> <span style=\"background-color:rgba(104,104,255,0.5);\">protocols</span> <span style=\"background-color:rgba(104,104,255,0.5);\">led</span> <span style=\"background-color:rgba(104,104,255,0.5);\">to</span> <span style=\"background-color:rgba(104,104,255,0.5);\">er</span> <span style=\"background-color:rgba(104,104,255,0.5);\">##rone</span> <span style=\"background-color:rgba(104,104,255,0.5);\">##ous</span> <span style=\"background-color:rgba(104,104,255,0.5);\">reports</span> <span style=\"background-color:rgba(104,104,255,0.5);\">of</span> <span style=\"background-color:rgba(104,104,255,0.5);\">declining</span> <span style=\"background-color:rgba(104,104,255,0.5);\">Utah</span> <span style=\"background-color:rgba(104,104,255,0.5);\">autism</span> <span style=\"background-color:rgba(104,104,255,0.5);\">rates</span> <span style=\"background-color:rgba(255,255,255,0);\">.</span> <span style=\"background-color:rgba(255,255,255,0);\">Co</span> <span style=\"background-color:rgba(255,255,255,0);\">##rre</span> <span style=\"background-color:rgba(255,255,255,0);\">##cting</span> <span style=\"background-color:rgba(255,255,255,0);\">the</span> <span style=\"background-color:rgba(104,104,255,0.5);\">data</span> <span style=\"background-color:rgba(104,104,255,0.5);\">errors</span> <span style=\"background-color:rgba(104,104,255,0.5);\">and</span> <span style=\"background-color:rgba(255,255,255,0);\">string</span> <span style=\"background-color:rgba(104,104,255,0.5);\">##ently</span> <span style=\"background-color:rgba(104,104,255,0.5);\">following</span> <span style=\"background-color:rgba(104,104,255,0.5);\">study</span> <span style=\"background-color:rgba(104,104,255,0.5);\">protocols</span> <span style=\"background-color:rgba(104,104,255,0.5);\">would</span> <span style=\"background-color:rgba(104,104,255,0.5);\">have</span> <span style=\"background-color:rgba(104,104,255,0.5);\">resulted</span> <span style=\"background-color:rgba(104,104,255,0.5);\">in</span> <span style=\"background-color:rgba(104,104,255,0.5);\">higher</span> <span style=\"background-color:rgba(104,104,255,0.5);\">autism</span> <span style=\"background-color:rgba(104,104,255,0.5);\">rates</span> <span style=\"background-color:rgba(104,104,255,0.5);\">supportive</span> <span style=\"background-color:rgba(104,104,255,0.5);\">of</span> <span style=\"background-color:rgba(104,104,255,0.5);\">declaring</span> <span style=\"background-color:rgba(104,104,255,0.5);\">an</span> <span style=\"background-color:rgba(104,104,255,0.5);\">autism</span> <span style=\"background-color:rgba(104,104,255,0.5);\">epidemic</span> <span style=\"background-color:rgba(255,255,255,0);\">,</span> <span style=\"background-color:rgba(104,104,255,1);\">a</span> <span style=\"background-color:rgba(104,104,255,0.5);\">declaration</span> <span style=\"background-color:rgba(104,104,255,0.5);\">the</span> <span style=\"background-color:rgba(104,104,255,0.5);\">CD</span> <span style=\"background-color:rgba(104,104,255,0.5);\">##C</span> <span style=\"background-color:rgba(104,104,255,0.5);\">has</span> <span style=\"background-color:rgba(104,104,255,0.5);\">never</span> <span style=\"background-color:rgba(104,104,255,0.5);\">been</span> <span style=\"background-color:rgba(104,104,255,0.5);\">willing</span> <span style=\"background-color:rgba(104,104,255,0.5);\">to</span> <span style=\"background-color:rgba(104,104,255,0.5);\">make</span> <span style=\"background-color:rgba(255,255,255,0);\">,</span> <span style=\"background-color:rgba(255,255,255,0);\">and</span> <span style=\"background-color:rgba(104,104,255,1);\">which</span> <span style=\"background-color:rgba(104,104,255,0.5);\">goes</span> <span style=\"background-color:rgba(104,104,255,0.5);\">against</span> <span style=\"background-color:rgba(104,104,255,0.5);\">their</span> <span style=\"background-color:rgba(104,104,255,0.5);\">historical</span> <span style=\"background-color:rgba(104,104,255,0.5);\">mess</span> <span style=\"background-color:rgba(104,104,255,0.5);\">##aging</span> <span style=\"background-color:rgba(255,255,255,0);\">.</span> <span style=\"background-color:rgba(104,104,255,1);\">A</span> <span style=\"background-color:rgba(104,104,255,0.5);\">declaration</span> <span style=\"background-color:rgba(104,104,255,0.5);\">that</span> <span style=\"background-color:rgba(104,104,255,0.5);\">there</span> <span style=\"background-color:rgba(104,104,255,0.5);\">is</span> <span style=\"background-color:rgba(104,104,255,0.5);\">an</span> <span style=\"background-color:rgba(104,104,255,0.5);\">autism</span> <span style=\"background-color:rgba(104,104,255,0.5);\">epidemic</span> <span style=\"background-color:rgba(104,104,255,0.5);\">would</span> <span style=\"background-color:rgba(104,104,255,0.5);\">support</span> <span style=\"background-color:rgba(104,104,255,0.5);\">environmental</span> <span style=\"background-color:rgba(104,104,255,0.5);\">ca</span> <span style=\"background-color:rgba(104,104,255,0.5);\">##usal</span> <span style=\"background-color:rgba(104,104,255,0.5);\">##ity</span> <span style=\"background-color:rgba(104,104,255,0.5);\">,</span> <span style=\"background-color:rgba(104,104,255,0.5);\">a</span> <span style=\"background-color:rgba(104,104,255,0.5);\">possibility</span> <span style=\"background-color:rgba(104,104,255,0.5);\">that</span> <span style=\"background-color:rgba(104,104,255,0.5);\">the</span> <span style=\"background-color:rgba(104,104,255,0.5);\">CD</span> <span style=\"background-color:rgba(104,104,255,0.5);\">##C</span> <span style=\"background-color:rgba(104,104,255,0.5);\">has</span> <span style=\"background-color:rgba(104,104,255,0.5);\">repeatedly</span> <span style=\"background-color:rgba(104,104,255,0.5);\">down</span> <span style=\"background-color:rgba(104,104,255,0.5);\">##played</span> <span style=\"background-color:rgba(255,255,255,0);\">.</span>"
      ],
      "text/plain": [
       "<IPython.core.display.HTML object>"
      ]
     },
     "metadata": {},
     "output_type": "display_data"
    },
    {
     "data": {
      "text/html": [
       "<span style=\"background-color:rgba(104,104,255,1);\">The</span> <span style=\"background-color:rgba(104,104,255,0.5);\">two</span> <span style=\"background-color:rgba(104,104,255,0.5);\">of</span> <span style=\"background-color:rgba(104,104,255,0.5);\">us</span> <span style=\"background-color:rgba(104,104,255,0.5);\">are</span> <span style=\"background-color:rgba(104,104,255,0.5);\">hopeful</span> <span style=\"background-color:rgba(104,104,255,0.5);\">Congress</span> <span style=\"background-color:rgba(104,104,255,0.5);\">##men</span> <span style=\"background-color:rgba(104,104,255,0.5);\">M</span> <span style=\"background-color:rgba(104,104,255,0.5);\">##c</span> <span style=\"background-color:rgba(104,104,255,0.5);\">##A</span> <span style=\"background-color:rgba(104,104,255,0.5);\">##dam</span> <span style=\"background-color:rgba(104,104,255,0.5);\">##s</span> <span style=\"background-color:rgba(104,104,255,0.5);\">and</span> <span style=\"background-color:rgba(104,104,255,0.5);\">Po</span> <span style=\"background-color:rgba(104,104,255,0.5);\">##sey</span> <span style=\"background-color:rgba(104,104,255,0.5);\">will</span> <span style=\"background-color:rgba(104,104,255,0.5);\">attempt</span> <span style=\"background-color:rgba(104,104,255,0.5);\">to</span> <span style=\"background-color:rgba(104,104,255,0.5);\">get</span> <span style=\"background-color:rgba(104,104,255,0.5);\">answers</span> <span style=\"background-color:rgba(104,104,255,0.5);\">from</span> <span style=\"background-color:rgba(104,104,255,0.5);\">the</span> <span style=\"background-color:rgba(104,104,255,0.5);\">CD</span> <span style=\"background-color:rgba(104,104,255,0.5);\">##C</span> <span style=\"background-color:rgba(104,104,255,0.5);\">about</span> <span style=\"background-color:rgba(104,104,255,0.5);\">research</span> <span style=\"background-color:rgba(104,104,255,0.5);\">fraud</span> <span style=\"background-color:rgba(104,104,255,0.5);\">by</span> <span style=\"background-color:rgba(104,104,255,0.5);\">the</span> <span style=\"background-color:rgba(104,104,255,0.5);\">AD</span> <span style=\"background-color:rgba(104,104,255,0.5);\">##DM</span> <span style=\"background-color:rgba(104,104,255,0.5);\">Network</span> <span style=\"background-color:rgba(104,104,255,0.5);\">officials</span> <span style=\"background-color:rgba(255,255,255,0);\">.</span> <span style=\"background-color:rgba(123,255,108,1);\">M</span> <span style=\"background-color:rgba(123,255,108,0.5);\">##c</span> <span style=\"background-color:rgba(123,255,108,0.5);\">##A</span> <span style=\"background-color:rgba(123,255,108,0.5);\">##dam</span> <span style=\"background-color:rgba(123,255,108,0.5);\">##s</span> <span style=\"background-color:rgba(123,255,108,0.5);\">is</span> <span style=\"background-color:rgba(123,255,108,0.5);\">Z</span> <span style=\"background-color:rgba(123,255,108,0.5);\">##immer</span> <span style=\"background-color:rgba(123,255,108,0.5);\">##man</span> <span style=\"background-color:rgba(123,255,108,0.5);\">’</span> <span style=\"background-color:rgba(123,255,108,0.5);\">s</span> <span style=\"background-color:rgba(123,255,108,0.5);\">current</span> <span style=\"background-color:rgba(123,255,108,0.5);\">congressional</span> <span style=\"background-color:rgba(123,255,108,0.5);\">representative</span> <span style=\"background-color:rgba(255,255,255,0);\">.</span> <span style=\"background-color:rgba(104,104,255,1);\">He</span> <span style=\"background-color:rgba(104,104,255,0.5);\">is</span> <span style=\"background-color:rgba(104,104,255,0.5);\">well</span> <span style=\"background-color:rgba(104,104,255,0.5);\">-</span> <span style=\"background-color:rgba(104,104,255,0.5);\">known</span> <span style=\"background-color:rgba(104,104,255,0.5);\">for</span> <span style=\"background-color:rgba(104,104,255,0.5);\">his</span> <span style=\"background-color:rgba(104,104,255,0.5);\">honesty</span> <span style=\"background-color:rgba(104,104,255,0.5);\">,</span> <span style=\"background-color:rgba(104,104,255,0.5);\">compassion</span> <span style=\"background-color:rgba(104,104,255,0.5);\">,</span> <span style=\"background-color:rgba(104,104,255,0.5);\">and</span> <span style=\"background-color:rgba(104,104,255,0.5);\">for</span> <span style=\"background-color:rgba(104,104,255,0.5);\">bringing</span> <span style=\"background-color:rgba(104,104,255,0.5);\">Republicans</span> <span style=\"background-color:rgba(104,104,255,0.5);\">and</span> <span style=\"background-color:rgba(104,104,255,0.5);\">Democrats</span> <span style=\"background-color:rgba(104,104,255,0.5);\">together</span> <span style=\"background-color:rgba(104,104,255,0.5);\">to</span> <span style=\"background-color:rgba(104,104,255,0.5);\">get</span> <span style=\"background-color:rgba(104,104,255,0.5);\">things</span> <span style=\"background-color:rgba(104,104,255,0.5);\">done</span> <span style=\"background-color:rgba(255,255,255,0);\">.</span> <span style=\"background-color:rgba(123,255,108,1);\">He</span> <span style=\"background-color:rgba(123,255,108,0.5);\">has</span> <span style=\"background-color:rgba(123,255,108,0.5);\">a</span> <span style=\"background-color:rgba(123,255,108,0.5);\">law</span> <span style=\"background-color:rgba(123,255,108,0.5);\">degree</span> <span style=\"background-color:rgba(123,255,108,0.5);\">from</span> <span style=\"background-color:rgba(123,255,108,0.5);\">Columbia</span> <span style=\"background-color:rgba(123,255,108,0.5);\">Law</span> <span style=\"background-color:rgba(123,255,108,0.5);\">School</span> <span style=\"background-color:rgba(104,104,255,0.5);\">and</span> <span style=\"background-color:rgba(104,104,255,1);\">as</span> <span style=\"background-color:rgba(104,104,255,0.5);\">such</span> <span style=\"background-color:rgba(104,104,255,0.5);\">likely</span> <span style=\"background-color:rgba(104,104,255,0.5);\">understands</span> <span style=\"background-color:rgba(104,104,255,0.5);\">the</span> <span style=\"background-color:rgba(104,104,255,0.5);\">complexity</span> <span style=\"background-color:rgba(104,104,255,0.5);\">of</span> <span style=\"background-color:rgba(104,104,255,0.5);\">federal</span> <span style=\"background-color:rgba(104,104,255,0.5);\">privacy</span> <span style=\"background-color:rgba(104,104,255,0.5);\">violations</span> <span style=\"background-color:rgba(104,104,255,0.5);\">Z</span> <span style=\"background-color:rgba(104,104,255,0.5);\">##immer</span> <span style=\"background-color:rgba(104,104,255,0.5);\">##man</span> <span style=\"background-color:rgba(104,104,255,0.5);\">has</span> <span style=\"background-color:rgba(104,104,255,0.5);\">documented</span> <span style=\"background-color:rgba(104,104,255,0.5);\">and</span> <span style=\"background-color:rgba(104,104,255,0.5);\">reported</span> <span style=\"background-color:rgba(255,255,255,0);\">.</span> <span style=\"background-color:rgba(123,255,108,1);\">Like</span> <span style=\"background-color:rgba(123,255,108,0.5);\">Congressman</span> <span style=\"background-color:rgba(123,255,108,0.5);\">Po</span> <span style=\"background-color:rgba(123,255,108,0.5);\">##sey</span> <span style=\"background-color:rgba(123,255,108,0.5);\">,</span> <span style=\"background-color:rgba(123,255,108,0.5);\">M</span> <span style=\"background-color:rgba(123,255,108,0.5);\">##c</span> <span style=\"background-color:rgba(123,255,108,0.5);\">##A</span> <span style=\"background-color:rgba(123,255,108,0.5);\">##dam</span> <span style=\"background-color:rgba(123,255,108,0.5);\">##s</span> <span style=\"background-color:rgba(123,255,108,0.5);\">currently</span> <span style=\"background-color:rgba(123,255,108,0.5);\">serves</span> <span style=\"background-color:rgba(123,255,108,0.5);\">on</span> <span style=\"background-color:rgba(123,255,108,0.5);\">the</span> <span style=\"background-color:rgba(123,255,108,0.5);\">US</span> <span style=\"background-color:rgba(123,255,108,0.5);\">House</span> <span style=\"background-color:rgba(123,255,108,0.5);\">of</span> <span style=\"background-color:rgba(123,255,108,0.5);\">Representatives</span> <span style=\"background-color:rgba(123,255,108,0.5);\">Committee</span> <span style=\"background-color:rgba(123,255,108,0.5);\">on</span> <span style=\"background-color:rgba(123,255,108,0.5);\">Science</span> <span style=\"background-color:rgba(123,255,108,0.5);\">,</span> <span style=\"background-color:rgba(123,255,108,0.5);\">Space</span> <span style=\"background-color:rgba(123,255,108,0.5);\">,</span> <span style=\"background-color:rgba(123,255,108,0.5);\">and</span> <span style=\"background-color:rgba(123,255,108,0.5);\">Technology</span> <span style=\"background-color:rgba(123,255,108,0.5);\">,</span> <span style=\"background-color:rgba(123,255,108,0.5);\">an</span> <span style=\"background-color:rgba(123,255,108,0.5);\">important</span> <span style=\"background-color:rgba(123,255,108,0.5);\">committee</span> <span style=\"background-color:rgba(123,255,108,0.5);\">to</span> <span style=\"background-color:rgba(123,255,108,0.5);\">address</span> <span style=\"background-color:rgba(123,255,108,0.5);\">issues</span> <span style=\"background-color:rgba(123,255,108,0.5);\">of</span> <span style=\"background-color:rgba(123,255,108,0.5);\">fraud</span> <span style=\"background-color:rgba(123,255,108,0.5);\">related</span> <span style=\"background-color:rgba(123,255,108,0.5);\">to</span> <span style=\"background-color:rgba(123,255,108,0.5);\">scientific</span> <span style=\"background-color:rgba(123,255,108,0.5);\">studies</span> <span style=\"background-color:rgba(123,255,108,0.5);\">and</span> <span style=\"background-color:rgba(123,255,108,0.5);\">findings</span> <span style=\"background-color:rgba(255,255,255,0);\">.</span>"
      ],
      "text/plain": [
       "<IPython.core.display.HTML object>"
      ]
     },
     "metadata": {},
     "output_type": "display_data"
    },
    {
     "data": {
      "text/html": [
       "<span style=\"background-color:rgba(104,104,255,1);\">Po</span> <span style=\"background-color:rgba(104,104,255,0.5);\">##sey</span> <span style=\"background-color:rgba(104,104,255,0.5);\">is</span> <span style=\"background-color:rgba(104,104,255,0.5);\">already</span> <span style=\"background-color:rgba(104,104,255,0.5);\">well</span> <span style=\"background-color:rgba(104,104,255,0.5);\">-</span> <span style=\"background-color:rgba(104,104,255,0.5);\">known</span> <span style=\"background-color:rgba(104,104,255,0.5);\">in</span> <span style=\"background-color:rgba(104,104,255,0.5);\">national</span> <span style=\"background-color:rgba(104,104,255,0.5);\">autism</span> <span style=\"background-color:rgba(104,104,255,0.5);\">circles</span> <span style=\"background-color:rgba(104,104,255,0.5);\">for</span> <span style=\"background-color:rgba(104,104,255,0.5);\">bringing</span> <span style=\"background-color:rgba(104,104,255,0.5);\">to</span> <span style=\"background-color:rgba(104,104,255,0.5);\">light</span> <span style=\"background-color:rgba(104,104,255,0.5);\">another</span> <span style=\"background-color:rgba(104,104,255,0.5);\">whistle</span> <span style=\"background-color:rgba(104,104,255,0.5);\">##b</span> <span style=\"background-color:rgba(104,104,255,0.5);\">##low</span> <span style=\"background-color:rgba(104,104,255,0.5);\">##er</span> <span style=\"background-color:rgba(104,104,255,0.5);\">’</span> <span style=\"background-color:rgba(104,104,255,0.5);\">s</span> <span style=\"background-color:rgba(104,104,255,0.5);\">claims</span> <span style=\"background-color:rgba(104,104,255,0.5);\">of</span> <span style=\"background-color:rgba(104,104,255,0.5);\">fraud</span> <span style=\"background-color:rgba(104,104,255,0.5);\">and</span> <span style=\"background-color:rgba(104,104,255,0.5);\">data</span> <span style=\"background-color:rgba(104,104,255,0.5);\">manipulation</span> <span style=\"background-color:rgba(104,104,255,0.5);\">by</span> <span style=\"background-color:rgba(104,104,255,0.5);\">the</span> <span style=\"background-color:rgba(104,104,255,0.5);\">CD</span> <span style=\"background-color:rgba(104,104,255,0.5);\">##C</span> <span style=\"background-color:rgba(255,255,255,0);\">.</span> <span style=\"background-color:rgba(123,255,108,1);\">Po</span> <span style=\"background-color:rgba(123,255,108,0.5);\">##sey</span> <span style=\"background-color:rgba(123,255,108,0.5);\">previously</span> <span style=\"background-color:rgba(123,255,108,0.5);\">received</span> <span style=\"background-color:rgba(123,255,108,0.5);\">extensive</span> <span style=\"background-color:rgba(123,255,108,0.5);\">documentation</span> <span style=\"background-color:rgba(123,255,108,0.5);\">about</span> <span style=\"background-color:rgba(123,255,108,0.5);\">research</span> <span style=\"background-color:rgba(123,255,108,0.5);\">fraud</span> <span style=\"background-color:rgba(123,255,108,0.5);\">at</span> <span style=\"background-color:rgba(123,255,108,0.5);\">the</span> <span style=\"background-color:rgba(123,255,108,0.5);\">CD</span> <span style=\"background-color:rgba(123,255,108,0.5);\">##C</span> <span style=\"background-color:rgba(123,255,108,0.5);\">from</span> <span style=\"background-color:rgba(123,255,108,0.5);\">Dr</span> <span style=\"background-color:rgba(123,255,108,0.5);\">.</span> <span style=\"background-color:rgba(123,255,108,0.5);\">William</span> <span style=\"background-color:rgba(123,255,108,0.5);\">Thompson</span> <span style=\"background-color:rgba(123,255,108,0.5);\">,</span> <span style=\"background-color:rgba(123,255,108,0.5);\">a</span> <span style=\"background-color:rgba(123,255,108,0.5);\">Senior</span> <span style=\"background-color:rgba(123,255,108,0.5);\">Scientist</span> <span style=\"background-color:rgba(123,255,108,0.5);\">at</span> <span style=\"background-color:rgba(123,255,108,0.5);\">the</span> <span style=\"background-color:rgba(123,255,108,0.5);\">CD</span> <span style=\"background-color:rgba(123,255,108,0.5);\">##C</span> <span style=\"background-color:rgba(104,104,255,0.5);\">.</span> <span style=\"background-color:rgba(104,104,255,0.5);\">C</span> <span style=\"background-color:rgba(104,104,255,0.5);\">##lai</span> <span style=\"background-color:rgba(104,104,255,0.5);\">##ms</span> <span style=\"background-color:rgba(104,104,255,0.5);\">of</span> <span style=\"background-color:rgba(104,104,255,0.5);\">research</span> <span style=\"background-color:rgba(104,104,255,0.5);\">fraud</span> <span style=\"background-color:rgba(104,104,255,0.5);\">at</span> <span style=\"background-color:rgba(104,104,255,0.5);\">the</span> <span style=\"background-color:rgba(104,104,255,0.5);\">CD</span> <span style=\"background-color:rgba(104,104,255,0.5);\">##C</span> <span style=\"background-color:rgba(104,104,255,0.5);\">by</span> <span style=\"background-color:rgba(104,104,255,0.5);\">Dr</span> <span style=\"background-color:rgba(104,104,255,0.5);\">##s</span> <span style=\"background-color:rgba(104,104,255,0.5);\">.</span> <span style=\"background-color:rgba(104,104,255,0.5);\">Thompson</span> <span style=\"background-color:rgba(104,104,255,0.5);\">and</span> <span style=\"background-color:rgba(104,104,255,0.5);\">Z</span> <span style=\"background-color:rgba(104,104,255,0.5);\">##immer</span> <span style=\"background-color:rgba(104,104,255,0.5);\">##man</span> <span style=\"background-color:rgba(104,104,255,0.5);\">have</span> <span style=\"background-color:rgba(104,104,255,0.5);\">some</span> <span style=\"background-color:rgba(104,104,255,0.5);\">striking</span> <span style=\"background-color:rgba(104,104,255,0.5);\">similarities</span> <span style=\"background-color:rgba(255,255,255,0);\">.</span> <span style=\"background-color:rgba(255,114,104,1);\">Both</span> <span style=\"background-color:rgba(255,114,104,0.5);\">Thompson</span> <span style=\"background-color:rgba(255,114,104,0.5);\">and</span> <span style=\"background-color:rgba(255,114,104,0.5);\">Z</span> <span style=\"background-color:rgba(255,114,104,0.5);\">##immer</span> <span style=\"background-color:rgba(255,114,104,0.5);\">##man</span> <span style=\"background-color:rgba(255,114,104,0.5);\">reported</span> <span style=\"background-color:rgba(255,114,104,0.5);\">de</span> <span style=\"background-color:rgba(255,114,104,0.5);\">##viation</span> <span style=\"background-color:rgba(255,114,104,0.5);\">##s</span> <span style=\"background-color:rgba(255,114,104,0.5);\">from</span> <span style=\"background-color:rgba(255,114,104,0.5);\">pre</span> <span style=\"background-color:rgba(255,114,104,0.5);\">##det</span> <span style=\"background-color:rgba(255,114,104,0.5);\">##ermined</span> <span style=\"background-color:rgba(255,114,104,0.5);\">CD</span> <span style=\"background-color:rgba(255,114,104,0.5);\">##C</span> <span style=\"background-color:rgba(255,114,104,0.5);\">study</span> <span style=\"background-color:rgba(255,114,104,0.5);\">protocols</span> <span style=\"background-color:rgba(255,114,104,0.5);\">on</span> <span style=\"background-color:rgba(255,114,104,0.5);\">key</span> <span style=\"background-color:rgba(255,114,104,0.5);\">autism</span> <span style=\"background-color:rgba(255,114,104,0.5);\">studies</span> <span style=\"background-color:rgba(255,255,255,0);\">.</span> <span style=\"background-color:rgba(123,255,108,1);\">Both</span> <span style=\"background-color:rgba(123,255,108,0.5);\">Thompson</span> <span style=\"background-color:rgba(123,255,108,0.5);\">and</span> <span style=\"background-color:rgba(123,255,108,0.5);\">Z</span> <span style=\"background-color:rgba(123,255,108,0.5);\">##immer</span> <span style=\"background-color:rgba(255,114,104,0.5);\">##man</span> <span style=\"background-color:rgba(123,255,108,0.5);\">reported</span> <span style=\"background-color:rgba(123,255,108,0.5);\">o</span> <span style=\"background-color:rgba(123,255,108,0.5);\">##mission</span> <span style=\"background-color:rgba(123,255,108,0.5);\">of</span> <span style=\"background-color:rgba(123,255,108,0.5);\">statistical</span> <span style=\"background-color:rgba(123,255,108,0.5);\">##ly</span> <span style=\"background-color:rgba(123,255,108,0.5);\">significant</span> <span style=\"background-color:rgba(123,255,108,0.5);\">data</span> <span style=\"background-color:rgba(255,255,255,0);\">.</span> <span style=\"background-color:rgba(255,114,104,1);\">Both</span> <span style=\"background-color:rgba(255,114,104,0.5);\">Thompson</span> <span style=\"background-color:rgba(255,114,104,0.5);\">and</span> <span style=\"background-color:rgba(255,114,104,0.5);\">Z</span> <span style=\"background-color:rgba(255,114,104,0.5);\">##immer</span> <span style=\"background-color:rgba(255,114,104,0.5);\">##man</span> <span style=\"background-color:rgba(255,114,104,0.5);\">reported</span> <span style=\"background-color:rgba(255,114,104,0.5);\">that</span> <span style=\"background-color:rgba(255,114,104,0.5);\">the</span> <span style=\"background-color:rgba(255,114,104,0.5);\">CD</span> <span style=\"background-color:rgba(255,114,104,0.5);\">##C</span> <span style=\"background-color:rgba(255,114,104,0.5);\">went</span> <span style=\"background-color:rgba(255,114,104,0.5);\">to</span> <span style=\"background-color:rgba(255,114,104,0.5);\">great</span> <span style=\"background-color:rgba(255,114,104,0.5);\">lengths</span> <span style=\"background-color:rgba(255,114,104,0.5);\">to</span> <span style=\"background-color:rgba(255,114,104,0.5);\">cover</span> <span style=\"background-color:rgba(255,114,104,0.5);\">up</span> <span style=\"background-color:rgba(255,114,104,0.5);\">research</span> <span style=\"background-color:rgba(255,114,104,0.5);\">data</span> <span style=\"background-color:rgba(255,114,104,0.5);\">manipulation</span> <span style=\"background-color:rgba(255,255,255,0);\">.</span>"
      ],
      "text/plain": [
       "<IPython.core.display.HTML object>"
      ]
     },
     "metadata": {},
     "output_type": "display_data"
    },
    {
     "data": {
      "text/html": [
       "<span style=\"background-color:rgba(104,104,255,1);\">Dec</span> <span style=\"background-color:rgba(104,104,255,0.5);\">##lar</span> <span style=\"background-color:rgba(104,104,255,0.5);\">##ing</span> <span style=\"background-color:rgba(104,104,255,0.5);\">autism</span> <span style=\"background-color:rgba(104,104,255,0.5);\">an</span> <span style=\"background-color:rgba(104,104,255,0.5);\">epidemic</span> <span style=\"background-color:rgba(104,104,255,0.5);\">is</span> <span style=\"background-color:rgba(104,104,255,0.5);\">long</span> <span style=\"background-color:rgba(104,104,255,0.5);\">over</span> <span style=\"background-color:rgba(104,104,255,0.5);\">##due</span> <span style=\"background-color:rgba(255,255,255,0);\">.</span> <span style=\"background-color:rgba(104,104,255,1);\">The</span> <span style=\"background-color:rgba(104,104,255,0.5);\">public</span> <span style=\"background-color:rgba(104,104,255,0.5);\">and</span> <span style=\"background-color:rgba(104,104,255,0.5);\">most</span> <span style=\"background-color:rgba(104,104,255,0.5);\">importantly</span> <span style=\"background-color:rgba(104,104,255,0.5);\">the</span> <span style=\"background-color:rgba(104,104,255,0.5);\">parents</span> <span style=\"background-color:rgba(104,104,255,0.5);\">and</span> <span style=\"background-color:rgba(104,104,255,0.5);\">families</span> <span style=\"background-color:rgba(104,104,255,0.5);\">impacted</span> <span style=\"background-color:rgba(104,104,255,0.5);\">by</span> <span style=\"background-color:rgba(104,104,255,0.5);\">autism</span> <span style=\"background-color:rgba(104,104,255,0.5);\">deserve</span> <span style=\"background-color:rgba(104,104,255,0.5);\">better</span> <span style=\"background-color:rgba(255,255,255,0);\">.</span> <span style=\"background-color:rgba(104,104,255,1);\">A</span> <span style=\"background-color:rgba(104,104,255,0.5);\">##cc</span> <span style=\"background-color:rgba(104,104,255,0.5);\">##ura</span> <span style=\"background-color:rgba(104,104,255,0.5);\">##te</span> <span style=\"background-color:rgba(104,104,255,0.5);\">information</span> <span style=\"background-color:rgba(104,104,255,0.5);\">is</span> <span style=\"background-color:rgba(104,104,255,0.5);\">needed</span> <span style=\"background-color:rgba(104,104,255,0.5);\">to</span> <span style=\"background-color:rgba(104,104,255,0.5);\">answer</span> <span style=\"background-color:rgba(104,104,255,0.5);\">important</span> <span style=\"background-color:rgba(104,104,255,0.5);\">and</span> <span style=\"background-color:rgba(104,104,255,0.5);\">glaring</span> <span style=\"background-color:rgba(104,104,255,0.5);\">questions</span> <span style=\"background-color:rgba(104,104,255,0.5);\">about</span> <span style=\"background-color:rgba(104,104,255,0.5);\">et</span> <span style=\"background-color:rgba(104,104,255,0.5);\">##iol</span> <span style=\"background-color:rgba(104,104,255,0.5);\">##ogical</span> <span style=\"background-color:rgba(104,104,255,0.5);\">factors</span> <span style=\"background-color:rgba(104,104,255,0.5);\">and</span> <span style=\"background-color:rgba(104,104,255,0.5);\">planning</span> <span style=\"background-color:rgba(104,104,255,0.5);\">for</span> <span style=\"background-color:rgba(104,104,255,0.5);\">services</span> <span style=\"background-color:rgba(255,255,255,0);\">.</span> <span style=\"background-color:rgba(104,104,255,1);\">Researchers</span> <span style=\"background-color:rgba(104,104,255,0.5);\">and</span> <span style=\"background-color:rgba(104,104,255,0.5);\">public</span> <span style=\"background-color:rgba(104,104,255,0.5);\">health</span> <span style=\"background-color:rgba(104,104,255,0.5);\">officials</span> <span style=\"background-color:rgba(104,104,255,0.5);\">who</span> <span style=\"background-color:rgba(104,104,255,0.5);\">b</span> <span style=\"background-color:rgba(104,104,255,0.5);\">##lat</span> <span style=\"background-color:rgba(104,104,255,0.5);\">##antly</span> <span style=\"background-color:rgba(104,104,255,0.5);\">manipulate</span> <span style=\"background-color:rgba(104,104,255,0.5);\">data</span> <span style=\"background-color:rgba(104,104,255,0.5);\">and</span> <span style=\"background-color:rgba(104,104,255,0.5);\">fail</span> <span style=\"background-color:rgba(104,104,255,0.5);\">to</span> <span style=\"background-color:rgba(104,104,255,0.5);\">follow</span> <span style=\"background-color:rgba(104,104,255,0.5);\">federal</span> <span style=\"background-color:rgba(104,104,255,0.5);\">privacy</span> <span style=\"background-color:rgba(104,104,255,0.5);\">laws</span> <span style=\"background-color:rgba(104,104,255,0.5);\">need</span> <span style=\"background-color:rgba(104,104,255,0.5);\">to</span> <span style=\"background-color:rgba(104,104,255,0.5);\">be</span> <span style=\"background-color:rgba(104,104,255,0.5);\">held</span> <span style=\"background-color:rgba(104,104,255,0.5);\">account</span> <span style=\"background-color:rgba(104,104,255,0.5);\">##able</span> <span style=\"background-color:rgba(255,255,255,0);\">.</span> <span style=\"background-color:rgba(104,104,255,1);\">Congress</span> <span style=\"background-color:rgba(104,104,255,0.5);\">should</span> <span style=\"background-color:rgba(104,104,255,0.5);\">conduct</span> <span style=\"background-color:rgba(104,104,255,0.5);\">a</span> <span style=\"background-color:rgba(104,104,255,0.5);\">thorough</span> <span style=\"background-color:rgba(104,104,255,0.5);\">and</span> <span style=\"background-color:rgba(104,104,255,0.5);\">independent</span> <span style=\"background-color:rgba(104,104,255,0.5);\">investigation</span> <span style=\"background-color:rgba(104,104,255,0.5);\">of</span> <span style=\"background-color:rgba(104,104,255,0.5);\">autism</span> <span style=\"background-color:rgba(104,104,255,0.5);\">research</span> <span style=\"background-color:rgba(104,104,255,0.5);\">fraud</span> <span style=\"background-color:rgba(104,104,255,0.5);\">at</span> <span style=\"background-color:rgba(104,104,255,0.5);\">the</span> <span style=\"background-color:rgba(104,104,255,0.5);\">CD</span> <span style=\"background-color:rgba(104,104,255,0.5);\">##C</span> <span style=\"background-color:rgba(104,104,255,0.5);\">and</span> <span style=\"background-color:rgba(104,104,255,0.5);\">specifically</span> <span style=\"background-color:rgba(104,104,255,0.5);\">within</span> <span style=\"background-color:rgba(104,104,255,0.5);\">the</span> <span style=\"background-color:rgba(104,104,255,0.5);\">AD</span> <span style=\"background-color:rgba(104,104,255,0.5);\">##DM</span> <span style=\"background-color:rgba(104,104,255,0.5);\">Network</span> <span style=\"background-color:rgba(255,255,255,0);\">.</span>"
      ],
      "text/plain": [
       "<IPython.core.display.HTML object>"
      ]
     },
     "metadata": {},
     "output_type": "display_data"
    },
    {
     "data": {
      "text/html": [
       "<span style=\"background-color:rgba(255,255,255,0);\">Read</span> <span style=\"background-color:rgba(255,255,255,0);\">more</span> <span style=\"background-color:rgba(255,255,255,0);\">at</span> <span style=\"background-color:rgba(255,255,255,0);\">:</span> <span style=\"background-color:rgba(255,255,255,0);\">Children</span> <span style=\"background-color:rgba(255,255,255,0);\">##s</span> <span style=\"background-color:rgba(255,255,255,0);\">##H</span> <span style=\"background-color:rgba(255,255,255,0);\">##eal</span> <span style=\"background-color:rgba(255,255,255,0);\">##th</span> <span style=\"background-color:rgba(255,255,255,0);\">##D</span> <span style=\"background-color:rgba(255,255,255,0);\">##ef</span> <span style=\"background-color:rgba(255,255,255,0);\">##ense</span> <span style=\"background-color:rgba(255,255,255,0);\">.</span> <span style=\"background-color:rgba(255,255,255,0);\">org</span>"
      ],
      "text/plain": [
       "<IPython.core.display.HTML object>"
      ]
     },
     "metadata": {},
     "output_type": "display_data"
    },
    {
     "data": {
      "text/html": [
       "<span style=\"background-color:rgba(104,104,255,1);\">With</span> <span style=\"background-color:rgba(104,104,255,0.5);\">thousands</span> <span style=\"background-color:rgba(104,104,255,0.5);\">of</span> <span style=\"background-color:rgba(104,104,255,0.5);\">potential</span> <span style=\"background-color:rgba(104,104,255,0.5);\">Wu</span> <span style=\"background-color:rgba(104,104,255,0.5);\">##han</span> <span style=\"background-color:rgba(104,104,255,0.5);\">co</span> <span style=\"background-color:rgba(104,104,255,0.5);\">##rona</span> <span style=\"background-color:rgba(104,104,255,0.5);\">##virus</span> <span style=\"background-color:rgba(104,104,255,0.5);\">(</span> <span style=\"background-color:rgba(104,104,255,0.5);\">Co</span> <span style=\"background-color:rgba(104,104,255,0.5);\">##V</span> <span style=\"background-color:rgba(104,104,255,0.5);\">##id</span> <span style=\"background-color:rgba(104,104,255,0.5);\">-</span> <span style=\"background-color:rgba(104,104,255,0.5);\">19</span> <span style=\"background-color:rgba(104,104,255,0.5);\">)</span> <span style=\"background-color:rgba(104,104,255,0.5);\">cases</span> <span style=\"background-color:rgba(104,104,255,0.5);\">now</span> <span style=\"background-color:rgba(104,104,255,0.5);\">being</span> <span style=\"background-color:rgba(104,104,255,0.5);\">monitored</span> <span style=\"background-color:rgba(104,104,255,0.5);\">just</span> <span style=\"background-color:rgba(104,104,255,0.5);\">in</span> <span style=\"background-color:rgba(104,104,255,0.5);\">California</span> <span style=\"background-color:rgba(104,104,255,0.5);\">alone</span> <span style=\"background-color:rgba(104,104,255,0.5);\">,</span> <span style=\"background-color:rgba(104,104,255,0.5);\">one</span> <span style=\"background-color:rgba(104,104,255,0.5);\">would</span> <span style=\"background-color:rgba(104,104,255,0.5);\">think</span> <span style=\"background-color:rgba(104,104,255,0.5);\">that</span> <span style=\"background-color:rgba(104,104,255,0.5);\">the</span> <span style=\"background-color:rgba(104,104,255,0.5);\">U</span> <span style=\"background-color:rgba(104,104,255,0.5);\">.</span> <span style=\"background-color:rgba(104,104,255,0.5);\">S</span> <span style=\"background-color:rgba(104,104,255,0.5);\">.</span> <span style=\"background-color:rgba(104,104,255,0.5);\">Centers</span> <span style=\"background-color:rgba(104,104,255,0.5);\">for</span> <span style=\"background-color:rgba(104,104,255,0.5);\">Disease</span> <span style=\"background-color:rgba(104,104,255,0.5);\">Control</span> <span style=\"background-color:rgba(104,104,255,0.5);\">and</span> <span style=\"background-color:rgba(104,104,255,0.5);\">Prevention</span> <span style=\"background-color:rgba(104,104,255,0.5);\">(</span> <span style=\"background-color:rgba(104,104,255,0.5);\">CD</span> <span style=\"background-color:rgba(104,104,255,0.5);\">##C</span> <span style=\"background-color:rgba(104,104,255,0.5);\">)</span> <span style=\"background-color:rgba(104,104,255,0.5);\">would</span> <span style=\"background-color:rgba(104,104,255,0.5);\">be</span> <span style=\"background-color:rgba(104,104,255,0.5);\">rushing</span> <span style=\"background-color:rgba(104,104,255,0.5);\">over</span> <span style=\"background-color:rgba(104,104,255,0.5);\">at</span> <span style=\"background-color:rgba(104,104,255,0.5);\">least</span> <span style=\"background-color:rgba(104,104,255,0.5);\">an</span> <span style=\"background-color:rgba(104,104,255,0.5);\">equal</span> <span style=\"background-color:rgba(104,104,255,0.5);\">,</span> <span style=\"background-color:rgba(104,104,255,0.5);\">or</span> <span style=\"background-color:rgba(104,104,255,0.5);\">better</span> <span style=\"background-color:rgba(104,104,255,0.5);\">yet</span> <span style=\"background-color:rgba(104,104,255,0.5);\">much</span> <span style=\"background-color:rgba(104,104,255,0.5);\">greater</span> <span style=\"background-color:rgba(104,104,255,0.5);\">,</span> <span style=\"background-color:rgba(104,104,255,0.5);\">number</span> <span style=\"background-color:rgba(104,104,255,0.5);\">of</span> <span style=\"background-color:rgba(104,104,255,0.5);\">testing</span> <span style=\"background-color:rgba(104,104,255,0.5);\">kits</span> <span style=\"background-color:rgba(104,104,255,0.5);\">to</span> <span style=\"background-color:rgba(104,104,255,0.5);\">the</span> <span style=\"background-color:rgba(104,104,255,0.5);\">Golden</span> <span style=\"background-color:rgba(104,104,255,0.5);\">State</span> <span style=\"background-color:rgba(104,104,255,0.5);\">for</span> <span style=\"background-color:rgba(104,104,255,0.5);\">proper</span> <span style=\"background-color:rgba(104,104,255,0.5);\">pan</span> <span style=\"background-color:rgba(104,104,255,0.5);\">##de</span> <span style=\"background-color:rgba(104,104,255,0.5);\">##mic</span> <span style=\"background-color:rgba(104,104,255,0.5);\">prevention</span> <span style=\"background-color:rgba(255,255,255,0);\">.</span> <span style=\"background-color:rgba(104,104,255,1);\">But</span> <span style=\"background-color:rgba(104,104,255,0.5);\">the</span> <span style=\"background-color:rgba(104,104,255,0.5);\">reality</span> <span style=\"background-color:rgba(104,104,255,0.5);\">of</span> <span style=\"background-color:rgba(104,104,255,0.5);\">the</span> <span style=\"background-color:rgba(104,104,255,0.5);\">situation</span> <span style=\"background-color:rgba(104,104,255,0.5);\">is</span> <span style=\"background-color:rgba(104,104,255,0.5);\">that</span> <span style=\"background-color:rgba(104,104,255,0.5);\">California</span> <span style=\"background-color:rgba(104,104,255,0.5);\">currently</span> <span style=\"background-color:rgba(104,104,255,0.5);\">has</span> <span style=\"background-color:rgba(104,104,255,0.5);\">a</span> <span style=\"background-color:rgba(104,104,255,0.5);\">mere</span> <span style=\"background-color:rgba(104,104,255,0.5);\">few</span> <span style=\"background-color:rgba(104,104,255,0.5);\">hundred</span> <span style=\"background-color:rgba(104,104,255,0.5);\">co</span> <span style=\"background-color:rgba(104,104,255,0.5);\">##rona</span> <span style=\"background-color:rgba(104,104,255,0.5);\">##virus</span> <span style=\"background-color:rgba(104,104,255,0.5);\">testing</span> <span style=\"background-color:rgba(104,104,255,0.5);\">kits</span> <span style=\"background-color:rgba(104,104,255,0.5);\">in</span> <span style=\"background-color:rgba(104,104,255,0.5);\">its</span> <span style=\"background-color:rgba(104,104,255,0.5);\">possession</span> <span style=\"background-color:rgba(104,104,255,0.5);\">,</span> <span style=\"background-color:rgba(104,104,255,0.5);\">a</span> <span style=\"background-color:rgba(104,104,255,0.5);\">##ff</span> <span style=\"background-color:rgba(104,104,255,0.5);\">##ir</span> <span style=\"background-color:rgba(104,104,255,0.5);\">##ming</span> <span style=\"background-color:rgba(104,104,255,0.5);\">what</span> <span style=\"background-color:rgba(104,104,255,0.5);\">the</span> <span style=\"background-color:rgba(104,104,255,0.5);\">Health</span> <span style=\"background-color:rgba(104,104,255,0.5);\">Ranger</span> <span style=\"background-color:rgba(104,104,255,0.5);\">has</span> <span style=\"background-color:rgba(104,104,255,0.5);\">been</span> <span style=\"background-color:rgba(104,104,255,0.5);\">saying</span> <span style=\"background-color:rgba(104,104,255,0.5);\">about</span> <span style=\"background-color:rgba(104,104,255,0.5);\">the</span> <span style=\"background-color:rgba(104,104,255,0.5);\">federal</span> <span style=\"background-color:rgba(104,104,255,0.5);\">government</span> <span style=\"background-color:rgba(104,104,255,0.5);\">’</span> <span style=\"background-color:rgba(104,104,255,0.5);\">s</span> <span style=\"background-color:rgba(104,104,255,0.5);\">total</span> <span style=\"background-color:rgba(104,104,255,0.5);\">mi</span> <span style=\"background-color:rgba(104,104,255,0.5);\">##sman</span> <span style=\"background-color:rgba(104,104,255,0.5);\">##age</span> <span style=\"background-color:rgba(104,104,255,0.5);\">##ment</span> <span style=\"background-color:rgba(104,104,255,0.5);\">of</span> <span style=\"background-color:rgba(104,104,255,0.5);\">this</span> <span style=\"background-color:rgba(104,104,255,0.5);\">increasingly</span> <span style=\"background-color:rgba(104,104,255,0.5);\">dire</span> <span style=\"background-color:rgba(104,104,255,0.5);\">crisis</span> <span style=\"background-color:rgba(255,255,255,0);\">.</span>"
      ],
      "text/plain": [
       "<IPython.core.display.HTML object>"
      ]
     },
     "metadata": {},
     "output_type": "display_data"
    },
    {
     "data": {
      "text/html": [
       "<span style=\"background-color:rgba(104,104,255,1);\">This</span> <span style=\"background-color:rgba(104,104,255,0.5);\">lack</span> <span style=\"background-color:rgba(104,104,255,0.5);\">of</span> <span style=\"background-color:rgba(104,104,255,0.5);\">testing</span> <span style=\"background-color:rgba(104,104,255,0.5);\">kits</span> <span style=\"background-color:rgba(104,104,255,0.5);\">suggests</span> <span style=\"background-color:rgba(104,104,255,0.5);\">that</span> <span style=\"background-color:rgba(104,104,255,0.5);\">there</span> <span style=\"background-color:rgba(104,104,255,0.5);\">are</span> <span style=\"background-color:rgba(104,104,255,0.5);\">likely</span> <span style=\"background-color:rgba(104,104,255,0.5);\">many</span> <span style=\"background-color:rgba(104,104,255,0.5);\">more</span> <span style=\"background-color:rgba(104,104,255,0.5);\">cases</span> <span style=\"background-color:rgba(104,104,255,0.5);\">of</span> <span style=\"background-color:rgba(104,104,255,0.5);\">the</span> <span style=\"background-color:rgba(104,104,255,0.5);\">Wu</span> <span style=\"background-color:rgba(104,104,255,0.5);\">##han</span> <span style=\"background-color:rgba(104,104,255,0.5);\">co</span> <span style=\"background-color:rgba(104,104,255,0.5);\">##rona</span> <span style=\"background-color:rgba(104,104,255,0.5);\">##virus</span> <span style=\"background-color:rgba(104,104,255,0.5);\">(</span> <span style=\"background-color:rgba(104,104,255,0.5);\">Co</span> <span style=\"background-color:rgba(104,104,255,0.5);\">##V</span> <span style=\"background-color:rgba(104,104,255,0.5);\">##id</span> <span style=\"background-color:rgba(104,104,255,0.5);\">-</span> <span style=\"background-color:rgba(104,104,255,0.5);\">19</span> <span style=\"background-color:rgba(104,104,255,0.5);\">)</span> <span style=\"background-color:rgba(104,104,255,0.5);\">than</span> <span style=\"background-color:rgba(104,104,255,0.5);\">what</span> <span style=\"background-color:rgba(104,104,255,0.5);\">the</span> <span style=\"background-color:rgba(104,104,255,0.5);\">Trump</span> <span style=\"background-color:rgba(104,104,255,0.5);\">administration</span> <span style=\"background-color:rgba(104,104,255,0.5);\">is</span> <span style=\"background-color:rgba(104,104,255,0.5);\">claiming</span> <span style=\"background-color:rgba(104,104,255,0.5);\">because</span> <span style=\"background-color:rgba(104,104,255,0.5);\">the</span> <span style=\"background-color:rgba(104,104,255,0.5);\">vast</span> <span style=\"background-color:rgba(104,104,255,0.5);\">majority</span> <span style=\"background-color:rgba(104,104,255,0.5);\">of</span> <span style=\"background-color:rgba(104,104,255,0.5);\">people</span> <span style=\"background-color:rgba(104,104,255,0.5);\">who</span> <span style=\"background-color:rgba(104,104,255,0.5);\">have</span> <span style=\"background-color:rgba(104,104,255,0.5);\">it</span> <span style=\"background-color:rgba(104,104,255,0.5);\">,</span> <span style=\"background-color:rgba(104,104,255,0.5);\">and</span> <span style=\"background-color:rgba(104,104,255,0.5);\">who</span> <span style=\"background-color:rgba(104,104,255,0.5);\">are</span> <span style=\"background-color:rgba(104,104,255,0.5);\">likely</span> <span style=\"background-color:rgba(104,104,255,0.5);\">now</span> <span style=\"background-color:rgba(104,104,255,0.5);\">passing</span> <span style=\"background-color:rgba(104,104,255,0.5);\">it</span> <span style=\"background-color:rgba(104,104,255,0.5);\">on</span> <span style=\"background-color:rgba(104,104,255,0.5);\">to</span> <span style=\"background-color:rgba(104,104,255,0.5);\">others</span> <span style=\"background-color:rgba(104,104,255,0.5);\">,</span> <span style=\"background-color:rgba(104,104,255,0.5);\">have</span> <span style=\"background-color:rgba(104,104,255,0.5);\">never</span> <span style=\"background-color:rgba(104,104,255,0.5);\">been</span> <span style=\"background-color:rgba(104,104,255,0.5);\">tested</span> <span style=\"background-color:rgba(255,255,255,0);\">.</span> <span style=\"background-color:rgba(255,255,255,0);\">Before</span> <span style=\"background-color:rgba(255,255,255,0);\">you</span> <span style=\"background-color:rgba(104,104,255,0.5);\">know</span> <span style=\"background-color:rgba(104,104,255,0.5);\">it</span> <span style=\"background-color:rgba(255,255,255,0);\">,</span> <span style=\"background-color:rgba(104,104,255,1);\">in</span> <span style=\"background-color:rgba(104,104,255,0.5);\">other</span> <span style=\"background-color:rgba(104,104,255,0.5);\">words</span> <span style=\"background-color:rgba(104,104,255,0.5);\">,</span> <span style=\"background-color:rgba(104,104,255,0.5);\">thousands</span> <span style=\"background-color:rgba(104,104,255,0.5);\">or</span> <span style=\"background-color:rgba(104,104,255,0.5);\">perhaps</span> <span style=\"background-color:rgba(104,104,255,0.5);\">millions</span> <span style=\"background-color:rgba(104,104,255,0.5);\">of</span> <span style=\"background-color:rgba(104,104,255,0.5);\">people</span> <span style=\"background-color:rgba(104,104,255,0.5);\">will</span> <span style=\"background-color:rgba(104,104,255,0.5);\">end</span> <span style=\"background-color:rgba(104,104,255,0.5);\">up</span> <span style=\"background-color:rgba(104,104,255,0.5);\">contracting</span> <span style=\"background-color:rgba(104,104,255,0.5);\">the</span> <span style=\"background-color:rgba(104,104,255,0.5);\">disease</span> <span style=\"background-color:rgba(104,104,255,0.5);\">–</span> <span style=\"background-color:rgba(104,104,255,0.5);\">if</span> <span style=\"background-color:rgba(104,104,255,0.5);\">they</span> <span style=\"background-color:rgba(104,104,255,0.5);\">haven</span> <span style=\"background-color:rgba(104,104,255,0.5);\">’</span> <span style=\"background-color:rgba(104,104,255,0.5);\">t</span> <span style=\"background-color:rgba(104,104,255,0.5);\">already</span> <span style=\"background-color:rgba(255,255,255,0);\">–</span> <span style=\"background-color:rgba(255,255,255,0);\">and</span> <span style=\"background-color:rgba(104,104,255,1);\">society</span> <span style=\"background-color:rgba(104,104,255,0.5);\">will</span> <span style=\"background-color:rgba(104,104,255,0.5);\">be</span> <span style=\"background-color:rgba(104,104,255,0.5);\">none</span> <span style=\"background-color:rgba(104,104,255,0.5);\">the</span> <span style=\"background-color:rgba(104,104,255,0.5);\">wise</span> <span style=\"background-color:rgba(104,104,255,0.5);\">##r</span> <span style=\"background-color:rgba(255,255,255,0);\">until</span> <span style=\"background-color:rgba(104,104,255,1);\">it</span> <span style=\"background-color:rgba(104,104,255,0.5);\">’</span> <span style=\"background-color:rgba(104,104,255,0.5);\">s</span> <span style=\"background-color:rgba(104,104,255,0.5);\">already</span> <span style=\"background-color:rgba(104,104,255,0.5);\">too</span> <span style=\"background-color:rgba(104,104,255,0.5);\">late</span> <span style=\"background-color:rgba(255,255,255,0);\">.</span>"
      ],
      "text/plain": [
       "<IPython.core.display.HTML object>"
      ]
     },
     "metadata": {},
     "output_type": "display_data"
    },
    {
     "data": {
      "text/html": [
       "<span style=\"background-color:rgba(104,104,255,1);\">The</span> <span style=\"background-color:rgba(104,104,255,0.5);\">federal</span> <span style=\"background-color:rgba(104,104,255,0.5);\">government</span> <span style=\"background-color:rgba(104,104,255,0.5);\">has</span> <span style=\"background-color:rgba(104,104,255,0.5);\">also</span> <span style=\"background-color:rgba(104,104,255,0.5);\">failed</span> <span style=\"background-color:rgba(104,104,255,0.5);\">to</span> <span style=\"background-color:rgba(104,104,255,0.5);\">set</span> <span style=\"background-color:rgba(104,104,255,0.5);\">accurate</span> <span style=\"background-color:rgba(104,104,255,0.5);\">criteria</span> <span style=\"background-color:rgba(104,104,255,0.5);\">for</span> <span style=\"background-color:rgba(104,104,255,0.5);\">identifying</span> <span style=\"background-color:rgba(104,104,255,0.5);\">potential</span> <span style=\"background-color:rgba(104,104,255,0.5);\">Wu</span> <span style=\"background-color:rgba(104,104,255,0.5);\">##han</span> <span style=\"background-color:rgba(104,104,255,0.5);\">co</span> <span style=\"background-color:rgba(104,104,255,0.5);\">##rona</span> <span style=\"background-color:rgba(104,104,255,0.5);\">##virus</span> <span style=\"background-color:rgba(104,104,255,0.5);\">(</span> <span style=\"background-color:rgba(104,104,255,0.5);\">Co</span> <span style=\"background-color:rgba(104,104,255,0.5);\">##V</span> <span style=\"background-color:rgba(104,104,255,0.5);\">##id</span> <span style=\"background-color:rgba(104,104,255,0.5);\">-</span> <span style=\"background-color:rgba(104,104,255,0.5);\">19</span> <span style=\"background-color:rgba(104,104,255,0.5);\">)</span> <span style=\"background-color:rgba(104,104,255,0.5);\">patients</span> <span style=\"background-color:rgba(104,104,255,0.5);\">that</span> <span style=\"background-color:rgba(104,104,255,0.5);\">actually</span> <span style=\"background-color:rgba(104,104,255,0.5);\">qualify</span> <span style=\"background-color:rgba(104,104,255,0.5);\">for</span> <span style=\"background-color:rgba(104,104,255,0.5);\">its</span> <span style=\"background-color:rgba(104,104,255,0.5);\">official</span> <span style=\"background-color:rgba(104,104,255,0.5);\">testing</span> <span style=\"background-color:rgba(104,104,255,0.5);\">protocols</span> <span style=\"background-color:rgba(255,255,255,0);\">.</span>"
      ],
      "text/plain": [
       "<IPython.core.display.HTML object>"
      ]
     },
     "metadata": {},
     "output_type": "display_data"
    },
    {
     "data": {
      "text/html": [
       "<span style=\"background-color:rgba(123,255,108,1);\">Doctors</span> <span style=\"background-color:rgba(123,255,108,0.5);\">at</span> <span style=\"background-color:rgba(123,255,108,0.5);\">the</span> <span style=\"background-color:rgba(123,255,108,0.5);\">University</span> <span style=\"background-color:rgba(123,255,108,0.5);\">of</span> <span style=\"background-color:rgba(123,255,108,0.5);\">California</span> <span style=\"background-color:rgba(123,255,108,0.5);\">,</span> <span style=\"background-color:rgba(123,255,108,0.5);\">Davis</span> <span style=\"background-color:rgba(123,255,108,0.5);\">Medical</span> <span style=\"background-color:rgba(123,255,108,0.5);\">Center</span> <span style=\"background-color:rgba(123,255,108,0.5);\">,</span> <span style=\"background-color:rgba(123,255,108,0.5);\">as</span> <span style=\"background-color:rgba(123,255,108,0.5);\">one</span> <span style=\"background-color:rgba(123,255,108,0.5);\">example</span> <span style=\"background-color:rgba(123,255,108,0.5);\">,</span> <span style=\"background-color:rgba(123,255,108,0.5);\">say</span> <span style=\"background-color:rgba(123,255,108,0.5);\">that</span> <span style=\"background-color:rgba(123,255,108,0.5);\">a</span> <span style=\"background-color:rgba(123,255,108,0.5);\">Northern</span> <span style=\"background-color:rgba(123,255,108,0.5);\">California</span> <span style=\"background-color:rgba(123,255,108,0.5);\">woman</span> <span style=\"background-color:rgba(123,255,108,0.5);\">was</span> <span style=\"background-color:rgba(123,255,108,0.5);\">recently</span> <span style=\"background-color:rgba(123,255,108,0.5);\">rushed</span> <span style=\"background-color:rgba(123,255,108,0.5);\">to</span> <span style=\"background-color:rgba(123,255,108,0.5);\">the</span> <span style=\"background-color:rgba(123,255,108,0.5);\">hospital</span> <span style=\"background-color:rgba(123,255,108,0.5);\">with</span> <span style=\"background-color:rgba(123,255,108,0.5);\">what</span> <span style=\"background-color:rgba(123,255,108,0.5);\">appeared</span> <span style=\"background-color:rgba(123,255,108,0.5);\">to</span> <span style=\"background-color:rgba(123,255,108,0.5);\">be</span> <span style=\"background-color:rgba(123,255,108,0.5);\">the</span> <span style=\"background-color:rgba(123,255,108,0.5);\">Wu</span> <span style=\"background-color:rgba(123,255,108,0.5);\">##han</span> <span style=\"background-color:rgba(123,255,108,0.5);\">co</span> <span style=\"background-color:rgba(123,255,108,0.5);\">##rona</span> <span style=\"background-color:rgba(123,255,108,0.5);\">##virus</span> <span style=\"background-color:rgba(123,255,108,0.5);\">(</span> <span style=\"background-color:rgba(123,255,108,0.5);\">Co</span> <span style=\"background-color:rgba(123,255,108,0.5);\">##V</span> <span style=\"background-color:rgba(123,255,108,0.5);\">##id</span> <span style=\"background-color:rgba(123,255,108,0.5);\">-</span> <span style=\"background-color:rgba(123,255,108,0.5);\">19</span> <span style=\"background-color:rgba(123,255,108,0.5);\">)</span> <span style=\"background-color:rgba(255,255,255,0);\">.</span> <span style=\"background-color:rgba(123,255,108,1);\">Hospital</span> <span style=\"background-color:rgba(123,255,108,0.5);\">administrators</span> <span style=\"background-color:rgba(123,255,108,0.5);\">immediately</span> <span style=\"background-color:rgba(123,255,108,0.5);\">requested</span> <span style=\"background-color:rgba(123,255,108,0.5);\">testing</span> <span style=\"background-color:rgba(123,255,108,0.5);\">from</span> <span style=\"background-color:rgba(123,255,108,0.5);\">the</span> <span style=\"background-color:rgba(123,255,108,0.5);\">CD</span> <span style=\"background-color:rgba(123,255,108,0.5);\">##C</span> <span style=\"background-color:rgba(255,255,255,0);\">,</span> <span style=\"background-color:rgba(123,255,108,1);\">which</span> <span style=\"background-color:rgba(123,255,108,0.5);\">refused</span> <span style=\"background-color:rgba(123,255,108,0.5);\">simply</span> <span style=\"background-color:rgba(123,255,108,0.5);\">on</span> <span style=\"background-color:rgba(123,255,108,0.5);\">the</span> <span style=\"background-color:rgba(123,255,108,0.5);\">basis</span> <span style=\"background-color:rgba(123,255,108,0.5);\">that</span> <span style=\"background-color:rgba(123,255,108,0.5);\">the</span> <span style=\"background-color:rgba(123,255,108,0.5);\">woman</span> <span style=\"background-color:rgba(123,255,108,0.5);\">had</span> <span style=\"background-color:rgba(123,255,108,0.5);\">not</span> <span style=\"background-color:rgba(123,255,108,0.5);\">traveled</span> <span style=\"background-color:rgba(123,255,108,0.5);\">to</span> <span style=\"background-color:rgba(123,255,108,0.5);\">China</span> <span style=\"background-color:rgba(123,255,108,0.5);\">anytime</span> <span style=\"background-color:rgba(123,255,108,0.5);\">recently</span> <span style=\"background-color:rgba(123,255,108,0.5);\">and</span> <span style=\"background-color:rgba(123,255,108,0.5);\">had</span> <span style=\"background-color:rgba(123,255,108,0.5);\">not</span> <span style=\"background-color:rgba(123,255,108,0.5);\">been</span> <span style=\"background-color:rgba(123,255,108,0.5);\">in</span> <span style=\"background-color:rgba(123,255,108,0.5);\">contact</span> <span style=\"background-color:rgba(123,255,108,0.5);\">with</span> <span style=\"background-color:rgba(123,255,108,0.5);\">anyone</span> <span style=\"background-color:rgba(123,255,108,0.5);\">who</span> <span style=\"background-color:rgba(123,255,108,0.5);\">was</span> <span style=\"background-color:rgba(123,255,108,0.5);\">known</span> <span style=\"background-color:rgba(123,255,108,0.5);\">to</span> <span style=\"background-color:rgba(123,255,108,0.5);\">be</span> <span style=\"background-color:rgba(123,255,108,0.5);\">infected</span> <span style=\"background-color:rgba(123,255,108,0.5);\">with</span> <span style=\"background-color:rgba(123,255,108,0.5);\">the</span> <span style=\"background-color:rgba(123,255,108,0.5);\">novel</span> <span style=\"background-color:rgba(123,255,108,0.5);\">virus</span> <span style=\"background-color:rgba(255,255,255,0);\">.</span>"
      ],
      "text/plain": [
       "<IPython.core.display.HTML object>"
      ]
     },
     "metadata": {},
     "output_type": "display_data"
    },
    {
     "data": {
      "text/html": [
       "<span style=\"background-color:rgba(104,104,255,1);\">Health</span> <span style=\"background-color:rgba(104,104,255,0.5);\">officials</span> <span style=\"background-color:rgba(104,104,255,0.5);\">in</span> <span style=\"background-color:rgba(104,104,255,0.5);\">California</span> <span style=\"background-color:rgba(104,104,255,0.5);\">were</span> <span style=\"background-color:rgba(104,104,255,0.5);\">thus</span> <span style=\"background-color:rgba(104,104,255,0.5);\">left</span> <span style=\"background-color:rgba(104,104,255,0.5);\">to</span> <span style=\"background-color:rgba(104,104,255,0.5);\">themselves</span> <span style=\"background-color:rgba(104,104,255,0.5);\">to</span> <span style=\"background-color:rgba(104,104,255,0.5);\">try</span> <span style=\"background-color:rgba(104,104,255,0.5);\">to</span> <span style=\"background-color:rgba(104,104,255,0.5);\">find</span> <span style=\"background-color:rgba(104,104,255,0.5);\">out</span> <span style=\"background-color:rgba(104,104,255,0.5);\">if</span> <span style=\"background-color:rgba(104,104,255,0.5);\">the</span> <span style=\"background-color:rgba(104,104,255,0.5);\">woman</span> <span style=\"background-color:rgba(104,104,255,0.5);\">had</span> <span style=\"background-color:rgba(104,104,255,0.5);\">,</span> <span style=\"background-color:rgba(104,104,255,0.5);\">in</span> <span style=\"background-color:rgba(104,104,255,0.5);\">fact</span> <span style=\"background-color:rgba(104,104,255,0.5);\">,</span> <span style=\"background-color:rgba(104,104,255,0.5);\">been</span> <span style=\"background-color:rgba(104,104,255,0.5);\">in</span> <span style=\"background-color:rgba(104,104,255,0.5);\">contact</span> <span style=\"background-color:rgba(104,104,255,0.5);\">with</span> <span style=\"background-color:rgba(104,104,255,0.5);\">someone</span> <span style=\"background-color:rgba(104,104,255,0.5);\">who</span> <span style=\"background-color:rgba(104,104,255,0.5);\">may</span> <span style=\"background-color:rgba(104,104,255,0.5);\">have</span> <span style=\"background-color:rgba(104,104,255,0.5);\">been</span> <span style=\"background-color:rgba(104,104,255,0.5);\">exposed</span> <span style=\"background-color:rgba(104,104,255,0.5);\">to</span> <span style=\"background-color:rgba(104,104,255,0.5);\">the</span> <span style=\"background-color:rgba(104,104,255,0.5);\">Wu</span> <span style=\"background-color:rgba(104,104,255,0.5);\">##han</span> <span style=\"background-color:rgba(104,104,255,0.5);\">co</span> <span style=\"background-color:rgba(104,104,255,0.5);\">##rona</span> <span style=\"background-color:rgba(104,104,255,0.5);\">##virus</span> <span style=\"background-color:rgba(104,104,255,0.5);\">(</span> <span style=\"background-color:rgba(104,104,255,0.5);\">Co</span> <span style=\"background-color:rgba(104,104,255,0.5);\">##V</span> <span style=\"background-color:rgba(104,104,255,0.5);\">##id</span> <span style=\"background-color:rgba(104,104,255,0.5);\">-</span> <span style=\"background-color:rgba(104,104,255,0.5);\">19</span> <span style=\"background-color:rgba(104,104,255,0.5);\">)</span> <span style=\"background-color:rgba(104,104,255,0.5);\">and</span> <span style=\"background-color:rgba(104,104,255,0.5);\">possibly</span> <span style=\"background-color:rgba(104,104,255,0.5);\">contracted</span> <span style=\"background-color:rgba(104,104,255,0.5);\">it</span> <span style=\"background-color:rgba(104,104,255,0.5);\">from</span> <span style=\"background-color:rgba(104,104,255,0.5);\">them</span> <span style=\"background-color:rgba(255,255,255,0);\">.</span>"
      ],
      "text/plain": [
       "<IPython.core.display.HTML object>"
      ]
     },
     "metadata": {},
     "output_type": "display_data"
    },
    {
     "data": {
      "text/html": [
       "<span style=\"background-color:rgba(104,104,255,1);\">“</span> <span style=\"background-color:rgba(104,104,255,0.5);\">The</span> <span style=\"background-color:rgba(104,104,255,0.5);\">case</span> <span style=\"background-color:rgba(104,104,255,0.5);\">has</span> <span style=\"background-color:rgba(104,104,255,0.5);\">raised</span> <span style=\"background-color:rgba(104,104,255,0.5);\">difficult</span> <span style=\"background-color:rgba(104,104,255,0.5);\">questions</span> <span style=\"background-color:rgba(104,104,255,0.5);\">about</span> <span style=\"background-color:rgba(104,104,255,0.5);\">whom</span> <span style=\"background-color:rgba(104,104,255,0.5);\">to</span> <span style=\"background-color:rgba(104,104,255,0.5);\">test</span> <span style=\"background-color:rgba(104,104,255,0.5);\">and</span> <span style=\"background-color:rgba(104,104,255,0.5);\">whether</span> <span style=\"background-color:rgba(104,104,255,0.5);\">the</span> <span style=\"background-color:rgba(104,104,255,0.5);\">nation</span> <span style=\"background-color:rgba(104,104,255,0.5);\">is</span> <span style=\"background-color:rgba(104,104,255,0.5);\">prepared</span> <span style=\"background-color:rgba(104,104,255,0.5);\">to</span> <span style=\"background-color:rgba(104,104,255,0.5);\">keep</span> <span style=\"background-color:rgba(104,104,255,0.5);\">the</span> <span style=\"background-color:rgba(104,104,255,0.5);\">virus</span> <span style=\"background-color:rgba(104,104,255,0.5);\">under</span> <span style=\"background-color:rgba(104,104,255,0.5);\">control</span> <span style=\"background-color:rgba(104,104,255,0.5);\">,</span> <span style=\"background-color:rgba(104,104,255,0.5);\">”</span> <span style=\"background-color:rgba(104,104,255,0.5);\">reported</span> <span style=\"background-color:rgba(104,104,255,0.5);\">The</span> <span style=\"background-color:rgba(104,104,255,0.5);\">New</span> <span style=\"background-color:rgba(104,104,255,0.5);\">York</span> <span style=\"background-color:rgba(104,104,255,0.5);\">Times</span> <span style=\"background-color:rgba(255,255,255,0);\">.</span> <span style=\"background-color:rgba(104,104,255,0.5);\">“</span> <span style=\"background-color:rgba(104,104,255,0.5);\">The</span> <span style=\"background-color:rgba(104,104,255,0.5);\">California</span> <span style=\"background-color:rgba(104,104,255,0.5);\">woman</span> <span style=\"background-color:rgba(104,104,255,0.5);\">’</span> <span style=\"background-color:rgba(104,104,255,0.5);\">s</span> <span style=\"background-color:rgba(104,104,255,0.5);\">case</span> <span style=\"background-color:rgba(104,104,255,0.5);\">may</span> <span style=\"background-color:rgba(104,104,255,0.5);\">also</span> <span style=\"background-color:rgba(104,104,255,0.5);\">offer</span> <span style=\"background-color:rgba(104,104,255,0.5);\">the</span> <span style=\"background-color:rgba(104,104,255,0.5);\">first</span> <span style=\"background-color:rgba(104,104,255,0.5);\">indication</span> <span style=\"background-color:rgba(104,104,255,0.5);\">that</span> <span style=\"background-color:rgba(104,104,255,0.5);\">the</span> <span style=\"background-color:rgba(104,104,255,0.5);\">virus</span> <span style=\"background-color:rgba(104,104,255,0.5);\">has</span> <span style=\"background-color:rgba(104,104,255,0.5);\">spread</span> <span style=\"background-color:rgba(104,104,255,0.5);\">beyond</span> <span style=\"background-color:rgba(104,104,255,0.5);\">Americans</span> <span style=\"background-color:rgba(104,104,255,0.5);\">who</span> <span style=\"background-color:rgba(104,104,255,0.5);\">traveled</span> <span style=\"background-color:rgba(104,104,255,0.5);\">outside</span> <span style=\"background-color:rgba(104,104,255,0.5);\">the</span> <span style=\"background-color:rgba(104,104,255,0.5);\">country</span> <span style=\"background-color:rgba(104,104,255,0.5);\">,</span> <span style=\"background-color:rgba(104,104,255,0.5);\">or</span> <span style=\"background-color:rgba(104,104,255,0.5);\">had</span> <span style=\"background-color:rgba(104,104,255,0.5);\">contact</span> <span style=\"background-color:rgba(104,104,255,0.5);\">with</span> <span style=\"background-color:rgba(104,104,255,0.5);\">someone</span> <span style=\"background-color:rgba(104,104,255,0.5);\">who</span> <span style=\"background-color:rgba(104,104,255,0.5);\">had</span> <span style=\"background-color:rgba(255,255,255,0);\">.</span> <span style=\"background-color:rgba(255,255,255,0);\">”</span>"
      ],
      "text/plain": [
       "<IPython.core.display.HTML object>"
      ]
     },
     "metadata": {},
     "output_type": "display_data"
    },
    {
     "data": {
      "text/html": [
       "<span style=\"background-color:rgba(255,114,104,1);\">Listen</span> <span style=\"background-color:rgba(255,114,104,0.5);\">below</span> <span style=\"background-color:rgba(255,114,104,0.5);\">as</span> <span style=\"background-color:rgba(255,114,104,0.5);\">Mike</span> <span style=\"background-color:rgba(255,114,104,0.5);\">Adams</span> <span style=\"background-color:rgba(255,114,104,0.5);\">,</span> <span style=\"background-color:rgba(255,114,104,0.5);\">the</span> <span style=\"background-color:rgba(255,114,104,0.5);\">Health</span> <span style=\"background-color:rgba(255,114,104,0.5);\">Ranger</span> <span style=\"background-color:rgba(255,114,104,0.5);\">,</span> <span style=\"background-color:rgba(255,114,104,0.5);\">talks</span> <span style=\"background-color:rgba(255,114,104,0.5);\">about</span> <span style=\"background-color:rgba(255,114,104,0.5);\">how</span> <span style=\"background-color:rgba(255,114,104,0.5);\">a</span> <span style=\"background-color:rgba(255,114,104,0.5);\">similar</span> <span style=\"background-color:rgba(255,114,104,0.5);\">situation</span> <span style=\"background-color:rgba(255,114,104,0.5);\">is</span> <span style=\"background-color:rgba(255,114,104,0.5);\">taking</span> <span style=\"background-color:rgba(255,114,104,0.5);\">place</span> <span style=\"background-color:rgba(255,114,104,0.5);\">in</span> <span style=\"background-color:rgba(255,114,104,0.5);\">Washington</span> <span style=\"background-color:rgba(255,114,104,0.5);\">state</span> <span style=\"background-color:rgba(255,255,255,0);\">,</span> <span style=\"background-color:rgba(255,114,104,0.5);\">where</span> <span style=\"background-color:rgba(255,114,104,0.5);\">potentially</span> <span style=\"background-color:rgba(255,114,104,0.5);\">hundreds</span> <span style=\"background-color:rgba(255,114,104,0.5);\">of</span> <span style=\"background-color:rgba(255,114,104,0.5);\">co</span> <span style=\"background-color:rgba(255,114,104,0.5);\">##rona</span> <span style=\"background-color:rgba(255,114,104,0.5);\">##virus</span> <span style=\"background-color:rgba(255,114,104,0.5);\">-</span> <span style=\"background-color:rgba(255,114,104,0.5);\">infected</span> <span style=\"background-color:rgba(255,114,104,0.5);\">people</span> <span style=\"background-color:rgba(255,114,104,0.5);\">aren</span> <span style=\"background-color:rgba(255,114,104,0.5);\">’</span> <span style=\"background-color:rgba(255,114,104,0.5);\">t</span> <span style=\"background-color:rgba(255,114,104,0.5);\">being</span> <span style=\"background-color:rgba(255,114,104,0.5);\">tested</span> <span style=\"background-color:rgba(255,114,104,0.5);\">for</span> <span style=\"background-color:rgba(255,114,104,0.5);\">the</span> <span style=\"background-color:rgba(255,114,104,0.5);\">disease</span> <span style=\"background-color:rgba(255,255,255,0);\">:</span>"
      ],
      "text/plain": [
       "<IPython.core.display.HTML object>"
      ]
     },
     "metadata": {},
     "output_type": "display_data"
    },
    {
     "data": {
      "text/html": [
       "<span style=\"background-color:rgba(104,104,255,1);\">Resident</span> <span style=\"background-color:rgba(104,104,255,0.5);\">in</span> <span style=\"background-color:rgba(104,104,255,0.5);\">California</span> <span style=\"background-color:rgba(104,104,255,0.5);\">’</span> <span style=\"background-color:rgba(104,104,255,0.5);\">s</span> <span style=\"background-color:rgba(104,104,255,0.5);\">Sol</span> <span style=\"background-color:rgba(104,104,255,0.5);\">##ano</span> <span style=\"background-color:rgba(104,104,255,0.5);\">County</span> <span style=\"background-color:rgba(104,104,255,0.5);\">is</span> <span style=\"background-color:rgba(104,104,255,0.5);\">first</span> <span style=\"background-color:rgba(104,104,255,0.5);\">to</span> <span style=\"background-color:rgba(104,104,255,0.5);\">contract</span> <span style=\"background-color:rgba(104,104,255,0.5);\">co</span> <span style=\"background-color:rgba(104,104,255,0.5);\">##rona</span> <span style=\"background-color:rgba(104,104,255,0.5);\">##virus</span> <span style=\"background-color:rgba(104,104,255,0.5);\">from</span> <span style=\"background-color:rgba(104,104,255,0.5);\">unknown</span> <span style=\"background-color:rgba(104,104,255,0.5);\">source</span>"
      ],
      "text/plain": [
       "<IPython.core.display.HTML object>"
      ]
     },
     "metadata": {},
     "output_type": "display_data"
    },
    {
     "data": {
      "text/html": [
       "<span style=\"background-color:rgba(104,104,255,1);\">Some</span> <span style=\"background-color:rgba(104,104,255,0.5);\">might</span> <span style=\"background-color:rgba(104,104,255,0.5);\">say</span> <span style=\"background-color:rgba(104,104,255,0.5);\">that</span> <span style=\"background-color:rgba(104,104,255,0.5);\">the</span> <span style=\"background-color:rgba(104,104,255,0.5);\">CD</span> <span style=\"background-color:rgba(104,104,255,0.5);\">##C</span> <span style=\"background-color:rgba(104,104,255,0.5);\">is</span> <span style=\"background-color:rgba(104,104,255,0.5);\">justified</span> <span style=\"background-color:rgba(104,104,255,0.5);\">in</span> <span style=\"background-color:rgba(104,104,255,0.5);\">not</span> <span style=\"background-color:rgba(104,104,255,0.5);\">testing</span> <span style=\"background-color:rgba(104,104,255,0.5);\">people</span> <span style=\"background-color:rgba(104,104,255,0.5);\">who</span> <span style=\"background-color:rgba(104,104,255,0.5);\">don</span> <span style=\"background-color:rgba(104,104,255,0.5);\">’</span> <span style=\"background-color:rgba(104,104,255,0.5);\">t</span> <span style=\"background-color:rgba(104,104,255,0.5);\">meet</span> <span style=\"background-color:rgba(104,104,255,0.5);\">its</span> <span style=\"background-color:rgba(104,104,255,0.5);\">two</span> <span style=\"background-color:rgba(104,104,255,0.5);\">specific</span> <span style=\"background-color:rgba(104,104,255,0.5);\">criteria</span> <span style=\"background-color:rgba(255,255,255,0);\">.</span> <span style=\"background-color:rgba(104,104,255,1);\">But</span> <span style=\"background-color:rgba(104,104,255,0.5);\">what</span> <span style=\"background-color:rgba(104,104,255,0.5);\">about</span> <span style=\"background-color:rgba(104,104,255,0.5);\">the</span> <span style=\"background-color:rgba(104,104,255,0.5);\">new</span> <span style=\"background-color:rgba(104,104,255,0.5);\">case</span> <span style=\"background-color:rgba(104,104,255,0.5);\">of</span> <span style=\"background-color:rgba(104,104,255,0.5);\">the</span> <span style=\"background-color:rgba(104,104,255,0.5);\">Wu</span> <span style=\"background-color:rgba(104,104,255,0.5);\">##han</span> <span style=\"background-color:rgba(104,104,255,0.5);\">co</span> <span style=\"background-color:rgba(104,104,255,0.5);\">##rona</span> <span style=\"background-color:rgba(104,104,255,0.5);\">##virus</span> <span style=\"background-color:rgba(104,104,255,0.5);\">(</span> <span style=\"background-color:rgba(104,104,255,0.5);\">Co</span> <span style=\"background-color:rgba(104,104,255,0.5);\">##V</span> <span style=\"background-color:rgba(104,104,255,0.5);\">##id</span> <span style=\"background-color:rgba(104,104,255,0.5);\">-</span> <span style=\"background-color:rgba(104,104,255,0.5);\">19</span> <span style=\"background-color:rgba(104,104,255,0.5);\">)</span> <span style=\"background-color:rgba(104,104,255,0.5);\">that</span> <span style=\"background-color:rgba(104,104,255,0.5);\">recently</span> <span style=\"background-color:rgba(104,104,255,0.5);\">emerged</span> <span style=\"background-color:rgba(104,104,255,0.5);\">in</span> <span style=\"background-color:rgba(104,104,255,0.5);\">Sol</span> <span style=\"background-color:rgba(104,104,255,0.5);\">##ano</span> <span style=\"background-color:rgba(104,104,255,0.5);\">County</span> <span style=\"background-color:rgba(104,104,255,0.5);\">,</span> <span style=\"background-color:rgba(104,104,255,0.5);\">California</span> <span style=\"background-color:rgba(104,104,255,0.5);\">,</span> <span style=\"background-color:rgba(104,104,255,0.5);\">with</span> <span style=\"background-color:rgba(104,104,255,0.5);\">no</span> <span style=\"background-color:rgba(104,104,255,0.5);\">known</span> <span style=\"background-color:rgba(104,104,255,0.5);\">source</span> <span style=\"background-color:rgba(104,104,255,0.5);\">?</span>"
      ],
      "text/plain": [
       "<IPython.core.display.HTML object>"
      ]
     },
     "metadata": {},
     "output_type": "display_data"
    }
   ],
   "source": [
    "for i in range(30):\n",
    "    show(tokens, pred, i, colors)"
   ]
  },
  {
   "cell_type": "code",
   "execution_count": 29,
   "metadata": {},
   "outputs": [
    {
     "data": {
      "text/html": [
       "<span style=\"background-color:rgba(255,255,255,0);\">And</span> <span style=\"background-color:rgba(104,104,255,0.5);\">then</span> <span style=\"background-color:rgba(104,104,255,0.5);\">there</span> <span style=\"background-color:rgba(104,104,255,0.5);\">&#x27;</span> <span style=\"background-color:rgba(104,104,255,0.5);\">s</span> <span style=\"background-color:rgba(104,104,255,0.5);\">the</span> <span style=\"background-color:rgba(104,104,255,0.5);\">White</span> <span style=\"background-color:rgba(104,104,255,0.5);\">House</span> <span style=\"background-color:rgba(104,104,255,0.5);\">&#x27;</span> <span style=\"background-color:rgba(104,104,255,0.5);\">s</span> <span style=\"background-color:rgba(104,104,255,0.5);\">so</span> <span style=\"background-color:rgba(104,104,255,0.5);\">-</span> <span style=\"background-color:rgba(104,104,255,0.5);\">called</span> <span style=\"background-color:rgba(104,104,255,0.5);\">solution</span> <span style=\"background-color:rgba(104,104,255,0.5);\">to</span> <span style=\"background-color:rgba(104,104,255,0.5);\">the</span> <span style=\"background-color:rgba(104,104,255,0.5);\">c</span> <span style=\"background-color:rgba(104,104,255,0.5);\">##y</span> <span style=\"background-color:rgba(104,104,255,0.5);\">##bers</span> <span style=\"background-color:rgba(104,104,255,0.5);\">##ec</span> <span style=\"background-color:rgba(104,104,255,0.5);\">##urity</span> <span style=\"background-color:rgba(104,104,255,0.5);\">problem</span> <span style=\"background-color:rgba(104,104,255,0.5);\">,</span> <span style=\"background-color:rgba(104,104,255,1);\">which</span> <span style=\"background-color:rgba(104,104,255,0.5);\">they</span> <span style=\"background-color:rgba(104,104,255,0.5);\">unveiled</span> <span style=\"background-color:rgba(104,104,255,0.5);\">earlier</span> <span style=\"background-color:rgba(104,104,255,0.5);\">this</span> <span style=\"background-color:rgba(104,104,255,0.5);\">week</span> <span style=\"background-color:rgba(255,255,255,0);\">.</span> <span style=\"background-color:rgba(255,114,104,1);\">President</span> <span style=\"background-color:rgba(255,114,104,0.5);\">Obama</span> <span style=\"background-color:rgba(255,114,104,0.5);\">introduced</span> <span style=\"background-color:rgba(255,114,104,0.5);\">it</span> <span style=\"background-color:rgba(255,114,104,0.5);\">saying</span> <span style=\"background-color:rgba(255,114,104,0.5);\">we</span> <span style=\"background-color:rgba(255,114,104,0.5);\">had</span> <span style=\"background-color:rgba(255,114,104,0.5);\">to</span> <span style=\"background-color:rgba(255,114,104,0.5);\">do</span> <span style=\"background-color:rgba(255,114,104,0.5);\">something</span> <span style=\"background-color:rgba(255,114,104,0.5);\">about</span> <span style=\"background-color:rgba(255,114,104,0.5);\">incidents</span> <span style=\"background-color:rgba(255,114,104,0.5);\">like</span> <span style=\"background-color:rgba(255,114,104,0.5);\">the</span> <span style=\"background-color:rgba(255,114,104,0.5);\">headline</span> <span style=\"background-color:rgba(255,114,104,0.5);\">-</span> <span style=\"background-color:rgba(255,114,104,0.5);\">grabbing</span> <span style=\"background-color:rgba(255,114,104,0.5);\">Sony</span> <span style=\"background-color:rgba(255,114,104,0.5);\">ha</span> <span style=\"background-color:rgba(255,114,104,0.5);\">##ck</span> <span style=\"background-color:rgba(255,114,104,0.5);\">,</span> <span style=\"background-color:rgba(255,114,104,0.5);\">or</span> <span style=\"background-color:rgba(255,114,104,0.5);\">the</span> <span style=\"background-color:rgba(255,114,104,0.5);\">juvenile</span> <span style=\"background-color:rgba(255,114,104,0.5);\">hi</span> <span style=\"background-color:rgba(255,114,104,0.5);\">##jack</span> <span style=\"background-color:rgba(255,114,104,0.5);\">##ing</span> <span style=\"background-color:rgba(255,114,104,0.5);\">of</span> <span style=\"background-color:rgba(255,114,104,0.5);\">US</span> <span style=\"background-color:rgba(255,114,104,0.5);\">Central</span> <span style=\"background-color:rgba(255,114,104,0.5);\">Command</span> <span style=\"background-color:rgba(104,104,255,0.5);\">&#x27;</span> <span style=\"background-color:rgba(104,104,255,0.5);\">s</span> <span style=\"background-color:rgba(255,114,104,0.5);\">t</span> <span style=\"background-color:rgba(104,104,255,0.5);\">##wi</span> <span style=\"background-color:rgba(104,104,255,0.5);\">##tter</span> <span style=\"background-color:rgba(104,104,255,0.5);\">account</span> <span style=\"background-color:rgba(255,255,255,0);\">-</span> <span style=\"background-color:rgba(255,255,255,0);\">but</span> <span style=\"background-color:rgba(104,104,255,1);\">what</span> <span style=\"background-color:rgba(104,104,255,0.5);\">he</span> <span style=\"background-color:rgba(104,104,255,0.5);\">did</span> <span style=\"background-color:rgba(104,104,255,0.5);\">n</span> <span style=\"background-color:rgba(104,104,255,0.5);\">&#x27;</span> <span style=\"background-color:rgba(104,104,255,0.5);\">t</span> <span style=\"background-color:rgba(104,104,255,0.5);\">say</span> <span style=\"background-color:rgba(104,104,255,0.5);\">was</span> <span style=\"background-color:rgba(104,104,255,0.5);\">that</span> <span style=\"background-color:rgba(104,104,255,0.5);\">those</span> <span style=\"background-color:rgba(104,104,255,0.5);\">proposals</span> <span style=\"background-color:rgba(104,104,255,0.5);\">would</span> <span style=\"background-color:rgba(104,104,255,0.5);\">n</span> <span style=\"background-color:rgba(104,104,255,0.5);\">&#x27;</span> <span style=\"background-color:rgba(104,104,255,0.5);\">t</span> <span style=\"background-color:rgba(104,104,255,0.5);\">have</span> <span style=\"background-color:rgba(104,104,255,0.5);\">stopped</span> <span style=\"background-color:rgba(104,104,255,0.5);\">those</span> <span style=\"background-color:rgba(104,104,255,0.5);\">attacks</span> <span style=\"background-color:rgba(104,104,255,0.5);\">at</span> <span style=\"background-color:rgba(104,104,255,0.5);\">all</span> <span style=\"background-color:rgba(255,255,255,0);\">.</span>"
      ],
      "text/plain": [
       "<IPython.core.display.HTML object>"
      ]
     },
     "metadata": {},
     "output_type": "display_data"
    },
    {
     "data": {
      "text/html": [
       "<span style=\"background-color:rgba(104,104,255,1);\">Part</span> <span style=\"background-color:rgba(104,104,255,0.5);\">of</span> <span style=\"background-color:rgba(104,104,255,0.5);\">the</span> <span style=\"background-color:rgba(104,104,255,0.5);\">Obama</span> <span style=\"background-color:rgba(104,104,255,0.5);\">administration</span> <span style=\"background-color:rgba(104,104,255,0.5);\">&#x27;</span> <span style=\"background-color:rgba(104,104,255,0.5);\">s</span> <span style=\"background-color:rgba(104,104,255,0.5);\">proposal</span> <span style=\"background-color:rgba(104,104,255,0.5);\">would</span> <span style=\"background-color:rgba(104,104,255,0.5);\">dramatically</span> <span style=\"background-color:rgba(104,104,255,0.5);\">expand</span> <span style=\"background-color:rgba(104,104,255,0.5);\">the</span> <span style=\"background-color:rgba(104,104,255,0.5);\">Computer</span> <span style=\"background-color:rgba(104,104,255,0.5);\">Fr</span> <span style=\"background-color:rgba(104,104,255,0.5);\">##aud</span> <span style=\"background-color:rgba(104,104,255,0.5);\">and</span> <span style=\"background-color:rgba(104,104,255,0.5);\">Abu</span> <span style=\"background-color:rgba(104,104,255,0.5);\">##se</span> <span style=\"background-color:rgba(104,104,255,0.5);\">Act</span> <span style=\"background-color:rgba(104,104,255,0.5);\">,</span> <span style=\"background-color:rgba(104,104,255,0.5);\">the</span> <span style=\"background-color:rgba(104,104,255,0.5);\">of</span> <span style=\"background-color:rgba(104,104,255,0.5);\">##t</span> <span style=\"background-color:rgba(104,104,255,0.5);\">-</span> <span style=\"background-color:rgba(104,104,255,0.5);\">abused</span> <span style=\"background-color:rgba(104,104,255,0.5);\">and</span> <span style=\"background-color:rgba(104,104,255,0.5);\">notorious</span> <span style=\"background-color:rgba(104,104,255,0.5);\">statute</span> <span style=\"background-color:rgba(104,104,255,0.5);\">that</span> <span style=\"background-color:rgba(104,104,255,0.5);\">the</span> <span style=\"background-color:rgba(104,104,255,0.5);\">Justice</span> <span style=\"background-color:rgba(104,104,255,0.5);\">Department</span> <span style=\"background-color:rgba(104,104,255,0.5);\">used</span> <span style=\"background-color:rgba(104,104,255,0.5);\">to</span> <span style=\"background-color:rgba(104,104,255,0.5);\">threaten</span> <span style=\"background-color:rgba(104,104,255,0.5);\">the</span> <span style=\"background-color:rgba(104,104,255,0.5);\">late</span> <span style=\"background-color:rgba(104,104,255,0.5);\">Internet</span> <span style=\"background-color:rgba(104,104,255,0.5);\">activist</span> <span style=\"background-color:rgba(104,104,255,0.5);\">Aaron</span> <span style=\"background-color:rgba(104,104,255,0.5);\">S</span> <span style=\"background-color:rgba(104,104,255,0.5);\">##wart</span> <span style=\"background-color:rgba(104,104,255,0.5);\">##z</span> <span style=\"background-color:rgba(104,104,255,0.5);\">with</span> <span style=\"background-color:rgba(104,104,255,0.5);\">35</span> <span style=\"background-color:rgba(104,104,255,0.5);\">years</span> <span style=\"background-color:rgba(104,104,255,0.5);\">in</span> <span style=\"background-color:rgba(104,104,255,0.5);\">jail</span> <span style=\"background-color:rgba(255,255,255,0);\">.</span> <span style=\"background-color:rgba(123,255,108,1);\">(</span> <span style=\"background-color:rgba(123,255,108,1);\">Aaron</span> <span style=\"background-color:rgba(123,255,108,0.5);\">later</span> <span style=\"background-color:rgba(123,255,108,0.5);\">took</span> <span style=\"background-color:rgba(123,255,108,0.5);\">his</span> <span style=\"background-color:rgba(123,255,108,0.5);\">own</span> <span style=\"background-color:rgba(123,255,108,0.5);\">life</span> <span style=\"background-color:rgba(123,255,108,0.5);\">while</span> <span style=\"background-color:rgba(123,255,108,0.5);\">awaiting</span> <span style=\"background-color:rgba(123,255,108,0.5);\">trial</span> <span style=\"background-color:rgba(255,255,255,0);\">.</span> <span style=\"background-color:rgba(255,255,255,0);\">)</span> <span style=\"background-color:rgba(104,104,255,1);\">The</span> <span style=\"background-color:rgba(104,104,255,0.5);\">CF</span> <span style=\"background-color:rgba(104,104,255,0.5);\">##AA</span> <span style=\"background-color:rgba(104,104,255,0.5);\">already</span> <span style=\"background-color:rgba(104,104,255,0.5);\">has</span> <span style=\"background-color:rgba(104,104,255,0.5);\">incredibly</span> <span style=\"background-color:rgba(104,104,255,0.5);\">harsh</span> <span style=\"background-color:rgba(104,104,255,0.5);\">penalties</span> <span style=\"background-color:rgba(104,104,255,0.5);\">,</span> <span style=\"background-color:rgba(104,104,255,0.5);\">so</span> <span style=\"background-color:rgba(104,104,255,0.5);\">much</span> <span style=\"background-color:rgba(104,104,255,0.5);\">so</span> <span style=\"background-color:rgba(104,104,255,0.5);\">that</span> <span style=\"background-color:rgba(104,104,255,0.5);\">there</span> <span style=\"background-color:rgba(104,104,255,0.5);\">&#x27;</span> <span style=\"background-color:rgba(104,104,255,0.5);\">s</span> <span style=\"background-color:rgba(104,104,255,0.5);\">been</span> <span style=\"background-color:rgba(104,104,255,0.5);\">a</span> <span style=\"background-color:rgba(104,104,255,0.5);\">movement</span> <span style=\"background-color:rgba(104,104,255,0.5);\">for</span> <span style=\"background-color:rgba(104,104,255,0.5);\">years</span> <span style=\"background-color:rgba(104,104,255,0.5);\">to</span> <span style=\"background-color:rgba(104,104,255,0.5);\">reduce</span> <span style=\"background-color:rgba(104,104,255,0.5);\">them</span> <span style=\"background-color:rgba(255,255,255,0);\">.</span> <span style=\"background-color:rgba(104,104,255,1);\">And</span> <span style=\"background-color:rgba(104,104,255,0.5);\">how</span> <span style=\"background-color:rgba(104,104,255,0.5);\">the</span> <span style=\"background-color:rgba(104,104,255,0.5);\">administration</span> <span style=\"background-color:rgba(104,104,255,0.5);\">thinks</span> <span style=\"background-color:rgba(104,104,255,0.5);\">increasing</span> <span style=\"background-color:rgba(104,104,255,0.5);\">CF</span> <span style=\"background-color:rgba(104,104,255,0.5);\">##AA</span> <span style=\"background-color:rgba(104,104,255,0.5);\">penalties</span> <span style=\"background-color:rgba(104,104,255,0.5);\">is</span> <span style=\"background-color:rgba(104,104,255,0.5);\">going</span> <span style=\"background-color:rgba(104,104,255,0.5);\">to</span> <span style=\"background-color:rgba(104,104,255,0.5);\">worry</span> <span style=\"background-color:rgba(104,104,255,0.5);\">either</span> <span style=\"background-color:rgba(104,104,255,0.5);\">North</span> <span style=\"background-color:rgba(104,104,255,0.5);\">Korean</span> <span style=\"background-color:rgba(104,104,255,0.5);\">ha</span> <span style=\"background-color:rgba(104,104,255,0.5);\">##ckers</span> <span style=\"background-color:rgba(104,104,255,0.5);\">or</span> <span style=\"background-color:rgba(104,104,255,0.5);\">IS</span> <span style=\"background-color:rgba(104,104,255,0.5);\">##IS</span> <span style=\"background-color:rgba(104,104,255,0.5);\">s</span> <span style=\"background-color:rgba(104,104,255,0.5);\">##ym</span> <span style=\"background-color:rgba(104,104,255,0.5);\">##path</span> <span style=\"background-color:rgba(104,104,255,0.5);\">##izer</span> <span style=\"background-color:rgba(104,104,255,0.5);\">##s</span> <span style=\"background-color:rgba(104,104,255,0.5);\">(</span> <span style=\"background-color:rgba(104,104,255,0.5);\">or</span> <span style=\"background-color:rgba(104,104,255,0.5);\">more</span> <span style=\"background-color:rgba(104,104,255,0.5);\">likely</span> <span style=\"background-color:rgba(104,104,255,0.5);\">p</span> <span style=\"background-color:rgba(104,104,255,0.5);\">##rank</span> <span style=\"background-color:rgba(104,104,255,0.5);\">##sters</span> <span style=\"background-color:rgba(104,104,255,0.5);\">)</span> <span style=\"background-color:rgba(104,104,255,0.5);\">who</span> <span style=\"background-color:rgba(104,104,255,0.5);\">take</span> <span style=\"background-color:rgba(104,104,255,0.5);\">advantage</span> <span style=\"background-color:rgba(104,104,255,0.5);\">of</span> <span style=\"background-color:rgba(104,104,255,0.5);\">ne</span> <span style=\"background-color:rgba(104,104,255,0.5);\">##gli</span> <span style=\"background-color:rgba(104,104,255,0.5);\">##gent</span> <span style=\"background-color:rgba(104,104,255,0.5);\">password</span> <span style=\"background-color:rgba(104,104,255,0.5);\">practices</span> <span style=\"background-color:rgba(104,104,255,0.5);\">is</span> <span style=\"background-color:rgba(104,104,255,0.5);\">anyone</span> <span style=\"background-color:rgba(104,104,255,0.5);\">&#x27;</span> <span style=\"background-color:rgba(104,104,255,0.5);\">s</span> <span style=\"background-color:rgba(104,104,255,0.5);\">guess</span> <span style=\"background-color:rgba(255,255,255,0);\">.</span>"
      ],
      "text/plain": [
       "<IPython.core.display.HTML object>"
      ]
     },
     "metadata": {},
     "output_type": "display_data"
    },
    {
     "data": {
      "text/html": [
       "<span style=\"background-color:rgba(104,104,255,1);\">It</span> <span style=\"background-color:rgba(104,104,255,0.5);\">would</span> <span style=\"background-color:rgba(104,104,255,0.5);\">also</span> <span style=\"background-color:rgba(104,104,255,0.5);\">put</span> <span style=\"background-color:rgba(104,104,255,0.5);\">countless</span> <span style=\"background-color:rgba(104,104,255,0.5);\">security</span> <span style=\"background-color:rgba(104,104,255,0.5);\">researchers</span> <span style=\"background-color:rgba(104,104,255,0.5);\">at</span> <span style=\"background-color:rgba(104,104,255,0.5);\">further</span> <span style=\"background-color:rgba(104,104,255,0.5);\">risk</span> <span style=\"background-color:rgba(104,104,255,0.5);\">of</span> <span style=\"background-color:rgba(104,104,255,0.5);\">prosecution</span> <span style=\"background-color:rgba(104,104,255,0.5);\">,</span> <span style=\"background-color:rgba(104,104,255,0.5);\">the</span> <span style=\"background-color:rgba(104,104,255,0.5);\">exact</span> <span style=\"background-color:rgba(104,104,255,0.5);\">type</span> <span style=\"background-color:rgba(104,104,255,0.5);\">of</span> <span style=\"background-color:rgba(104,104,255,0.5);\">people</span> <span style=\"background-color:rgba(104,104,255,0.5);\">the</span> <span style=\"background-color:rgba(104,104,255,0.5);\">government</span> <span style=\"background-color:rgba(104,104,255,0.5);\">should</span> <span style=\"background-color:rgba(104,104,255,0.5);\">consulting</span> <span style=\"background-color:rgba(104,104,255,0.5);\">with</span> <span style=\"background-color:rgba(104,104,255,0.5);\">before</span> <span style=\"background-color:rgba(104,104,255,0.5);\">making</span> <span style=\"background-color:rgba(104,104,255,0.5);\">these</span> <span style=\"background-color:rgba(104,104,255,0.5);\">ill</span> <span style=\"background-color:rgba(104,104,255,0.5);\">-</span> <span style=\"background-color:rgba(104,104,255,0.5);\">thought</span> <span style=\"background-color:rgba(104,104,255,0.5);\">proposals</span> <span style=\"background-color:rgba(104,104,255,0.5);\">,</span> <span style=\"background-color:rgba(104,104,255,0.5);\">not</span> <span style=\"background-color:rgba(104,104,255,0.5);\">driving</span> <span style=\"background-color:rgba(104,104,255,0.5);\">underground</span> <span style=\"background-color:rgba(104,104,255,0.5);\">.</span>"
      ],
      "text/plain": [
       "<IPython.core.display.HTML object>"
      ]
     },
     "metadata": {},
     "output_type": "display_data"
    },
    {
     "data": {
      "text/html": [
       "<span style=\"background-color:rgba(255,255,255,0);\">At</span> <span style=\"background-color:rgba(255,255,255,0);\">the</span> <span style=\"background-color:rgba(255,255,255,0);\">same</span> <span style=\"background-color:rgba(255,255,255,0);\">time</span> <span style=\"background-color:rgba(255,255,255,0);\">,</span> <span style=\"background-color:rgba(123,255,108,1);\">Congress</span> <span style=\"background-color:rgba(123,255,108,0.5);\">has</span> <span style=\"background-color:rgba(123,255,108,0.5);\">re</span> <span style=\"background-color:rgba(123,255,108,0.5);\">-</span> <span style=\"background-color:rgba(123,255,108,0.5);\">introduced</span> <span style=\"background-color:rgba(123,255,108,0.5);\">their</span> <span style=\"background-color:rgba(123,255,108,0.5);\">annual</span> <span style=\"background-color:rgba(123,255,108,0.5);\">`</span> <span style=\"background-color:rgba(123,255,108,0.5);\">`</span> <span style=\"background-color:rgba(123,255,108,0.5);\">info</span> <span style=\"background-color:rgba(123,255,108,0.5);\">-</span> <span style=\"background-color:rgba(123,255,108,0.5);\">sharing</span> <span style=\"background-color:rgba(123,255,108,0.5);\">&#x27;</span> <span style=\"background-color:rgba(123,255,108,0.5);\">&#x27;</span> <span style=\"background-color:rgba(123,255,108,0.5);\">c</span> <span style=\"background-color:rgba(123,255,108,0.5);\">##y</span> <span style=\"background-color:rgba(123,255,108,0.5);\">##bers</span> <span style=\"background-color:rgba(123,255,108,0.5);\">##ec</span> <span style=\"background-color:rgba(123,255,108,0.5);\">##urity</span> <span style=\"background-color:rgba(123,255,108,0.5);\">bill</span> <span style=\"background-color:rgba(255,255,255,0);\">,</span> <span style=\"background-color:rgba(104,104,255,1);\">which</span> <span style=\"background-color:rgba(104,104,255,0.5);\">is</span> <span style=\"background-color:rgba(104,104,255,0.5);\">really</span> <span style=\"background-color:rgba(104,104,255,0.5);\">just</span> <span style=\"background-color:rgba(104,104,255,0.5);\">a</span> <span style=\"background-color:rgba(104,104,255,0.5);\">thin</span> <span style=\"background-color:rgba(104,104,255,0.5);\">##ly</span> <span style=\"background-color:rgba(104,104,255,0.5);\">-</span> <span style=\"background-color:rgba(104,104,255,0.5);\">veil</span> <span style=\"background-color:rgba(104,104,255,0.5);\">##ed</span> <span style=\"background-color:rgba(104,104,255,0.5);\">way</span> <span style=\"background-color:rgba(104,104,255,0.5);\">to</span> <span style=\"background-color:rgba(104,104,255,0.5);\">sip</span> <span style=\"background-color:rgba(104,104,255,0.5);\">##hon</span> <span style=\"background-color:rgba(104,104,255,0.5);\">off</span> <span style=\"background-color:rgba(104,104,255,0.5);\">more</span> <span style=\"background-color:rgba(104,104,255,0.5);\">of</span> <span style=\"background-color:rgba(104,104,255,0.5);\">Americans</span> <span style=\"background-color:rgba(104,104,255,0.5);\">&#x27;</span> <span style=\"background-color:rgba(104,104,255,0.5);\">private</span> <span style=\"background-color:rgba(104,104,255,0.5);\">data</span> <span style=\"background-color:rgba(104,104,255,0.5);\">without</span> <span style=\"background-color:rgba(104,104,255,0.5);\">court</span> <span style=\"background-color:rgba(104,104,255,0.5);\">oversight</span> <span style=\"background-color:rgba(255,255,255,0);\">.</span> <span style=\"background-color:rgba(255,255,255,0);\">As</span> <span style=\"background-color:rgba(255,255,255,0);\">E</span> <span style=\"background-color:rgba(255,255,255,0);\">##FF</span> <span style=\"background-color:rgba(255,255,255,0);\">put</span> <span style=\"background-color:rgba(255,255,255,0);\">it</span> <span style=\"background-color:rgba(255,255,255,0);\">,</span> <span style=\"background-color:rgba(255,114,104,1);\">the</span> <span style=\"background-color:rgba(255,114,104,0.5);\">bill</span> <span style=\"background-color:rgba(255,114,104,0.5);\">`</span> <span style=\"background-color:rgba(255,114,104,0.5);\">`</span> <span style=\"background-color:rgba(255,114,104,0.5);\">offered</span> <span style=\"background-color:rgba(255,114,104,0.5);\">new</span> <span style=\"background-color:rgba(255,114,104,0.5);\">authorities</span> <span style=\"background-color:rgba(255,114,104,0.5);\">that</span> <span style=\"background-color:rgba(255,114,104,0.5);\">could</span> <span style=\"background-color:rgba(255,114,104,0.5);\">be</span> <span style=\"background-color:rgba(255,114,104,0.5);\">abused</span> <span style=\"background-color:rgba(255,114,104,0.5);\">by</span> <span style=\"background-color:rgba(255,114,104,0.5);\">companies</span> <span style=\"background-color:rgba(255,114,104,0.5);\">to</span> <span style=\"background-color:rgba(255,114,104,0.5);\">spy</span> <span style=\"background-color:rgba(255,114,104,0.5);\">on</span> <span style=\"background-color:rgba(255,114,104,0.5);\">users</span> <span style=\"background-color:rgba(255,114,104,0.5);\">,</span> <span style=\"background-color:rgba(255,114,104,0.5);\">and</span> <span style=\"background-color:rgba(255,114,104,0.5);\">offered</span> <span style=\"background-color:rgba(255,114,104,0.5);\">broad</span> <span style=\"background-color:rgba(255,114,104,0.5);\">legal</span> <span style=\"background-color:rgba(255,114,104,0.5);\">immunity</span> <span style=\"background-color:rgba(255,114,104,0.5);\">for</span> <span style=\"background-color:rgba(255,114,104,0.5);\">disc</span> <span style=\"background-color:rgba(255,114,104,0.5);\">##los</span> <span style=\"background-color:rgba(255,114,104,0.5);\">##ing</span> <span style=\"background-color:rgba(255,114,104,0.5);\">the</span> <span style=\"background-color:rgba(255,114,104,0.5);\">information</span> <span style=\"background-color:rgba(255,114,104,0.5);\">obtained</span> <span style=\"background-color:rgba(255,114,104,0.5);\">with</span> <span style=\"background-color:rgba(255,114,104,0.5);\">the</span> <span style=\"background-color:rgba(255,114,104,0.5);\">government</span> <span style=\"background-color:rgba(255,255,255,0);\">.</span> <span style=\"background-color:rgba(104,104,255,1);\">Sometimes</span> <span style=\"background-color:rgba(104,104,255,0.5);\">they</span> <span style=\"background-color:rgba(104,104,255,0.5);\">even</span> <span style=\"background-color:rgba(104,104,255,0.5);\">granted</span> <span style=\"background-color:rgba(104,104,255,0.5);\">companies</span> <span style=\"background-color:rgba(104,104,255,0.5);\">the</span> <span style=\"background-color:rgba(104,104,255,0.5);\">ability</span> <span style=\"background-color:rgba(104,104,255,0.5);\">to</span> <span style=\"background-color:rgba(104,104,255,0.5);\">&#x27;</span> <span style=\"background-color:rgba(104,104,255,0.5);\">ha</span> <span style=\"background-color:rgba(104,104,255,0.5);\">##ck</span> <span style=\"background-color:rgba(104,104,255,0.5);\">back</span> <span style=\"background-color:rgba(255,114,104,0.5);\">&#x27;</span> <span style=\"background-color:rgba(104,104,255,0.5);\">.</span> <span style=\"background-color:rgba(104,104,255,0.5);\">.</span> <span style=\"background-color:rgba(255,255,255,0);\">.</span> <span style=\"background-color:rgba(104,104,255,0.5);\">a</span> <span style=\"background-color:rgba(104,104,255,0.5);\">perfect</span> <span style=\"background-color:rgba(104,104,255,0.5);\">storm</span> <span style=\"background-color:rgba(104,104,255,0.5);\">threatening</span> <span style=\"background-color:rgba(104,104,255,0.5);\">our</span> <span style=\"background-color:rgba(104,104,255,0.5);\">online</span> <span style=\"background-color:rgba(104,104,255,0.5);\">privacy</span> <span style=\"background-color:rgba(104,104,255,0.5);\">.</span> <span style=\"background-color:rgba(104,104,255,0.5);\">&#x27;</span> <span style=\"background-color:rgba(255,255,255,0);\">&#x27;</span> <span style=\"background-color:rgba(104,104,255,1);\">The</span> <span style=\"background-color:rgba(104,104,255,0.5);\">President</span> <span style=\"background-color:rgba(104,104,255,0.5);\">&#x27;</span> <span style=\"background-color:rgba(104,104,255,0.5);\">s</span> <span style=\"background-color:rgba(104,104,255,0.5);\">alternative</span> <span style=\"background-color:rgba(104,104,255,0.5);\">bill</span> <span style=\"background-color:rgba(104,104,255,0.5);\">is</span> <span style=\"background-color:rgba(104,104,255,0.5);\">a</span> <span style=\"background-color:rgba(104,104,255,0.5);\">bit</span> <span style=\"background-color:rgba(104,104,255,0.5);\">less</span> <span style=\"background-color:rgba(104,104,255,0.5);\">sweeping</span> <span style=\"background-color:rgba(104,104,255,0.5);\">,</span> <span style=\"background-color:rgba(104,104,255,0.5);\">but</span> <span style=\"background-color:rgba(104,104,255,0.5);\">not</span> <span style=\"background-color:rgba(104,104,255,0.5);\">by</span> <span style=\"background-color:rgba(104,104,255,0.5);\">much</span> <span style=\"background-color:rgba(255,255,255,0);\">.</span>"
      ],
      "text/plain": [
       "<IPython.core.display.HTML object>"
      ]
     },
     "metadata": {},
     "output_type": "display_data"
    },
    {
     "data": {
      "text/html": [
       "<span style=\"background-color:rgba(104,104,255,1);\">I</span> <span style=\"background-color:rgba(104,104,255,0.5);\">could</span> <span style=\"background-color:rgba(104,104,255,0.5);\">n</span> <span style=\"background-color:rgba(104,104,255,0.5);\">&#x27;</span> <span style=\"background-color:rgba(104,104,255,0.5);\">t</span> <span style=\"background-color:rgba(104,104,255,0.5);\">help</span> <span style=\"background-color:rgba(104,104,255,0.5);\">letting</span> <span style=\"background-color:rgba(104,104,255,0.5);\">out</span> <span style=\"background-color:rgba(104,104,255,0.5);\">a</span> <span style=\"background-color:rgba(104,104,255,0.5);\">low</span> <span style=\"background-color:rgba(104,104,255,0.5);\">whistle</span> <span style=\"background-color:rgba(104,104,255,0.5);\">of</span> <span style=\"background-color:rgba(104,104,255,0.5);\">admiration</span> <span style=\"background-color:rgba(255,255,255,0);\">when</span> <span style=\"background-color:rgba(104,104,255,1);\">I</span> <span style=\"background-color:rgba(123,255,108,0.5);\">read</span> <span style=\"background-color:rgba(123,255,108,0.5);\">news</span> <span style=\"background-color:rgba(123,255,108,0.5);\">that</span> <span style=\"background-color:rgba(123,255,108,0.5);\">the</span> <span style=\"background-color:rgba(123,255,108,0.5);\">cost</span> <span style=\"background-color:rgba(123,255,108,0.5);\">of</span> <span style=\"background-color:rgba(123,255,108,0.5);\">goods</span> <span style=\"background-color:rgba(123,255,108,0.5);\">stolen</span> <span style=\"background-color:rgba(123,255,108,0.5);\">in</span> <span style=\"background-color:rgba(123,255,108,0.5);\">the</span> <span style=\"background-color:rgba(123,255,108,0.5);\">average</span> <span style=\"background-color:rgba(123,255,108,0.5);\">shop</span> <span style=\"background-color:rgba(123,255,108,0.5);\">##lifting</span> <span style=\"background-color:rgba(123,255,108,0.5);\">incident</span> <span style=\"background-color:rgba(123,255,108,0.5);\">is</span> <span style=\"background-color:rgba(123,255,108,0.5);\">now</span> <span style=\"background-color:rgba(123,255,108,0.5);\">?</span> <span style=\"background-color:rgba(255,255,255,0);\">241</span> <span style=\"background-color:rgba(255,255,255,0);\">.</span> <span style=\"background-color:rgba(123,255,108,1);\">Bloody</span> <span style=\"background-color:rgba(123,255,108,0.5);\">hell</span> <span style=\"background-color:rgba(123,255,108,0.5);\">,</span> <span style=\"background-color:rgba(123,255,108,0.5);\">I</span> <span style=\"background-color:rgba(123,255,108,0.5);\">thought</span> <span style=\"background-color:rgba(255,255,255,0);\">,</span> <span style=\"background-color:rgba(255,255,255,0);\">as</span> <span style=\"background-color:rgba(123,255,108,1);\">I</span> <span style=\"background-color:rgba(123,255,108,0.5);\">tried</span> <span style=\"background-color:rgba(123,255,108,0.5);\">to</span> <span style=\"background-color:rgba(123,255,108,0.5);\">imagine</span> <span style=\"background-color:rgba(123,255,108,0.5);\">how</span> <span style=\"background-color:rgba(123,255,108,0.5);\">exactly</span> <span style=\"background-color:rgba(123,255,108,0.5);\">you</span> <span style=\"background-color:rgba(123,255,108,0.5);\">would</span> <span style=\"background-color:rgba(123,255,108,0.5);\">s</span> <span style=\"background-color:rgba(123,255,108,0.5);\">##tas</span> <span style=\"background-color:rgba(123,255,108,0.5);\">##h</span> <span style=\"background-color:rgba(123,255,108,0.5);\">that</span> <span style=\"background-color:rgba(123,255,108,0.5);\">many</span> <span style=\"background-color:rgba(123,255,108,0.5);\">eye</span> <span style=\"background-color:rgba(123,255,108,0.5);\">-</span> <span style=\"background-color:rgba(123,255,108,0.5);\">shadow</span> <span style=\"background-color:rgba(123,255,108,0.5);\">compact</span> <span style=\"background-color:rgba(123,255,108,0.5);\">##s</span> <span style=\"background-color:rgba(123,255,108,0.5);\">up</span> <span style=\"background-color:rgba(123,255,108,0.5);\">your</span> <span style=\"background-color:rgba(123,255,108,0.5);\">sleeve</span> <span style=\"background-color:rgba(255,255,255,0);\">.</span> <span style=\"background-color:rgba(255,255,255,0);\">You</span> <span style=\"background-color:rgba(255,255,255,0);\">see</span> <span style=\"background-color:rgba(255,255,255,0);\">for</span> <span style=\"background-color:rgba(255,255,255,0);\">a</span> <span style=\"background-color:rgba(255,255,255,0);\">few</span> <span style=\"background-color:rgba(255,255,255,0);\">months</span> <span style=\"background-color:rgba(255,255,255,0);\">back</span> <span style=\"background-color:rgba(255,255,255,0);\">when</span> <span style=\"background-color:rgba(123,255,108,1);\">I</span> <span style=\"background-color:rgba(123,255,108,0.5);\">was</span> <span style=\"background-color:rgba(123,255,108,0.5);\">16</span> <span style=\"background-color:rgba(255,255,255,0);\">,</span> <span style=\"background-color:rgba(123,255,108,1);\">shop</span> <span style=\"background-color:rgba(123,255,108,0.5);\">##lifting</span> <span style=\"background-color:rgba(123,255,108,0.5);\">was</span> <span style=\"background-color:rgba(123,255,108,0.5);\">the</span> <span style=\"background-color:rgba(123,255,108,0.5);\">hot</span> <span style=\"background-color:rgba(123,255,108,0.5);\">##test</span> <span style=\"background-color:rgba(123,255,108,0.5);\">c</span> <span style=\"background-color:rgba(123,255,108,0.5);\">##raze</span> <span style=\"background-color:rgba(123,255,108,0.5);\">at</span> <span style=\"background-color:rgba(123,255,108,0.5);\">my</span> <span style=\"background-color:rgba(123,255,108,0.5);\">suburban</span> <span style=\"background-color:rgba(123,255,108,0.5);\">girls</span> <span style=\"background-color:rgba(123,255,108,0.5);\">school</span> <span style=\"background-color:rgba(255,255,255,0);\">.</span> <span style=\"background-color:rgba(104,104,255,1);\">It</span> <span style=\"background-color:rgba(104,104,255,0.5);\">spread</span> <span style=\"background-color:rgba(104,104,255,0.5);\">like</span> <span style=\"background-color:rgba(104,104,255,0.5);\">a</span> <span style=\"background-color:rgba(104,104,255,0.5);\">virus</span> <span style=\"background-color:rgba(104,104,255,0.5);\">through</span> <span style=\"background-color:rgba(104,104,255,0.5);\">Year</span> <span style=\"background-color:rgba(104,104,255,0.5);\">11</span> <span style=\"background-color:rgba(104,104,255,0.5);\">,</span> <span style=\"background-color:rgba(104,104,255,0.5);\">to</span> <span style=\"background-color:rgba(104,104,255,0.5);\">the</span> <span style=\"background-color:rgba(104,104,255,0.5);\">point</span> <span style=\"background-color:rgba(104,104,255,0.5);\">that</span> <span style=\"background-color:rgba(104,104,255,0.5);\">students</span> <span style=\"background-color:rgba(104,104,255,0.5);\">would</span> <span style=\"background-color:rgba(104,104,255,0.5);\">pop</span> <span style=\"background-color:rgba(104,104,255,0.5);\">into</span> <span style=\"background-color:rgba(104,104,255,0.5);\">town</span> <span style=\"background-color:rgba(104,104,255,0.5);\">at</span> <span style=\"background-color:rgba(104,104,255,0.5);\">lunch</span> <span style=\"background-color:rgba(104,104,255,0.5);\">and</span> <span style=\"background-color:rgba(104,104,255,0.5);\">return</span> <span style=\"background-color:rgba(104,104,255,0.5);\">with</span> <span style=\"background-color:rgba(104,104,255,0.5);\">a</span> <span style=\"background-color:rgba(104,104,255,0.5);\">huge</span> <span style=\"background-color:rgba(104,104,255,0.5);\">cache</span> <span style=\"background-color:rgba(104,104,255,0.5);\">of</span> <span style=\"background-color:rgba(104,104,255,0.5);\">stolen</span> <span style=\"background-color:rgba(104,104,255,0.5);\">goods</span> <span style=\"background-color:rgba(255,255,255,0);\">.</span> <span style=\"background-color:rgba(123,255,108,1);\">They</span> <span style=\"background-color:rgba(123,255,108,0.5);\">&#x27;</span> <span style=\"background-color:rgba(123,255,108,0.5);\">d</span> <span style=\"background-color:rgba(123,255,108,0.5);\">up</span> <span style=\"background-color:rgba(123,255,108,0.5);\">##turn</span> <span style=\"background-color:rgba(123,255,108,0.5);\">the</span> <span style=\"background-color:rgba(123,255,108,0.5);\">contents</span> <span style=\"background-color:rgba(123,255,108,0.5);\">of</span> <span style=\"background-color:rgba(123,255,108,0.5);\">their</span> <span style=\"background-color:rgba(123,255,108,0.5);\">bags</span> <span style=\"background-color:rgba(123,255,108,0.5);\">on</span> <span style=\"background-color:rgba(123,255,108,0.5);\">to</span> <span style=\"background-color:rgba(123,255,108,0.5);\">a</span> <span style=\"background-color:rgba(123,255,108,0.5);\">desk</span> <span style=\"background-color:rgba(123,255,108,0.5);\">with</span> <span style=\"background-color:rgba(123,255,108,0.5);\">a</span> <span style=\"background-color:rgba(123,255,108,0.5);\">shout</span> <span style=\"background-color:rgba(123,255,108,0.5);\">of</span> <span style=\"background-color:rgba(123,255,108,0.5);\">:</span> <span style=\"background-color:rgba(123,255,108,0.5);\">Who</span> <span style=\"background-color:rgba(123,255,108,0.5);\">wants</span> <span style=\"background-color:rgba(123,255,108,0.5);\">what</span> <span style=\"background-color:rgba(123,255,108,0.5);\">?</span> <span style=\"background-color:rgba(255,255,255,0);\">Now</span> <span style=\"background-color:rgba(104,104,255,0.5);\">,</span> <span style=\"background-color:rgba(104,104,255,1);\">the</span> <span style=\"background-color:rgba(104,104,255,0.5);\">thieves</span> <span style=\"background-color:rgba(104,104,255,0.5);\">providing</span> <span style=\"background-color:rgba(104,104,255,0.5);\">the</span> <span style=\"background-color:rgba(104,104,255,0.5);\">British</span> <span style=\"background-color:rgba(104,104,255,0.5);\">Re</span> <span style=\"background-color:rgba(104,104,255,0.5);\">##tail</span> <span style=\"background-color:rgba(104,104,255,0.5);\">Consortium</span> <span style=\"background-color:rgba(104,104,255,0.5);\">with</span> <span style=\"background-color:rgba(104,104,255,0.5);\">a</span> <span style=\"background-color:rgba(104,104,255,0.5);\">headache</span> <span style=\"background-color:rgba(104,104,255,0.5);\">this</span> <span style=\"background-color:rgba(104,104,255,0.5);\">week</span> <span style=\"background-color:rgba(104,104,255,0.5);\">with</span> <span style=\"background-color:rgba(104,104,255,0.5);\">their</span> <span style=\"background-color:rgba(104,104,255,0.5);\">high</span> <span style=\"background-color:rgba(104,104,255,0.5);\">-</span> <span style=\"background-color:rgba(104,104,255,0.5);\">cost</span> <span style=\"background-color:rgba(104,104,255,0.5);\">haul</span> <span style=\"background-color:rgba(104,104,255,0.5);\">##s</span> <span style=\"background-color:rgba(104,104,255,0.5);\">are</span> <span style=\"background-color:rgba(104,104,255,0.5);\">more</span> <span style=\"background-color:rgba(104,104,255,0.5);\">likely</span> <span style=\"background-color:rgba(104,104,255,0.5);\">to</span> <span style=\"background-color:rgba(104,104,255,0.5);\">be</span> <span style=\"background-color:rgba(104,104,255,0.5);\">professional</span> <span style=\"background-color:rgba(104,104,255,0.5);\">`</span> <span style=\"background-color:rgba(104,104,255,0.5);\">`</span> <span style=\"background-color:rgba(104,104,255,0.5);\">steal</span> <span style=\"background-color:rgba(104,104,255,0.5);\">to</span> <span style=\"background-color:rgba(104,104,255,0.5);\">order</span> <span style=\"background-color:rgba(104,104,255,0.5);\">&#x27;</span> <span style=\"background-color:rgba(104,104,255,0.5);\">&#x27;</span> <span style=\"background-color:rgba(104,104,255,0.5);\">shop</span> <span style=\"background-color:rgba(104,104,255,0.5);\">##lift</span> <span style=\"background-color:rgba(104,104,255,0.5);\">##ers</span> <span style=\"background-color:rgba(104,104,255,0.5);\">,</span> <span style=\"background-color:rgba(104,104,255,0.5);\">not</span> <span style=\"background-color:rgba(104,104,255,0.5);\">a</span> <span style=\"background-color:rgba(104,104,255,0.5);\">gang</span> <span style=\"background-color:rgba(104,104,255,0.5);\">of</span> <span style=\"background-color:rgba(104,104,255,0.5);\">f</span> <span style=\"background-color:rgba(104,104,255,0.5);\">##eck</span> <span style=\"background-color:rgba(104,104,255,0.5);\">##less</span> <span style=\"background-color:rgba(104,104,255,0.5);\">teenage</span> <span style=\"background-color:rgba(104,104,255,0.5);\">girls</span> <span style=\"background-color:rgba(255,255,255,0);\">.</span> <span style=\"background-color:rgba(255,255,255,0);\">Nevertheless</span> <span style=\"background-color:rgba(255,255,255,0);\">,</span> <span style=\"background-color:rgba(104,104,255,1);\">it</span> <span style=\"background-color:rgba(104,104,255,0.5);\">instantly</span> <span style=\"background-color:rgba(104,104,255,0.5);\">brought</span> <span style=\"background-color:rgba(104,104,255,0.5);\">back</span> <span style=\"background-color:rgba(104,104,255,0.5);\">that</span> <span style=\"background-color:rgba(104,104,255,0.5);\">rush</span> <span style=\"background-color:rgba(104,104,255,0.5);\">of</span> <span style=\"background-color:rgba(104,104,255,0.5);\">adrenaline</span> <span style=\"background-color:rgba(104,104,255,0.5);\">that</span> <span style=\"background-color:rgba(104,104,255,0.5);\">always</span> <span style=\"background-color:rgba(104,104,255,0.5);\">follows</span> <span style=\"background-color:rgba(104,104,255,0.5);\">a</span> <span style=\"background-color:rgba(104,104,255,0.5);\">bout</span> <span style=\"background-color:rgba(104,104,255,0.5);\">of</span> <span style=\"background-color:rgba(104,104,255,0.5);\">five</span> <span style=\"background-color:rgba(104,104,255,0.5);\">-</span> <span style=\"background-color:rgba(104,104,255,0.5);\">finger</span> <span style=\"background-color:rgba(104,104,255,0.5);\">discount</span> <span style=\"background-color:rgba(104,104,255,0.5);\">`</span> <span style=\"background-color:rgba(104,104,255,0.5);\">`</span> <span style=\"background-color:rgba(104,104,255,0.5);\">shopping</span> <span style=\"background-color:rgba(104,104,255,0.5);\">&#x27;</span> <span style=\"background-color:rgba(104,104,255,0.5);\">&#x27;</span> <span style=\"background-color:rgba(255,255,255,0);\">.</span>"
      ],
      "text/plain": [
       "<IPython.core.display.HTML object>"
      ]
     },
     "metadata": {},
     "output_type": "display_data"
    }
   ],
   "source": [
    "# plot the test set\n",
    "\n",
    "cross_texts = test_texts[10:15]\n",
    "tl = test_labels[10:15]\n",
    "\n",
    "model = model.to('cpu')\n",
    "\n",
    "cross_encodings = tokenizer(cross_texts, is_split_into_words=True, return_offsets_mapping=True, padding=True, truncation=True)\n",
    "cross_encodings.pop(\"offset_mapping\")\n",
    "\n",
    "cross_input = {key: torch.tensor(val) for key, val in cross_encodings.items()}\n",
    "\n",
    "pred = np.argmax(model(cross_input['input_ids'].to('cpu'))[0].detach().cpu().numpy(), -1)\n",
    "tokens = [tokenizer.convert_ids_to_tokens(item) for item in cross_input['input_ids']]\n",
    "\n",
    "\n",
    "for i in range(5):\n",
    "    show(tokens, pred, i, colors)\n",
    "\n"
   ]
  },
  {
   "cell_type": "code",
   "execution_count": 30,
   "metadata": {},
   "outputs": [
    {
     "data": {
      "text/html": [
       "<span style=\"background-color:rgba(123,255,108,1);\">And</span> <span style=\"background-color:rgba(123,255,108,0.5);\">then</span> <span style=\"background-color:rgba(123,255,108,0.5);\">there</span> <span style=\"background-color:rgba(123,255,108,0.5);\">&#x27;</span> <span style=\"background-color:rgba(123,255,108,0.5);\">s</span> <span style=\"background-color:rgba(123,255,108,0.5);\">the</span> <span style=\"background-color:rgba(123,255,108,0.5);\">White</span> <span style=\"background-color:rgba(123,255,108,0.5);\">House</span> <span style=\"background-color:rgba(123,255,108,0.5);\">&#x27;</span> <span style=\"background-color:rgba(123,255,108,0.5);\">s</span> <span style=\"background-color:rgba(123,255,108,0.5);\">so</span> <span style=\"background-color:rgba(123,255,108,0.5);\">-</span> <span style=\"background-color:rgba(123,255,108,0.5);\">called</span> <span style=\"background-color:rgba(123,255,108,0.5);\">solution</span> <span style=\"background-color:rgba(123,255,108,0.5);\">to</span> <span style=\"background-color:rgba(123,255,108,0.5);\">the</span> <span style=\"background-color:rgba(123,255,108,0.5);\">c</span> <span style=\"background-color:rgba(123,255,108,0.5);\">##y</span> <span style=\"background-color:rgba(123,255,108,0.5);\">##bers</span> <span style=\"background-color:rgba(123,255,108,0.5);\">##ec</span> <span style=\"background-color:rgba(123,255,108,0.5);\">##urity</span> <span style=\"background-color:rgba(123,255,108,0.5);\">problem</span> <span style=\"background-color:rgba(123,255,108,0.5);\">,</span> <span style=\"background-color:rgba(123,255,108,0.5);\">which</span> <span style=\"background-color:rgba(123,255,108,0.5);\">they</span> <span style=\"background-color:rgba(123,255,108,0.5);\">unveiled</span> <span style=\"background-color:rgba(123,255,108,0.5);\">earlier</span> <span style=\"background-color:rgba(123,255,108,0.5);\">this</span> <span style=\"background-color:rgba(123,255,108,0.5);\">week</span> <span style=\"background-color:rgba(255,255,255,0);\">.</span> <span style=\"background-color:rgba(123,255,108,1);\">President</span> <span style=\"background-color:rgba(123,255,108,0.5);\">Obama</span> <span style=\"background-color:rgba(123,255,108,0.5);\">introduced</span> <span style=\"background-color:rgba(123,255,108,0.5);\">it</span> <span style=\"background-color:rgba(123,255,108,0.5);\">saying</span> <span style=\"background-color:rgba(123,255,108,0.5);\">we</span> <span style=\"background-color:rgba(123,255,108,0.5);\">had</span> <span style=\"background-color:rgba(123,255,108,0.5);\">to</span> <span style=\"background-color:rgba(123,255,108,0.5);\">do</span> <span style=\"background-color:rgba(123,255,108,0.5);\">something</span> <span style=\"background-color:rgba(123,255,108,0.5);\">about</span> <span style=\"background-color:rgba(123,255,108,0.5);\">incidents</span> <span style=\"background-color:rgba(123,255,108,0.5);\">like</span> <span style=\"background-color:rgba(123,255,108,0.5);\">the</span> <span style=\"background-color:rgba(123,255,108,0.5);\">headline</span> <span style=\"background-color:rgba(123,255,108,0.5);\">-</span> <span style=\"background-color:rgba(123,255,108,0.5);\">grabbing</span> <span style=\"background-color:rgba(123,255,108,0.5);\">Sony</span> <span style=\"background-color:rgba(123,255,108,0.5);\">ha</span> <span style=\"background-color:rgba(123,255,108,0.5);\">##ck</span> <span style=\"background-color:rgba(123,255,108,0.5);\">,</span> <span style=\"background-color:rgba(123,255,108,0.5);\">or</span> <span style=\"background-color:rgba(123,255,108,0.5);\">the</span> <span style=\"background-color:rgba(123,255,108,0.5);\">juvenile</span> <span style=\"background-color:rgba(123,255,108,0.5);\">hi</span> <span style=\"background-color:rgba(123,255,108,0.5);\">##jack</span> <span style=\"background-color:rgba(123,255,108,0.5);\">##ing</span> <span style=\"background-color:rgba(123,255,108,0.5);\">of</span> <span style=\"background-color:rgba(123,255,108,0.5);\">US</span> <span style=\"background-color:rgba(123,255,108,0.5);\">Central</span> <span style=\"background-color:rgba(123,255,108,0.5);\">Command</span> <span style=\"background-color:rgba(123,255,108,0.5);\">&#x27;</span> <span style=\"background-color:rgba(123,255,108,0.5);\">s</span> <span style=\"background-color:rgba(123,255,108,0.5);\">t</span> <span style=\"background-color:rgba(123,255,108,0.5);\">##wi</span> <span style=\"background-color:rgba(123,255,108,0.5);\">##tter</span> <span style=\"background-color:rgba(123,255,108,0.5);\">account</span> <span style=\"background-color:rgba(255,255,255,0);\">-</span> <span style=\"background-color:rgba(255,255,255,0);\">but</span> <span style=\"background-color:rgba(104,104,255,1);\">what</span> <span style=\"background-color:rgba(104,104,255,0.5);\">he</span> <span style=\"background-color:rgba(104,104,255,0.5);\">did</span> <span style=\"background-color:rgba(104,104,255,0.5);\">n</span> <span style=\"background-color:rgba(104,104,255,0.5);\">&#x27;</span> <span style=\"background-color:rgba(104,104,255,0.5);\">t</span> <span style=\"background-color:rgba(104,104,255,0.5);\">say</span> <span style=\"background-color:rgba(104,104,255,0.5);\">was</span> <span style=\"background-color:rgba(104,104,255,0.5);\">that</span> <span style=\"background-color:rgba(104,104,255,0.5);\">those</span> <span style=\"background-color:rgba(104,104,255,0.5);\">proposals</span> <span style=\"background-color:rgba(104,104,255,0.5);\">would</span> <span style=\"background-color:rgba(104,104,255,0.5);\">n</span> <span style=\"background-color:rgba(104,104,255,0.5);\">&#x27;</span> <span style=\"background-color:rgba(104,104,255,0.5);\">t</span> <span style=\"background-color:rgba(104,104,255,0.5);\">have</span> <span style=\"background-color:rgba(104,104,255,0.5);\">stopped</span> <span style=\"background-color:rgba(104,104,255,0.5);\">those</span> <span style=\"background-color:rgba(104,104,255,0.5);\">attacks</span> <span style=\"background-color:rgba(104,104,255,0.5);\">at</span> <span style=\"background-color:rgba(104,104,255,0.5);\">all</span> <span style=\"background-color:rgba(255,255,255,0);\">.</span>"
      ],
      "text/plain": [
       "<IPython.core.display.HTML object>"
      ]
     },
     "metadata": {},
     "output_type": "display_data"
    },
    {
     "data": {
      "text/html": [
       "<span style=\"background-color:rgba(104,104,255,1);\">Part</span> <span style=\"background-color:rgba(104,104,255,0.5);\">of</span> <span style=\"background-color:rgba(104,104,255,0.5);\">the</span> <span style=\"background-color:rgba(104,104,255,0.5);\">Obama</span> <span style=\"background-color:rgba(104,104,255,0.5);\">administration</span> <span style=\"background-color:rgba(104,104,255,0.5);\">&#x27;</span> <span style=\"background-color:rgba(104,104,255,0.5);\">s</span> <span style=\"background-color:rgba(104,104,255,0.5);\">proposal</span> <span style=\"background-color:rgba(104,104,255,0.5);\">would</span> <span style=\"background-color:rgba(104,104,255,0.5);\">dramatically</span> <span style=\"background-color:rgba(104,104,255,0.5);\">expand</span> <span style=\"background-color:rgba(104,104,255,0.5);\">the</span> <span style=\"background-color:rgba(104,104,255,0.5);\">Computer</span> <span style=\"background-color:rgba(104,104,255,0.5);\">Fr</span> <span style=\"background-color:rgba(104,104,255,0.5);\">##aud</span> <span style=\"background-color:rgba(104,104,255,0.5);\">and</span> <span style=\"background-color:rgba(104,104,255,0.5);\">Abu</span> <span style=\"background-color:rgba(104,104,255,0.5);\">##se</span> <span style=\"background-color:rgba(104,104,255,0.5);\">Act</span> <span style=\"background-color:rgba(104,104,255,0.5);\">,</span> <span style=\"background-color:rgba(104,104,255,0.5);\">the</span> <span style=\"background-color:rgba(104,104,255,0.5);\">of</span> <span style=\"background-color:rgba(104,104,255,0.5);\">##t</span> <span style=\"background-color:rgba(104,104,255,0.5);\">-</span> <span style=\"background-color:rgba(104,104,255,0.5);\">abused</span> <span style=\"background-color:rgba(104,104,255,0.5);\">and</span> <span style=\"background-color:rgba(104,104,255,0.5);\">notorious</span> <span style=\"background-color:rgba(104,104,255,0.5);\">statute</span> <span style=\"background-color:rgba(104,104,255,0.5);\">that</span> <span style=\"background-color:rgba(104,104,255,0.5);\">the</span> <span style=\"background-color:rgba(104,104,255,0.5);\">Justice</span> <span style=\"background-color:rgba(104,104,255,0.5);\">Department</span> <span style=\"background-color:rgba(104,104,255,0.5);\">used</span> <span style=\"background-color:rgba(104,104,255,0.5);\">to</span> <span style=\"background-color:rgba(104,104,255,0.5);\">threaten</span> <span style=\"background-color:rgba(104,104,255,0.5);\">the</span> <span style=\"background-color:rgba(104,104,255,0.5);\">late</span> <span style=\"background-color:rgba(104,104,255,0.5);\">Internet</span> <span style=\"background-color:rgba(104,104,255,0.5);\">activist</span> <span style=\"background-color:rgba(104,104,255,0.5);\">Aaron</span> <span style=\"background-color:rgba(104,104,255,0.5);\">S</span> <span style=\"background-color:rgba(104,104,255,0.5);\">##wart</span> <span style=\"background-color:rgba(104,104,255,0.5);\">##z</span> <span style=\"background-color:rgba(104,104,255,0.5);\">with</span> <span style=\"background-color:rgba(104,104,255,0.5);\">35</span> <span style=\"background-color:rgba(104,104,255,0.5);\">years</span> <span style=\"background-color:rgba(104,104,255,0.5);\">in</span> <span style=\"background-color:rgba(104,104,255,0.5);\">jail</span> <span style=\"background-color:rgba(255,255,255,0);\">.</span> <span style=\"background-color:rgba(123,255,108,1);\">(</span> <span style=\"background-color:rgba(123,255,108,0.5);\">Aaron</span> <span style=\"background-color:rgba(123,255,108,0.5);\">later</span> <span style=\"background-color:rgba(123,255,108,0.5);\">took</span> <span style=\"background-color:rgba(123,255,108,0.5);\">his</span> <span style=\"background-color:rgba(123,255,108,0.5);\">own</span> <span style=\"background-color:rgba(123,255,108,0.5);\">life</span> <span style=\"background-color:rgba(123,255,108,0.5);\">while</span> <span style=\"background-color:rgba(123,255,108,0.5);\">awaiting</span> <span style=\"background-color:rgba(123,255,108,0.5);\">trial</span> <span style=\"background-color:rgba(255,255,255,0);\">.</span> <span style=\"background-color:rgba(255,255,255,0);\">)</span> <span style=\"background-color:rgba(104,104,255,1);\">The</span> <span style=\"background-color:rgba(104,104,255,0.5);\">CF</span> <span style=\"background-color:rgba(104,104,255,0.5);\">##AA</span> <span style=\"background-color:rgba(104,104,255,0.5);\">already</span> <span style=\"background-color:rgba(104,104,255,0.5);\">has</span> <span style=\"background-color:rgba(104,104,255,0.5);\">incredibly</span> <span style=\"background-color:rgba(104,104,255,0.5);\">harsh</span> <span style=\"background-color:rgba(104,104,255,0.5);\">penalties</span> <span style=\"background-color:rgba(104,104,255,0.5);\">,</span> <span style=\"background-color:rgba(104,104,255,0.5);\">so</span> <span style=\"background-color:rgba(104,104,255,0.5);\">much</span> <span style=\"background-color:rgba(104,104,255,0.5);\">so</span> <span style=\"background-color:rgba(104,104,255,0.5);\">that</span> <span style=\"background-color:rgba(104,104,255,0.5);\">there</span> <span style=\"background-color:rgba(104,104,255,0.5);\">&#x27;</span> <span style=\"background-color:rgba(104,104,255,0.5);\">s</span> <span style=\"background-color:rgba(104,104,255,0.5);\">been</span> <span style=\"background-color:rgba(104,104,255,0.5);\">a</span> <span style=\"background-color:rgba(104,104,255,0.5);\">movement</span> <span style=\"background-color:rgba(104,104,255,0.5);\">for</span> <span style=\"background-color:rgba(104,104,255,0.5);\">years</span> <span style=\"background-color:rgba(104,104,255,0.5);\">to</span> <span style=\"background-color:rgba(104,104,255,0.5);\">reduce</span> <span style=\"background-color:rgba(104,104,255,0.5);\">them</span> <span style=\"background-color:rgba(255,255,255,0);\">.</span> <span style=\"background-color:rgba(255,255,255,0);\">And</span> <span style=\"background-color:rgba(104,104,255,1);\">how</span> <span style=\"background-color:rgba(104,104,255,0.5);\">the</span> <span style=\"background-color:rgba(104,104,255,0.5);\">administration</span> <span style=\"background-color:rgba(104,104,255,0.5);\">thinks</span> <span style=\"background-color:rgba(104,104,255,0.5);\">increasing</span> <span style=\"background-color:rgba(104,104,255,0.5);\">CF</span> <span style=\"background-color:rgba(104,104,255,0.5);\">##AA</span> <span style=\"background-color:rgba(104,104,255,0.5);\">penalties</span> <span style=\"background-color:rgba(104,104,255,0.5);\">is</span> <span style=\"background-color:rgba(104,104,255,0.5);\">going</span> <span style=\"background-color:rgba(104,104,255,0.5);\">to</span> <span style=\"background-color:rgba(104,104,255,0.5);\">worry</span> <span style=\"background-color:rgba(104,104,255,0.5);\">either</span> <span style=\"background-color:rgba(104,104,255,0.5);\">North</span> <span style=\"background-color:rgba(104,104,255,0.5);\">Korean</span> <span style=\"background-color:rgba(104,104,255,0.5);\">ha</span> <span style=\"background-color:rgba(104,104,255,0.5);\">##ckers</span> <span style=\"background-color:rgba(104,104,255,0.5);\">or</span> <span style=\"background-color:rgba(104,104,255,0.5);\">IS</span> <span style=\"background-color:rgba(104,104,255,0.5);\">##IS</span> <span style=\"background-color:rgba(104,104,255,0.5);\">s</span> <span style=\"background-color:rgba(104,104,255,0.5);\">##ym</span> <span style=\"background-color:rgba(104,104,255,0.5);\">##path</span> <span style=\"background-color:rgba(104,104,255,0.5);\">##izer</span> <span style=\"background-color:rgba(104,104,255,0.5);\">##s</span> <span style=\"background-color:rgba(104,104,255,0.5);\">(</span> <span style=\"background-color:rgba(104,104,255,0.5);\">or</span> <span style=\"background-color:rgba(104,104,255,0.5);\">more</span> <span style=\"background-color:rgba(104,104,255,0.5);\">likely</span> <span style=\"background-color:rgba(104,104,255,0.5);\">p</span> <span style=\"background-color:rgba(104,104,255,0.5);\">##rank</span> <span style=\"background-color:rgba(104,104,255,0.5);\">##sters</span> <span style=\"background-color:rgba(104,104,255,0.5);\">)</span> <span style=\"background-color:rgba(104,104,255,0.5);\">who</span> <span style=\"background-color:rgba(104,104,255,0.5);\">take</span> <span style=\"background-color:rgba(104,104,255,0.5);\">advantage</span> <span style=\"background-color:rgba(104,104,255,0.5);\">of</span> <span style=\"background-color:rgba(104,104,255,0.5);\">ne</span> <span style=\"background-color:rgba(104,104,255,0.5);\">##gli</span> <span style=\"background-color:rgba(104,104,255,0.5);\">##gent</span> <span style=\"background-color:rgba(104,104,255,0.5);\">password</span> <span style=\"background-color:rgba(104,104,255,0.5);\">practices</span> <span style=\"background-color:rgba(104,104,255,0.5);\">is</span> <span style=\"background-color:rgba(104,104,255,0.5);\">anyone</span> <span style=\"background-color:rgba(104,104,255,0.5);\">&#x27;</span> <span style=\"background-color:rgba(104,104,255,0.5);\">s</span> <span style=\"background-color:rgba(104,104,255,0.5);\">guess</span> <span style=\"background-color:rgba(255,255,255,0);\">.</span>"
      ],
      "text/plain": [
       "<IPython.core.display.HTML object>"
      ]
     },
     "metadata": {},
     "output_type": "display_data"
    },
    {
     "data": {
      "text/html": [
       "<span style=\"background-color:rgba(104,104,255,1);\">It</span> <span style=\"background-color:rgba(104,104,255,0.5);\">would</span> <span style=\"background-color:rgba(104,104,255,0.5);\">also</span> <span style=\"background-color:rgba(104,104,255,0.5);\">put</span> <span style=\"background-color:rgba(104,104,255,0.5);\">countless</span> <span style=\"background-color:rgba(104,104,255,0.5);\">security</span> <span style=\"background-color:rgba(104,104,255,0.5);\">researchers</span> <span style=\"background-color:rgba(104,104,255,0.5);\">at</span> <span style=\"background-color:rgba(104,104,255,0.5);\">further</span> <span style=\"background-color:rgba(104,104,255,0.5);\">risk</span> <span style=\"background-color:rgba(104,104,255,0.5);\">of</span> <span style=\"background-color:rgba(104,104,255,0.5);\">prosecution</span> <span style=\"background-color:rgba(104,104,255,0.5);\">,</span> <span style=\"background-color:rgba(104,104,255,0.5);\">the</span> <span style=\"background-color:rgba(104,104,255,0.5);\">exact</span> <span style=\"background-color:rgba(104,104,255,0.5);\">type</span> <span style=\"background-color:rgba(104,104,255,0.5);\">of</span> <span style=\"background-color:rgba(104,104,255,0.5);\">people</span> <span style=\"background-color:rgba(104,104,255,0.5);\">the</span> <span style=\"background-color:rgba(104,104,255,0.5);\">government</span> <span style=\"background-color:rgba(104,104,255,0.5);\">should</span> <span style=\"background-color:rgba(104,104,255,0.5);\">consulting</span> <span style=\"background-color:rgba(104,104,255,0.5);\">with</span> <span style=\"background-color:rgba(255,255,255,0);\">before</span> <span style=\"background-color:rgba(255,255,255,0);\">making</span> <span style=\"background-color:rgba(255,255,255,0);\">these</span> <span style=\"background-color:rgba(255,255,255,0);\">ill</span> <span style=\"background-color:rgba(255,255,255,0);\">-</span> <span style=\"background-color:rgba(255,255,255,0);\">thought</span> <span style=\"background-color:rgba(255,255,255,0);\">proposals</span> <span style=\"background-color:rgba(255,255,255,0);\">,</span> <span style=\"background-color:rgba(255,255,255,0);\">not</span> <span style=\"background-color:rgba(255,255,255,0);\">driving</span> <span style=\"background-color:rgba(255,255,255,0);\">underground</span> <span style=\"background-color:rgba(255,255,255,0);\">.</span>"
      ],
      "text/plain": [
       "<IPython.core.display.HTML object>"
      ]
     },
     "metadata": {},
     "output_type": "display_data"
    },
    {
     "data": {
      "text/html": [
       "<span style=\"background-color:rgba(255,255,255,0);\">At</span> <span style=\"background-color:rgba(255,255,255,0);\">the</span> <span style=\"background-color:rgba(255,255,255,0);\">same</span> <span style=\"background-color:rgba(255,255,255,0);\">time</span> <span style=\"background-color:rgba(255,255,255,0);\">,</span> <span style=\"background-color:rgba(123,255,108,1);\">Congress</span> <span style=\"background-color:rgba(123,255,108,0.5);\">has</span> <span style=\"background-color:rgba(123,255,108,0.5);\">re</span> <span style=\"background-color:rgba(123,255,108,0.5);\">-</span> <span style=\"background-color:rgba(123,255,108,0.5);\">introduced</span> <span style=\"background-color:rgba(123,255,108,0.5);\">their</span> <span style=\"background-color:rgba(123,255,108,0.5);\">annual</span> <span style=\"background-color:rgba(123,255,108,0.5);\">`</span> <span style=\"background-color:rgba(123,255,108,0.5);\">`</span> <span style=\"background-color:rgba(123,255,108,0.5);\">info</span> <span style=\"background-color:rgba(123,255,108,0.5);\">-</span> <span style=\"background-color:rgba(123,255,108,0.5);\">sharing</span> <span style=\"background-color:rgba(123,255,108,0.5);\">&#x27;</span> <span style=\"background-color:rgba(123,255,108,0.5);\">&#x27;</span> <span style=\"background-color:rgba(123,255,108,0.5);\">c</span> <span style=\"background-color:rgba(123,255,108,0.5);\">##y</span> <span style=\"background-color:rgba(123,255,108,0.5);\">##bers</span> <span style=\"background-color:rgba(123,255,108,0.5);\">##ec</span> <span style=\"background-color:rgba(123,255,108,0.5);\">##urity</span> <span style=\"background-color:rgba(123,255,108,0.5);\">bill</span> <span style=\"background-color:rgba(255,255,255,0);\">,</span> <span style=\"background-color:rgba(104,104,255,1);\">which</span> <span style=\"background-color:rgba(104,104,255,0.5);\">is</span> <span style=\"background-color:rgba(104,104,255,0.5);\">really</span> <span style=\"background-color:rgba(104,104,255,0.5);\">just</span> <span style=\"background-color:rgba(104,104,255,0.5);\">a</span> <span style=\"background-color:rgba(104,104,255,0.5);\">thin</span> <span style=\"background-color:rgba(104,104,255,0.5);\">##ly</span> <span style=\"background-color:rgba(104,104,255,0.5);\">-</span> <span style=\"background-color:rgba(104,104,255,0.5);\">veil</span> <span style=\"background-color:rgba(104,104,255,0.5);\">##ed</span> <span style=\"background-color:rgba(104,104,255,0.5);\">way</span> <span style=\"background-color:rgba(104,104,255,0.5);\">to</span> <span style=\"background-color:rgba(104,104,255,0.5);\">sip</span> <span style=\"background-color:rgba(104,104,255,0.5);\">##hon</span> <span style=\"background-color:rgba(104,104,255,0.5);\">off</span> <span style=\"background-color:rgba(104,104,255,0.5);\">more</span> <span style=\"background-color:rgba(104,104,255,0.5);\">of</span> <span style=\"background-color:rgba(104,104,255,0.5);\">Americans</span> <span style=\"background-color:rgba(104,104,255,0.5);\">&#x27;</span> <span style=\"background-color:rgba(104,104,255,0.5);\">private</span> <span style=\"background-color:rgba(104,104,255,0.5);\">data</span> <span style=\"background-color:rgba(104,104,255,0.5);\">without</span> <span style=\"background-color:rgba(104,104,255,0.5);\">court</span> <span style=\"background-color:rgba(104,104,255,0.5);\">oversight</span> <span style=\"background-color:rgba(255,255,255,0);\">.</span> <span style=\"background-color:rgba(255,114,104,1);\">As</span> <span style=\"background-color:rgba(255,114,104,0.5);\">E</span> <span style=\"background-color:rgba(255,114,104,0.5);\">##FF</span> <span style=\"background-color:rgba(255,114,104,0.5);\">put</span> <span style=\"background-color:rgba(255,114,104,0.5);\">it</span> <span style=\"background-color:rgba(255,114,104,0.5);\">,</span> <span style=\"background-color:rgba(255,114,104,0.5);\">the</span> <span style=\"background-color:rgba(255,114,104,0.5);\">bill</span> <span style=\"background-color:rgba(255,114,104,0.5);\">`</span> <span style=\"background-color:rgba(255,114,104,0.5);\">`</span> <span style=\"background-color:rgba(255,114,104,0.5);\">offered</span> <span style=\"background-color:rgba(255,114,104,0.5);\">new</span> <span style=\"background-color:rgba(255,114,104,0.5);\">authorities</span> <span style=\"background-color:rgba(255,114,104,0.5);\">that</span> <span style=\"background-color:rgba(255,114,104,0.5);\">could</span> <span style=\"background-color:rgba(255,114,104,0.5);\">be</span> <span style=\"background-color:rgba(255,114,104,0.5);\">abused</span> <span style=\"background-color:rgba(255,114,104,0.5);\">by</span> <span style=\"background-color:rgba(255,114,104,0.5);\">companies</span> <span style=\"background-color:rgba(255,114,104,0.5);\">to</span> <span style=\"background-color:rgba(255,114,104,0.5);\">spy</span> <span style=\"background-color:rgba(255,114,104,0.5);\">on</span> <span style=\"background-color:rgba(255,114,104,0.5);\">users</span> <span style=\"background-color:rgba(255,114,104,0.5);\">,</span> <span style=\"background-color:rgba(255,114,104,0.5);\">and</span> <span style=\"background-color:rgba(255,114,104,0.5);\">offered</span> <span style=\"background-color:rgba(255,114,104,0.5);\">broad</span> <span style=\"background-color:rgba(255,114,104,0.5);\">legal</span> <span style=\"background-color:rgba(255,114,104,0.5);\">immunity</span> <span style=\"background-color:rgba(255,114,104,0.5);\">for</span> <span style=\"background-color:rgba(255,114,104,0.5);\">disc</span> <span style=\"background-color:rgba(255,114,104,0.5);\">##los</span> <span style=\"background-color:rgba(255,114,104,0.5);\">##ing</span> <span style=\"background-color:rgba(255,114,104,0.5);\">the</span> <span style=\"background-color:rgba(255,114,104,0.5);\">information</span> <span style=\"background-color:rgba(255,114,104,0.5);\">obtained</span> <span style=\"background-color:rgba(255,114,104,0.5);\">with</span> <span style=\"background-color:rgba(255,114,104,0.5);\">the</span> <span style=\"background-color:rgba(255,114,104,0.5);\">government</span> <span style=\"background-color:rgba(255,255,255,0);\">.</span> <span style=\"background-color:rgba(255,114,104,1);\">Sometimes</span> <span style=\"background-color:rgba(255,114,104,0.5);\">they</span> <span style=\"background-color:rgba(255,114,104,0.5);\">even</span> <span style=\"background-color:rgba(255,114,104,0.5);\">granted</span> <span style=\"background-color:rgba(255,114,104,0.5);\">companies</span> <span style=\"background-color:rgba(255,114,104,0.5);\">the</span> <span style=\"background-color:rgba(255,114,104,0.5);\">ability</span> <span style=\"background-color:rgba(255,114,104,0.5);\">to</span> <span style=\"background-color:rgba(255,114,104,0.5);\">&#x27;</span> <span style=\"background-color:rgba(255,114,104,0.5);\">ha</span> <span style=\"background-color:rgba(255,114,104,0.5);\">##ck</span> <span style=\"background-color:rgba(255,114,104,0.5);\">back</span> <span style=\"background-color:rgba(255,114,104,0.5);\">&#x27;</span> <span style=\"background-color:rgba(255,114,104,0.5);\">.</span> <span style=\"background-color:rgba(255,114,104,0.5);\">.</span> <span style=\"background-color:rgba(255,114,104,0.5);\">.</span> <span style=\"background-color:rgba(255,114,104,0.5);\">a</span> <span style=\"background-color:rgba(255,114,104,0.5);\">perfect</span> <span style=\"background-color:rgba(255,114,104,0.5);\">storm</span> <span style=\"background-color:rgba(255,114,104,0.5);\">threatening</span> <span style=\"background-color:rgba(255,114,104,0.5);\">our</span> <span style=\"background-color:rgba(255,114,104,0.5);\">online</span> <span style=\"background-color:rgba(255,114,104,0.5);\">privacy</span> <span style=\"background-color:rgba(255,114,104,0.5);\">.</span> <span style=\"background-color:rgba(255,114,104,0.5);\">&#x27;</span> <span style=\"background-color:rgba(255,114,104,0.5);\">&#x27;</span> <span style=\"background-color:rgba(104,104,255,1);\">The</span> <span style=\"background-color:rgba(104,104,255,0.5);\">President</span> <span style=\"background-color:rgba(104,104,255,0.5);\">&#x27;</span> <span style=\"background-color:rgba(104,104,255,0.5);\">s</span> <span style=\"background-color:rgba(104,104,255,0.5);\">alternative</span> <span style=\"background-color:rgba(104,104,255,0.5);\">bill</span> <span style=\"background-color:rgba(104,104,255,0.5);\">is</span> <span style=\"background-color:rgba(104,104,255,0.5);\">a</span> <span style=\"background-color:rgba(104,104,255,0.5);\">bit</span> <span style=\"background-color:rgba(104,104,255,0.5);\">less</span> <span style=\"background-color:rgba(104,104,255,0.5);\">sweeping</span> <span style=\"background-color:rgba(104,104,255,0.5);\">,</span> <span style=\"background-color:rgba(104,104,255,0.5);\">but</span> <span style=\"background-color:rgba(104,104,255,0.5);\">not</span> <span style=\"background-color:rgba(104,104,255,0.5);\">by</span> <span style=\"background-color:rgba(104,104,255,0.5);\">much</span> <span style=\"background-color:rgba(255,255,255,0);\">.</span>"
      ],
      "text/plain": [
       "<IPython.core.display.HTML object>"
      ]
     },
     "metadata": {},
     "output_type": "display_data"
    },
    {
     "data": {
      "text/html": [
       "<span style=\"background-color:rgba(123,255,108,1);\">I</span> <span style=\"background-color:rgba(123,255,108,0.5);\">could</span> <span style=\"background-color:rgba(123,255,108,0.5);\">n</span> <span style=\"background-color:rgba(123,255,108,0.5);\">&#x27;</span> <span style=\"background-color:rgba(123,255,108,0.5);\">t</span> <span style=\"background-color:rgba(123,255,108,0.5);\">help</span> <span style=\"background-color:rgba(123,255,108,0.5);\">letting</span> <span style=\"background-color:rgba(123,255,108,0.5);\">out</span> <span style=\"background-color:rgba(123,255,108,0.5);\">a</span> <span style=\"background-color:rgba(123,255,108,0.5);\">low</span> <span style=\"background-color:rgba(123,255,108,0.5);\">whistle</span> <span style=\"background-color:rgba(123,255,108,0.5);\">of</span> <span style=\"background-color:rgba(123,255,108,0.5);\">admiration</span> <span style=\"background-color:rgba(255,255,255,0);\">when</span> <span style=\"background-color:rgba(123,255,108,1);\">I</span> <span style=\"background-color:rgba(123,255,108,0.5);\">read</span> <span style=\"background-color:rgba(123,255,108,0.5);\">news</span> <span style=\"background-color:rgba(123,255,108,0.5);\">that</span> <span style=\"background-color:rgba(123,255,108,0.5);\">the</span> <span style=\"background-color:rgba(123,255,108,0.5);\">cost</span> <span style=\"background-color:rgba(123,255,108,0.5);\">of</span> <span style=\"background-color:rgba(123,255,108,0.5);\">goods</span> <span style=\"background-color:rgba(123,255,108,0.5);\">stolen</span> <span style=\"background-color:rgba(123,255,108,0.5);\">in</span> <span style=\"background-color:rgba(123,255,108,0.5);\">the</span> <span style=\"background-color:rgba(123,255,108,0.5);\">average</span> <span style=\"background-color:rgba(123,255,108,0.5);\">shop</span> <span style=\"background-color:rgba(123,255,108,0.5);\">##lifting</span> <span style=\"background-color:rgba(123,255,108,0.5);\">incident</span> <span style=\"background-color:rgba(123,255,108,0.5);\">is</span> <span style=\"background-color:rgba(123,255,108,0.5);\">now</span> <span style=\"background-color:rgba(123,255,108,0.5);\">?</span> <span style=\"background-color:rgba(123,255,108,0.5);\">241</span> <span style=\"background-color:rgba(255,255,255,0);\">.</span> <span style=\"background-color:rgba(123,255,108,1);\">Bloody</span> <span style=\"background-color:rgba(123,255,108,0.5);\">hell</span> <span style=\"background-color:rgba(123,255,108,0.5);\">,</span> <span style=\"background-color:rgba(123,255,108,0.5);\">I</span> <span style=\"background-color:rgba(123,255,108,0.5);\">thought</span> <span style=\"background-color:rgba(255,255,255,0);\">,</span> <span style=\"background-color:rgba(255,255,255,0);\">as</span> <span style=\"background-color:rgba(123,255,108,1);\">I</span> <span style=\"background-color:rgba(123,255,108,0.5);\">tried</span> <span style=\"background-color:rgba(123,255,108,0.5);\">to</span> <span style=\"background-color:rgba(123,255,108,0.5);\">imagine</span> <span style=\"background-color:rgba(123,255,108,0.5);\">how</span> <span style=\"background-color:rgba(123,255,108,0.5);\">exactly</span> <span style=\"background-color:rgba(123,255,108,0.5);\">you</span> <span style=\"background-color:rgba(123,255,108,0.5);\">would</span> <span style=\"background-color:rgba(123,255,108,0.5);\">s</span> <span style=\"background-color:rgba(123,255,108,0.5);\">##tas</span> <span style=\"background-color:rgba(123,255,108,0.5);\">##h</span> <span style=\"background-color:rgba(123,255,108,0.5);\">that</span> <span style=\"background-color:rgba(123,255,108,0.5);\">many</span> <span style=\"background-color:rgba(123,255,108,0.5);\">eye</span> <span style=\"background-color:rgba(123,255,108,0.5);\">-</span> <span style=\"background-color:rgba(123,255,108,0.5);\">shadow</span> <span style=\"background-color:rgba(123,255,108,0.5);\">compact</span> <span style=\"background-color:rgba(123,255,108,0.5);\">##s</span> <span style=\"background-color:rgba(123,255,108,0.5);\">up</span> <span style=\"background-color:rgba(123,255,108,0.5);\">your</span> <span style=\"background-color:rgba(123,255,108,0.5);\">sleeve</span> <span style=\"background-color:rgba(255,255,255,0);\">.</span> <span style=\"background-color:rgba(255,255,255,0);\">You</span> <span style=\"background-color:rgba(255,255,255,0);\">see</span> <span style=\"background-color:rgba(255,255,255,0);\">for</span> <span style=\"background-color:rgba(255,255,255,0);\">a</span> <span style=\"background-color:rgba(255,255,255,0);\">few</span> <span style=\"background-color:rgba(255,255,255,0);\">months</span> <span style=\"background-color:rgba(255,255,255,0);\">back</span> <span style=\"background-color:rgba(255,255,255,0);\">when</span> <span style=\"background-color:rgba(123,255,108,1);\">I</span> <span style=\"background-color:rgba(123,255,108,0.5);\">was</span> <span style=\"background-color:rgba(123,255,108,0.5);\">16</span> <span style=\"background-color:rgba(123,255,108,0.5);\">,</span> <span style=\"background-color:rgba(123,255,108,0.5);\">shop</span> <span style=\"background-color:rgba(123,255,108,0.5);\">##lifting</span> <span style=\"background-color:rgba(123,255,108,0.5);\">was</span> <span style=\"background-color:rgba(123,255,108,0.5);\">the</span> <span style=\"background-color:rgba(123,255,108,0.5);\">hot</span> <span style=\"background-color:rgba(123,255,108,0.5);\">##test</span> <span style=\"background-color:rgba(123,255,108,0.5);\">c</span> <span style=\"background-color:rgba(123,255,108,0.5);\">##raze</span> <span style=\"background-color:rgba(123,255,108,0.5);\">at</span> <span style=\"background-color:rgba(123,255,108,0.5);\">my</span> <span style=\"background-color:rgba(123,255,108,0.5);\">suburban</span> <span style=\"background-color:rgba(123,255,108,0.5);\">girls</span> <span style=\"background-color:rgba(123,255,108,0.5);\">school</span> <span style=\"background-color:rgba(255,255,255,0);\">.</span> <span style=\"background-color:rgba(123,255,108,1);\">It</span> <span style=\"background-color:rgba(123,255,108,0.5);\">spread</span> <span style=\"background-color:rgba(123,255,108,0.5);\">like</span> <span style=\"background-color:rgba(123,255,108,0.5);\">a</span> <span style=\"background-color:rgba(123,255,108,0.5);\">virus</span> <span style=\"background-color:rgba(123,255,108,0.5);\">through</span> <span style=\"background-color:rgba(123,255,108,0.5);\">Year</span> <span style=\"background-color:rgba(123,255,108,0.5);\">11</span> <span style=\"background-color:rgba(123,255,108,0.5);\">,</span> <span style=\"background-color:rgba(123,255,108,0.5);\">to</span> <span style=\"background-color:rgba(123,255,108,0.5);\">the</span> <span style=\"background-color:rgba(123,255,108,0.5);\">point</span> <span style=\"background-color:rgba(123,255,108,0.5);\">that</span> <span style=\"background-color:rgba(123,255,108,0.5);\">students</span> <span style=\"background-color:rgba(123,255,108,0.5);\">would</span> <span style=\"background-color:rgba(123,255,108,0.5);\">pop</span> <span style=\"background-color:rgba(123,255,108,0.5);\">into</span> <span style=\"background-color:rgba(123,255,108,0.5);\">town</span> <span style=\"background-color:rgba(123,255,108,0.5);\">at</span> <span style=\"background-color:rgba(123,255,108,0.5);\">lunch</span> <span style=\"background-color:rgba(123,255,108,0.5);\">and</span> <span style=\"background-color:rgba(123,255,108,0.5);\">return</span> <span style=\"background-color:rgba(123,255,108,0.5);\">with</span> <span style=\"background-color:rgba(123,255,108,0.5);\">a</span> <span style=\"background-color:rgba(123,255,108,0.5);\">huge</span> <span style=\"background-color:rgba(123,255,108,0.5);\">cache</span> <span style=\"background-color:rgba(123,255,108,0.5);\">of</span> <span style=\"background-color:rgba(123,255,108,0.5);\">stolen</span> <span style=\"background-color:rgba(123,255,108,0.5);\">goods</span> <span style=\"background-color:rgba(255,255,255,0);\">.</span> <span style=\"background-color:rgba(123,255,108,1);\">They</span> <span style=\"background-color:rgba(123,255,108,0.5);\">&#x27;</span> <span style=\"background-color:rgba(123,255,108,0.5);\">d</span> <span style=\"background-color:rgba(123,255,108,0.5);\">up</span> <span style=\"background-color:rgba(123,255,108,0.5);\">##turn</span> <span style=\"background-color:rgba(123,255,108,0.5);\">the</span> <span style=\"background-color:rgba(123,255,108,0.5);\">contents</span> <span style=\"background-color:rgba(123,255,108,0.5);\">of</span> <span style=\"background-color:rgba(123,255,108,0.5);\">their</span> <span style=\"background-color:rgba(123,255,108,0.5);\">bags</span> <span style=\"background-color:rgba(123,255,108,0.5);\">on</span> <span style=\"background-color:rgba(123,255,108,0.5);\">to</span> <span style=\"background-color:rgba(123,255,108,0.5);\">a</span> <span style=\"background-color:rgba(123,255,108,0.5);\">desk</span> <span style=\"background-color:rgba(123,255,108,0.5);\">with</span> <span style=\"background-color:rgba(123,255,108,0.5);\">a</span> <span style=\"background-color:rgba(123,255,108,0.5);\">shout</span> <span style=\"background-color:rgba(123,255,108,0.5);\">of</span> <span style=\"background-color:rgba(123,255,108,0.5);\">:</span> <span style=\"background-color:rgba(123,255,108,0.5);\">Who</span> <span style=\"background-color:rgba(123,255,108,0.5);\">wants</span> <span style=\"background-color:rgba(123,255,108,0.5);\">what</span> <span style=\"background-color:rgba(123,255,108,0.5);\">?</span> <span style=\"background-color:rgba(104,104,255,1);\">Now</span> <span style=\"background-color:rgba(104,104,255,0.5);\">,</span> <span style=\"background-color:rgba(104,104,255,0.5);\">the</span> <span style=\"background-color:rgba(104,104,255,0.5);\">thieves</span> <span style=\"background-color:rgba(104,104,255,0.5);\">providing</span> <span style=\"background-color:rgba(104,104,255,0.5);\">the</span> <span style=\"background-color:rgba(104,104,255,0.5);\">British</span> <span style=\"background-color:rgba(104,104,255,0.5);\">Re</span> <span style=\"background-color:rgba(104,104,255,0.5);\">##tail</span> <span style=\"background-color:rgba(104,104,255,0.5);\">Consortium</span> <span style=\"background-color:rgba(104,104,255,0.5);\">with</span> <span style=\"background-color:rgba(104,104,255,0.5);\">a</span> <span style=\"background-color:rgba(104,104,255,0.5);\">headache</span> <span style=\"background-color:rgba(104,104,255,0.5);\">this</span> <span style=\"background-color:rgba(104,104,255,0.5);\">week</span> <span style=\"background-color:rgba(104,104,255,0.5);\">with</span> <span style=\"background-color:rgba(104,104,255,0.5);\">their</span> <span style=\"background-color:rgba(104,104,255,0.5);\">high</span> <span style=\"background-color:rgba(104,104,255,0.5);\">-</span> <span style=\"background-color:rgba(104,104,255,0.5);\">cost</span> <span style=\"background-color:rgba(104,104,255,0.5);\">haul</span> <span style=\"background-color:rgba(104,104,255,0.5);\">##s</span> <span style=\"background-color:rgba(104,104,255,0.5);\">are</span> <span style=\"background-color:rgba(104,104,255,0.5);\">more</span> <span style=\"background-color:rgba(104,104,255,0.5);\">likely</span> <span style=\"background-color:rgba(104,104,255,0.5);\">to</span> <span style=\"background-color:rgba(104,104,255,0.5);\">be</span> <span style=\"background-color:rgba(104,104,255,0.5);\">professional</span> <span style=\"background-color:rgba(104,104,255,0.5);\">`</span> <span style=\"background-color:rgba(104,104,255,0.5);\">`</span> <span style=\"background-color:rgba(104,104,255,0.5);\">steal</span> <span style=\"background-color:rgba(104,104,255,0.5);\">to</span> <span style=\"background-color:rgba(104,104,255,0.5);\">order</span> <span style=\"background-color:rgba(104,104,255,0.5);\">&#x27;</span> <span style=\"background-color:rgba(104,104,255,0.5);\">&#x27;</span> <span style=\"background-color:rgba(104,104,255,0.5);\">shop</span> <span style=\"background-color:rgba(104,104,255,0.5);\">##lift</span> <span style=\"background-color:rgba(104,104,255,0.5);\">##ers</span> <span style=\"background-color:rgba(104,104,255,0.5);\">,</span> <span style=\"background-color:rgba(104,104,255,0.5);\">not</span> <span style=\"background-color:rgba(104,104,255,0.5);\">a</span> <span style=\"background-color:rgba(104,104,255,0.5);\">gang</span> <span style=\"background-color:rgba(104,104,255,0.5);\">of</span> <span style=\"background-color:rgba(104,104,255,0.5);\">f</span> <span style=\"background-color:rgba(104,104,255,0.5);\">##eck</span> <span style=\"background-color:rgba(104,104,255,0.5);\">##less</span> <span style=\"background-color:rgba(104,104,255,0.5);\">teenage</span> <span style=\"background-color:rgba(104,104,255,0.5);\">girls</span> <span style=\"background-color:rgba(255,255,255,0);\">.</span> <span style=\"background-color:rgba(255,255,255,0);\">Nevertheless</span> <span style=\"background-color:rgba(255,255,255,0);\">,</span> <span style=\"background-color:rgba(123,255,108,1);\">it</span> <span style=\"background-color:rgba(123,255,108,0.5);\">instantly</span> <span style=\"background-color:rgba(123,255,108,0.5);\">brought</span> <span style=\"background-color:rgba(123,255,108,0.5);\">back</span> <span style=\"background-color:rgba(123,255,108,0.5);\">that</span> <span style=\"background-color:rgba(123,255,108,0.5);\">rush</span> <span style=\"background-color:rgba(123,255,108,0.5);\">of</span> <span style=\"background-color:rgba(123,255,108,0.5);\">adrenaline</span> <span style=\"background-color:rgba(123,255,108,0.5);\">that</span> <span style=\"background-color:rgba(123,255,108,0.5);\">always</span> <span style=\"background-color:rgba(123,255,108,0.5);\">follows</span> <span style=\"background-color:rgba(123,255,108,0.5);\">a</span> <span style=\"background-color:rgba(123,255,108,0.5);\">bout</span> <span style=\"background-color:rgba(123,255,108,0.5);\">of</span> <span style=\"background-color:rgba(123,255,108,0.5);\">five</span> <span style=\"background-color:rgba(123,255,108,0.5);\">-</span> <span style=\"background-color:rgba(123,255,108,0.5);\">finger</span> <span style=\"background-color:rgba(123,255,108,0.5);\">discount</span> <span style=\"background-color:rgba(123,255,108,0.5);\">`</span> <span style=\"background-color:rgba(123,255,108,0.5);\">`</span> <span style=\"background-color:rgba(123,255,108,0.5);\">shopping</span> <span style=\"background-color:rgba(123,255,108,0.5);\">&#x27;</span> <span style=\"background-color:rgba(123,255,108,0.5);\">&#x27;</span> <span style=\"background-color:rgba(255,255,255,0);\">.</span>"
      ],
      "text/plain": [
       "<IPython.core.display.HTML object>"
      ]
     },
     "metadata": {},
     "output_type": "display_data"
    }
   ],
   "source": [
    "for i in range(5):\n",
    "    show(tokens, tl, i, colors)\n"
   ]
  },
  {
   "cell_type": "code",
   "execution_count": 27,
   "metadata": {},
   "outputs": [],
   "source": [
    "# output = []\n",
    "# for tks, lbs in zip(tokens, pred):\n",
    "#     sent = []\n",
    "#     BIOs = []\n",
    "#     for tk, lb in zip(tks, lbs):\n",
    "#         if tk in ['[CLS]', '[SEP]', '[PAD]']:\n",
    "#             continue\n",
    "#         sent.append(tk)\n",
    "#         BIOs.append(id2tag[lb])\n",
    "#     output.append(sent)\n",
    "#     output.append(BIOs)\n",
    "#     output.append([])\n",
    "# #     print('\\t'.join(sent))\n",
    "# #     print('\\t'.join(BIOs))\n",
    "# #     print()\n",
    "\n",
    "# import csv\n",
    "\n",
    "# with open(f'inference/{name}.csv', 'w') as f:\n",
    "#     writer = csv.writer(f)\n",
    "#     for row in output:\n",
    "#         writer.writerow(row)"
   ]
  },
  {
   "cell_type": "code",
   "execution_count": 28,
   "metadata": {
    "scrolled": false
   },
   "outputs": [
    {
     "name": "stdout",
     "output_type": "stream",
     "text": [
      "DistilBertForTokenClassification(\n",
      "  (distilbert): DistilBertModel(\n",
      "    (embeddings): Embeddings(\n",
      "      (word_embeddings): Embedding(28996, 768, padding_idx=0)\n",
      "      (position_embeddings): Embedding(512, 768)\n",
      "      (LayerNorm): LayerNorm((768,), eps=1e-12, elementwise_affine=True)\n",
      "      (dropout): Dropout(p=0.1, inplace=False)\n",
      "    )\n",
      "    (transformer): Transformer(\n",
      "      (layer): ModuleList(\n",
      "        (0): TransformerBlock(\n",
      "          (attention): MultiHeadSelfAttention(\n",
      "            (dropout): Dropout(p=0.1, inplace=False)\n",
      "            (q_lin): Linear(in_features=768, out_features=768, bias=True)\n",
      "            (k_lin): Linear(in_features=768, out_features=768, bias=True)\n",
      "            (v_lin): Linear(in_features=768, out_features=768, bias=True)\n",
      "            (out_lin): Linear(in_features=768, out_features=768, bias=True)\n",
      "          )\n",
      "          (sa_layer_norm): LayerNorm((768,), eps=1e-12, elementwise_affine=True)\n",
      "          (ffn): FFN(\n",
      "            (dropout): Dropout(p=0.1, inplace=False)\n",
      "            (lin1): Linear(in_features=768, out_features=3072, bias=True)\n",
      "            (lin2): Linear(in_features=3072, out_features=768, bias=True)\n",
      "          )\n",
      "          (output_layer_norm): LayerNorm((768,), eps=1e-12, elementwise_affine=True)\n",
      "        )\n",
      "        (1): TransformerBlock(\n",
      "          (attention): MultiHeadSelfAttention(\n",
      "            (dropout): Dropout(p=0.1, inplace=False)\n",
      "            (q_lin): Linear(in_features=768, out_features=768, bias=True)\n",
      "            (k_lin): Linear(in_features=768, out_features=768, bias=True)\n",
      "            (v_lin): Linear(in_features=768, out_features=768, bias=True)\n",
      "            (out_lin): Linear(in_features=768, out_features=768, bias=True)\n",
      "          )\n",
      "          (sa_layer_norm): LayerNorm((768,), eps=1e-12, elementwise_affine=True)\n",
      "          (ffn): FFN(\n",
      "            (dropout): Dropout(p=0.1, inplace=False)\n",
      "            (lin1): Linear(in_features=768, out_features=3072, bias=True)\n",
      "            (lin2): Linear(in_features=3072, out_features=768, bias=True)\n",
      "          )\n",
      "          (output_layer_norm): LayerNorm((768,), eps=1e-12, elementwise_affine=True)\n",
      "        )\n",
      "        (2): TransformerBlock(\n",
      "          (attention): MultiHeadSelfAttention(\n",
      "            (dropout): Dropout(p=0.1, inplace=False)\n",
      "            (q_lin): Linear(in_features=768, out_features=768, bias=True)\n",
      "            (k_lin): Linear(in_features=768, out_features=768, bias=True)\n",
      "            (v_lin): Linear(in_features=768, out_features=768, bias=True)\n",
      "            (out_lin): Linear(in_features=768, out_features=768, bias=True)\n",
      "          )\n",
      "          (sa_layer_norm): LayerNorm((768,), eps=1e-12, elementwise_affine=True)\n",
      "          (ffn): FFN(\n",
      "            (dropout): Dropout(p=0.1, inplace=False)\n",
      "            (lin1): Linear(in_features=768, out_features=3072, bias=True)\n",
      "            (lin2): Linear(in_features=3072, out_features=768, bias=True)\n",
      "          )\n",
      "          (output_layer_norm): LayerNorm((768,), eps=1e-12, elementwise_affine=True)\n",
      "        )\n",
      "        (3): TransformerBlock(\n",
      "          (attention): MultiHeadSelfAttention(\n",
      "            (dropout): Dropout(p=0.1, inplace=False)\n",
      "            (q_lin): Linear(in_features=768, out_features=768, bias=True)\n",
      "            (k_lin): Linear(in_features=768, out_features=768, bias=True)\n",
      "            (v_lin): Linear(in_features=768, out_features=768, bias=True)\n",
      "            (out_lin): Linear(in_features=768, out_features=768, bias=True)\n",
      "          )\n",
      "          (sa_layer_norm): LayerNorm((768,), eps=1e-12, elementwise_affine=True)\n",
      "          (ffn): FFN(\n",
      "            (dropout): Dropout(p=0.1, inplace=False)\n",
      "            (lin1): Linear(in_features=768, out_features=3072, bias=True)\n",
      "            (lin2): Linear(in_features=3072, out_features=768, bias=True)\n",
      "          )\n",
      "          (output_layer_norm): LayerNorm((768,), eps=1e-12, elementwise_affine=True)\n",
      "        )\n",
      "        (4): TransformerBlock(\n",
      "          (attention): MultiHeadSelfAttention(\n",
      "            (dropout): Dropout(p=0.1, inplace=False)\n",
      "            (q_lin): Linear(in_features=768, out_features=768, bias=True)\n",
      "            (k_lin): Linear(in_features=768, out_features=768, bias=True)\n",
      "            (v_lin): Linear(in_features=768, out_features=768, bias=True)\n",
      "            (out_lin): Linear(in_features=768, out_features=768, bias=True)\n",
      "          )\n",
      "          (sa_layer_norm): LayerNorm((768,), eps=1e-12, elementwise_affine=True)\n",
      "          (ffn): FFN(\n",
      "            (dropout): Dropout(p=0.1, inplace=False)\n",
      "            (lin1): Linear(in_features=768, out_features=3072, bias=True)\n",
      "            (lin2): Linear(in_features=3072, out_features=768, bias=True)\n",
      "          )\n",
      "          (output_layer_norm): LayerNorm((768,), eps=1e-12, elementwise_affine=True)\n",
      "        )\n",
      "        (5): TransformerBlock(\n",
      "          (attention): MultiHeadSelfAttention(\n",
      "            (dropout): Dropout(p=0.1, inplace=False)\n",
      "            (q_lin): Linear(in_features=768, out_features=768, bias=True)\n",
      "            (k_lin): Linear(in_features=768, out_features=768, bias=True)\n",
      "            (v_lin): Linear(in_features=768, out_features=768, bias=True)\n",
      "            (out_lin): Linear(in_features=768, out_features=768, bias=True)\n",
      "          )\n",
      "          (sa_layer_norm): LayerNorm((768,), eps=1e-12, elementwise_affine=True)\n",
      "          (ffn): FFN(\n",
      "            (dropout): Dropout(p=0.1, inplace=False)\n",
      "            (lin1): Linear(in_features=768, out_features=3072, bias=True)\n",
      "            (lin2): Linear(in_features=3072, out_features=768, bias=True)\n",
      "          )\n",
      "          (output_layer_norm): LayerNorm((768,), eps=1e-12, elementwise_affine=True)\n",
      "        )\n",
      "      )\n",
      "    )\n",
      "  )\n",
      "  (dropout): Dropout(p=0.1, inplace=False)\n",
      "  (classifier): Linear(in_features=768, out_features=13, bias=True)\n",
      ")\n"
     ]
    }
   ],
   "source": [
    "print(model)"
   ]
  },
  {
   "cell_type": "code",
   "execution_count": null,
   "metadata": {},
   "outputs": [],
   "source": []
  }
 ],
 "metadata": {
  "kernelspec": {
   "display_name": "Python 3",
   "language": "python",
   "name": "python3"
  },
  "language_info": {
   "codemirror_mode": {
    "name": "ipython",
    "version": 3
   },
   "file_extension": ".py",
   "mimetype": "text/x-python",
   "name": "python",
   "nbconvert_exporter": "python",
   "pygments_lexer": "ipython3",
   "version": "3.6.9"
  }
 },
 "nbformat": 4,
 "nbformat_minor": 2
}
